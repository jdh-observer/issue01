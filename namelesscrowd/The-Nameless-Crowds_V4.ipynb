{
 "cells": [
  {
   "cell_type": "code",
   "execution_count": 1,
   "metadata": {
    "tags": [
     "hermeneutics"
    ]
   },
   "outputs": [],
   "source": [
    "%matplotlib inline\n",
    "import pandas as pd\n",
    "import numpy as np\n",
    "import matplotlib.pyplot as plt\n",
    "plt.style.use('seaborn-whitegrid')\n",
    "\n",
    "import seaborn as sns\n",
    "sns.set()\n",
    "\n",
    "import scipy\n",
    "import scipy.stats as stats\n",
    "from scipy.stats import chi2\n",
    "from scipy.stats import chi2_contingency"
   ]
  },
  {
   "cell_type": "code",
   "execution_count": 2,
   "metadata": {
    "tags": [
     "hermeneutics"
    ]
   },
   "outputs": [],
   "source": [
    "noms_foule_df = pd.read_csv(\"names-crowd_data.csv\", sep=\";\", encoding=\"latin1\")"
   ]
  },
  {
   "cell_type": "code",
   "execution_count": 3,
   "metadata": {
    "tags": [
     "hermeneutics"
    ]
   },
   "outputs": [],
   "source": [
    "# Using markdown while displaying the CSV output\n",
    "from IPython.display import Markdown, display\n",
    "def printmd(string):\n",
    "    display(Markdown(string))"
   ]
  },
  {
   "cell_type": "code",
   "execution_count": 4,
   "metadata": {
    "tags": [
     "hermeneutics"
    ]
   },
   "outputs": [],
   "source": [
    "import re\n",
    "# Functions to highlight selected terms while displaying the CSV output\n",
    "def bold_type(match):\n",
    "    return(\"__\" + match.group() + \"__\")\n",
    "\n",
    "def highlight_lex(string):\n",
    "    p = re.compile(r\"\\b(vulgus|vulgum|vulgi|vulgo|turba|turbam|turbae|multitudo|multitudinem|multitudinis|multitudine)(que|ve)?\\b\", re.I)\n",
    "    return p.sub(bold_type, string)\n",
    "\n",
    "def highlight_esse(string):\n",
    "    p = re.compile(r\"\\b(est|fuit|fuerat|erat|fuerit|erit|esse|fuisse|sit|fuisset)(que|ve)?\\b\", re.I)\n",
    "    return p.sub(bold_type, string)"
   ]
  },
  {
   "cell_type": "code",
   "execution_count": 5,
   "metadata": {
    "tags": [
     "hermeneutics"
    ]
   },
   "outputs": [],
   "source": [
    "# Number of words in each Tacitean subcorpus\n",
    "nbr_words_ann = 88905\n",
    "nbr_words_hist = 51495\n",
    "nbr_words_opusc = 21562"
   ]
  },
  {
   "cell_type": "code",
   "execution_count": 6,
   "metadata": {
    "tags": [
     "hermeneutics"
    ]
   },
   "outputs": [],
   "source": [
    "# Chi-squared test functions\n",
    "def p_value_test(df_index, df_columns):\n",
    "    data_crosstab = pd.crosstab(df_index, df_columns, margins=True, margins_name=\"tot\")\n",
    "    z = 0\n",
    "    pval = 0\n",
    "\n",
    "    # Chi-squared calculation (z)\n",
    "    for x in df_columns.unique():\n",
    "        for y in df_index.unique():\n",
    "            O = data_crosstab[x][y]\n",
    "            E = data_crosstab[x][\"tot\"] * data_crosstab[\"tot\"][y] / data_crosstab[\"tot\"][\"tot\"]\n",
    "            z += (O-E)**2/E\n",
    "     \n",
    "    \n",
    "    dof = (len(data_crosstab.columns) -2) * (len(data_crosstab.index) -2)\n",
    "\n",
    "    pval = 1 - chi2.cdf(z, dof)\n",
    "    \n",
    "    printmd(\"P-value for these variables is __\" + str(pval) + \"__.\")\n",
    "    \n",
    "def distribution_p_value(lemma):\n",
    "    observed_freq = [[((repartition_corpus.lemme == lemma) & (repartition_corpus.oeuvre == \"ann\")).sum(), nbr_words_ann],\n",
    "            [((repartition_corpus.lemme == lemma) & (repartition_corpus.oeuvre == \"hist\")).sum(), nbr_words_hist],\n",
    "           [((repartition_corpus.lemme == lemma) & (repartition_corpus.oeuvre == \"opusc\")).sum(), nbr_words_opusc]]\n",
    "    df_base = pd.DataFrame(observed_freq, index = ['Ann', 'Hist', 'opusc'], columns = ['occ', 'n-occ'])\n",
    "\n",
    "    df_observed = df_base.copy()\n",
    "    df_observed.loc[\"column_total\"] = df_observed.sum(axis=0)\n",
    "    df_observed.loc[:, \"row_total\"] = df_observed.sum(axis=1)\n",
    "\n",
    "    for x in df_observed.columns:\n",
    "        df_observed[x] = pd.to_numeric(df_observed[x], downcast=\"float\")\n",
    "\n",
    "    df_expected = df_observed.copy()\n",
    "    tot = df_observed[\"row_total\"][\"column_total\"]\n",
    "\n",
    "    for x in df_expected.index[0:-1]:\n",
    "        for y in df_expected.columns[0:-1]:\n",
    "            v = (((df_observed.at[x, \"row_total\"]) * (df_observed.at[\"column_total\", y]))/tot).round(4) \n",
    "            df_expected.at[x,y] = float(v)\n",
    "\n",
    "    df_expected = df_expected.iloc[[0, 1, 2], [0, 1]]\n",
    "\n",
    "    tstat = np.sum(((df_base - df_expected)**2 / df_expected).values)\n",
    "\n",
    "    dof = (len(df_base.columns) -1) * (len(df_base.index) -1)\n",
    "\n",
    "    pval = 1-chi2.cdf(tstat, dof)\n",
    "\n",
    "    return pval"
   ]
  },
  {
   "cell_type": "markdown",
   "metadata": {
    "tags": [
     "title"
    ]
   },
   "source": [
    "# The Nameless Crowds: Using Quantitative Data and Digital Tools to Study the Ancient Vocabulary of the Crowd in Tacitus"
   ]
  },
  {
   "cell_type": "markdown",
   "metadata": {
    "tags": [
     "contributor"
    ]
   },
   "source": [
    "Louis Autin [![orcid](https://orcid.org/sites/default/files/images/orcid_16x16.png)](https://orcid.org/0000-0002-1716-1236)\n",
    "EA 4081 \"Rome et ses Renaissances\", Sorbonne-Université, UFR de latin\n"
   ]
  },
  {
   "cell_type": "code",
   "execution_count": null,
   "metadata": {
    "tags": [
     "cover"
    ]
   },
   "outputs": [],
   "source": [
    "from IPython.display import Image\n",
    "\n",
    "display(Image(\"Zola_sortie.jpg\"))"
   ]
  },
  {
   "cell_type": "markdown",
   "metadata": {
    "tags": [
     "keywords"
    ]
   },
   "source": [
    "Crowds, Tacitus, Lexicology, Phraseology, Political History, Principate"
   ]
  },
  {
   "cell_type": "markdown",
   "metadata": {
    "tags": [
     "abstract"
    ]
   },
   "source": [
    "Combining quantitative and qualitative information, this paper investigates from a lexicological and socio-historical perspective the vocabulary of the crowd in Tacitus, a Roman historian of the 1st century AD. Unlike most of Latin authors, Tacitus uses predominantly the word _vulgus_ in comparison to _turba_, _multitudo_ and the other nouns referring to urban and military crowds. The singularity of the Tacitean _vulgus_ is not only quantitative, but also qualitative, especially when it comes to its semantic nuances and combinatorial profile. Focusing one after the other in a contrastive way on the phenomenological, sociological and ethological dimensions of the crowds depicted by Tacitus, we show that, while _turba_ and _multitudo_ refer to strongly spatialized crowds, whose social composition does not seem to be a strong defining factor, usually without any own opinion or political autonomy, _vulgus_ refers in Tacitus to a “popular” crowd, defined by its ability to vocalize its own feelings and opinion and to engage in dialogue, or even conflict, with the ruling elites. The _vulgus_ thus seems to become, in Tacitus’ narrative, a new political actor of the imperial regime. Contrary to the institutional _populus_, the _vulgus_ as political actor does not express its opinion through the ordinary political institutions that were traditionally controlled by the Roman aristocracy (the _comitia_ for instance), but proceeds to do so through vocalizations in non-institutional (albeit deeply political) contexts."
   ]
  },
  {
   "cell_type": "markdown",
   "metadata": {},
   "source": [
    "> Πληθὺν δ᾽ οὐκ ἂν ἐγὼ μυθήσομαι οὐδ᾽ ὀνομήνω, / οὐδ᾽ εἴ μοι δέκα μὲν γλῶσσαι, δέκα δὲ στόματ᾽ εἶεν, / φωνὴ δ᾽ ἄρρηκτος, χάλκεον δέ μοι ἦτορ ἐνείη. (Homer, _Iliad_, 2.488-490)\n",
    "\n",
    "> « But the multitude I could not tell or name, not even if ten tongues were mine and ten mouths and a voice unwearying, and the heart within me were of bronze. » (Homer. _Iliad_, Volume I: Books 1-12, translated by A. T. Murray, Loeb Classical Library, 1924)"
   ]
  },
  {
   "cell_type": "markdown",
   "metadata": {},
   "source": [
    "## 1. Introduction"
   ]
  },
  {
   "cell_type": "markdown",
   "metadata": {},
   "source": [
    "### 1.1 Crowds in Classics and Ancient History"
   ]
  },
  {
   "cell_type": "markdown",
   "metadata": {},
   "source": [
    "Crowd behaviour in the Antiquity have received little scholarly attention, even though ancient authors (prose writers as well as poets) very regularly mention mass phenomena. The major works of the last fifty years on the Roman _plebs_, which we owe to <cite data-cite=\"2272257/43U2KCKU\"></cite>, <cite data-cite=\"2272257/ZRNV65AA\"></cite> or <cite data-cite=\"2272257/CJFMAH9S\"></cite>, focus on the political culture of the sub-equestrian segments of Roman society, without centrally examining crowd movements. Few historical studies address head-on the question of the definition of crowds in ancient societies: see some brief assessments in (<cite data-cite=\"2272257/C6JA85NG\"></cite> pp. 7-16, <cite data-cite=\"2272257/R4D2I72H\"></cite> pp. 17-18, or more recently <cite data-cite=\"2272257/JHK45JAI\"></cite>, and on the side of literary studies, the panoramas of <cite data-cite=\"2272257/83M575BB\"></cite> or <cite data-cite=\"2272257/9HJ9HQUA\"></cite> and Engel’s still useful monograph on collective psychology in Tacitus <cite data-cite=\"2272257/GJAK9283\"></cite>. Some insights can be found in studies on close related themes, like R. Ash’s monograph on the behaviour of the legions in Tacitus’ _Histories_ <cite data-cite=\"2272257/4BAEJ45C\"></cite>."
   ]
  },
  {
   "cell_type": "markdown",
   "metadata": {},
   "source": [
    "This scarcity can be explained by the little scientific value given to the concept of crowd in historical studies: the notion seems to be irremediably linked to the psychological, not to say \"psychopathological\", approach that characterized its emergence in the scientific field at the end of the 19th century. The famous studies of Le Bon and Tarde, whose ideological positioning as much as results are unanimously rejected today (cf. <cite data-cite=\"2272257/7N2TV7TF\"></cite>), have cast doubt on the operability of the notions of \"crowd\" or \"mass\", which hardly find any echo today elsewhere than in the field of social psychology (see <cite data-cite=\"2272257/U8PJH2ZE\"></cite>). Moreover, scholars working on ancient societies now generally resort to the tools of the history from below, which leave aside the question of group psychology to focus on the social life of actors and the (economic, social, political) motives of collective action: among several examples, see the recent collective publication of the research group [“The Subaltern and the Popular in Antiquity”](http://gsppa.fflch.usp.br/en/presentation, \"Link to the project presentation on the University of São Paulo website\") with the forthcoming <cite data-cite=\"2272257/NCMIITUA\"></cite>, and, on our topic, but on a later period, the recent thorough analysis of <cite data-cite=\"2272257/5PDRBT4Y\"></cite>."
   ]
  },
  {
   "cell_type": "markdown",
   "metadata": {},
   "source": [
    "This relative lack of interest is often accompanied by a distrust of the vocabulary of ancient authors. The well-known aristocratic bias of our sources often leads to the rejection of any in-depth study of the vocabulary relating to crowds, and in the first place the various denominations they receive in the texts. Since Z. Yavetz, an eminent specialist in the Roman _plebs_, it is considered that the lexical variations that authors use to designate crowds are essentially explained by the concern for _variatio_ or by the moral colour they seek to give to a collective demonstration. To quote three passages of Yavetz's study (<cite data-cite=\"2272257/43U2KCKU\"></cite>, p. 142, p. 147 & p. 149 ) :"
   ]
  },
  {
   "cell_type": "markdown",
   "metadata": {},
   "source": [
    "> The ancients were apparently not precise in their use of these terms, and as far as the present writer is aware no method has yet been suggested whereby each and every term may be defined according to legal or sociological principles."
   ]
  },
  {
   "cell_type": "markdown",
   "metadata": {},
   "source": [
    "> It has been stated above that the term _vulgus_ is expressive of an outstandingly derogatory attitude. The _vulgus_ implies the ordinary public that is aggressive, fickle, superstitious, destitute of everything spiritual and material. It is consequently easy to mislead them and incite them to rebellion. When the ancients use the expression _vulgus_, they not only convey a fact but also an attitude."
   ]
  },
  {
   "cell_type": "markdown",
   "metadata": {},
   "source": [
    "> It seems that most of the above-mentioned expressions are used indiscriminately. It should\n",
    "not, however, be forgotten that when one says that _vulgus_, ὄχλος, ὅμιλος, or _turba_ have a derogatory significance, it means that for the ancients, and especially Tacitus, the criterion is not legal or social, but moral (his own moral criterion, naturally)."
   ]
  },
  {
   "cell_type": "markdown",
   "metadata": {},
   "source": [
    "Such a definitive judgement, which affirms the interchangeable nature of the vocabulary pertaining to crowds and masses, has been widely accepted by later historical studies (in <cite data-cite=\"2272257/A6W646VH\"></cite> pp. 54-63 or <cite data-cite=\"2272257/CJFMAH9S\"></cite> pp. 489-497, for example), and even radicalized by some, like J. P. Toner, who states categorically (<cite data-cite=\"2272257/S7VZT2RU\"></cite> p. 4): “Discussions about the exact meanings of Latin terms such as _populus_, _plebs_, _turba_, _multitudo_ or _vulgus_ are in danger of missing the point. It is hardly surprising that the elite failed to express themselves more clearly when talking about the non-elite because, to put it crudely, they didn’t give a damn about them.” The same tendency can be seen in <cite data-cite=\"2272257/UYLXPK28\"></cite> pp. 24-68, a more thorough study of the term _plebs_ in the literary texts, whose conclusions yet maintain the idea that the word used by ancient authors to refer to the urban masses does not really have one clear and definite received meaning."
   ]
  },
  {
   "cell_type": "markdown",
   "metadata": {},
   "source": [
    "However, rare lexicological studies have shown how inspiring and interesting a comprehensive analysis of the vocabulary of the crowd could prove to be in order to understand the evolution of mental representations on this topic. These studies usually focus on shorter corpora (one author), like Seneca <cite data-cite=\"2272257/H2UPRPIW\"></cite> or Suetonius <cite data-cite=\"2272257/ZXRJDEUD\"></cite>. Regarding Tacitus, R. F. Newbold’s study on the Tacitean _vulgus_ <cite data-cite=\"2272257/CXIXUP3N\"></cite>, which rightly emphasizes the importance of lexicological analysis, proves yet disappointing: apart from its brevity, the occurrences are not detailed, which does not allow any data control and, more generally, denies any close reading. This is all the more problematic as the author’s heuristic categories are not self-evident: for example, why and how the distinction is made (p. 86) between the _vulgus_ referring to the whole population of Rome, to the lower classes only, to those same classes not constituted as “a crowd or a mob”, or to “public opinion anywhere” (an undefined concept, while far from self-evident, cf. <cite data-cite=\"2272257/24VKMX7M\"></cite>), remains unclear. Moreover, as we will try to demonstrate here, a study of the _vulgus_ in Tacitus cannot do without a confrontation with other denominations of the crowd (_turba_, _multitudo_), nor a comparison, at least qualitative, with more institutional designations of the civic body such as _populus_ and _plebs_. This is what I propose to do here, by summarizing and enriching through digital tools the reflections presented in the first part of my doctoral thesis (<cite data-cite=\"2272257/S3N9BDMT\"></cite> pp. 17-117)."
   ]
  },
  {
   "cell_type": "markdown",
   "metadata": {},
   "source": [
    "### 1.2 Method and issues addressed "
   ]
  },
  {
   "cell_type": "markdown",
   "metadata": {},
   "source": [
    "In this scientific context, philologists can provide a new impetus by attempting to uncover the thought patterns of ancient authors, without, however, pronouncing on their own historical value. Indeed, if the notion of crowd no longer seems to have scientific relevance, the frequency with which crowd phenomena appear in ancient literature shows their centrality in ancient representations of collective action. What I propose to do in this paper is to shed light on “Tacitus’ sociology” rather than on the “sociology of the crowds” itself, to paraphrase V. Hunter’s words on Thucydides <cite data-cite=\"2272257/5P22L76A\"></cite>. My thesis here is that the clearly psychologizing colour of the notion of crowd in Tacitus, as well as the discrediting vision that is usually associated with it, is not incompatible with the use of a precise vocabulary, itself shaped by Tacitus’ subtle analysis of crowd behaviour on the sociological and political levels. I will thus engage in the work of disintegration recommended by E. Flaig who, nearly thirty years ago, showed the permanent gap, among ancient historians, between the topical discourse against subaltern groups and the reality of the narrative, which is often more “objective” (cf. <cite data-cite=\"2272257/8HNFM5RL\"></cite>, first edition 1992)."
   ]
  },
  {
   "cell_type": "markdown",
   "metadata": {},
   "source": [
    "This study will focus on the surviving works of Tacitus, a Roman historian of the late 1st/early 2nd  century AD. His two most important historiographical works, the _Annals_ and the _Histories_, provide a most valuable testimony for the understanding of the early Empire, from the death of Augustus in 14 AD until the accession to power of the Flavians following the civil war of AD 68-69, with substantial lacunae due to the transmission of texts. To these major works, three opuscules should be added, the _Life of Agricola_, which preserves a significant record of Domitian’s reign, as well as the _Germania_ and the _Dialogue on Oratory_, which do not belong primarily to the historiographical genre, yet contain several characterizations of the crowds, respectively from an ethnographic and rhetorical perspective. A careful observer of the institutional and political transformations of the early Empire, Tacitus makes a very singular use of the vocabulary of the crowds compared to his predecessors and contemporaries, as I shall explain further on in this paper (see below mainly sections 3 and 4)."
   ]
  },
  {
   "cell_type": "markdown",
   "metadata": {},
   "source": [
    "I will provide an exhaustive analysis of the three main lexemes referring to the crowd in Tacitus (and, more broadly, in Latin), that is, in alphabetical order, _multitudo_, _turba_ and _vulgus_ (usually translated by “crowd”, “mass”, “throng”, etc.). It is, of course, possible to find in Tacitus other words to refer to crowds. However, they are much less common and the meaning of “crowd” is clearly secondary: this is the case, for example, of _vis_, whose primary meanings are “strength” and “violence”, but does refer to a collective mobilization in Tacitus, _Ann._, 12.29.3. An overview of these lesser terms is given by <cite data-cite=\"2272257/GJAK9283\"></cite> pp. 700-705. Moreover, some crowd movements are evoked through specific constructions (impersonal passive, indefinite pronouns, etc.), but taking these cases into account would lead this paper away from the lexicological study which it aims at."
   ]
  },
  {
   "cell_type": "markdown",
   "metadata": {},
   "source": [
    "The principles guiding this study can be summarized as follows: \n",
    "* providing a comprehensive analysis of the Tacitean corpus;\n",
    "* giving access to the structured data, which will allow data control and permit through text references to come back to the text;\n",
    "* using data visualization and (secondarily) NLP tools;\n",
    "* combining a quantitative and qualitative approach (_ie_ close reading of the most important passages)."
   ]
  },
  {
   "cell_type": "markdown",
   "metadata": {
    "tags": [
     "hermeneutics"
    ]
   },
   "source": [
    "### 1.3 Data structuring"
   ]
  },
  {
   "cell_type": "markdown",
   "metadata": {
    "tags": [
     "hermeneutics"
    ]
   },
   "source": [
    "All the occurrences of the three lexemes in Tacitus were integrated in a `CSV` file (using the semicolon as separator) and manually annotated by a single annotator following different criteria. These data are then queried and accessed using the `pandas` library; the visualization part is done through the `matplotlib` and `seaborn` libraries (see the `requirements.txt` file attached)."
   ]
  },
  {
   "cell_type": "markdown",
   "metadata": {
    "tags": [
     "hermeneutics"
    ]
   },
   "source": [
    "#### 1.3.1 Exclusion of irrelevant cases"
   ]
  },
  {
   "cell_type": "markdown",
   "metadata": {
    "tags": [
     "hermeneutics"
    ]
   },
   "source": [
    "A first step was to exclude from the `CSV` file some occurrences of the three lexemes that do not refer to a crowd of individuals, mainly on two fronts: \n",
    "* when a lexeme refers to an inanimate collection (_eg_ the _multitudo legum_, \"multitude of laws\", in Tac., _Ann._ , 3.25.2);\n",
    "* when a lexeme is used in a meaning other than \"crowd\": \n",
    "    * meaning of \"trouble/disorder\" with _turba_, exclusively in the plural form in Tacitus (see Tac., _Hist._ 1.83.1, 2.72.3, 4.1.8, 4.70.8, _Ann._ 1.16.1 and 1.19.2, cf. <cite data-cite=\"2272257/B2J3U5I9\"></cite> _s. u._);\n",
    "    * meaning of \"large number\" with _multitudo_, especially the passages in which _multitudo_ is used in an instrumental or causal structure (_eg_ _multitudine_ meaning “because of their high number” see Tac., _Hist._ , 1.8.1, 3.30.1, 4.50.7, 5.12.6, _Ann._ , 4.27.2, 4.55.3, 14.61.1).\n",
    "    \n",
    "On these two points, therefore, we follow the choice of <cite data-cite=\"2272257/43U2KCKU\"></cite> p. 142 n. 1."
   ]
  },
  {
   "cell_type": "markdown",
   "metadata": {
    "tags": [
     "hermeneutics"
    ]
   },
   "source": [
    "#### 1.3.2 Latin text"
   ]
  },
  {
   "cell_type": "markdown",
   "metadata": {
    "tags": [
     "hermeneutics"
    ]
   },
   "source": [
    "The Latin text is that edited in the Loeb Classical Library, imported from the [_Loeb Classical Library_ website](https://www.loebclassics.com): <cite data-cite=\"2272257/SB49I6HR\"></cite>, <cite data-cite=\"2272257/WAUP5M68\"></cite>, <cite data-cite=\"2272257/D8YMIE4A\"></cite>, <cite data-cite=\"2272257/AJWS83WY\"></cite>, <cite data-cite=\"2272257/JQ9KBZU3\"></cite>. It is normally limited to the sentence containing the occurrence of the lexeme, but, for the sake of comprehension, especially if the occurrence is taken from an indirect speech, the preceding segment may be included. All semicolons have been transformed into colons, to avoid incompatibilities with the `CSV` format of the data (see above)."
   ]
  },
  {
   "cell_type": "markdown",
   "metadata": {
    "tags": [
     "hermeneutics"
    ]
   },
   "source": [
    "#### 1.3.3 Translation"
   ]
  },
  {
   "cell_type": "markdown",
   "metadata": {
    "tags": [
     "hermeneutics"
    ]
   },
   "source": [
    "The English translation from the same Loeb edition."
   ]
  },
  {
   "cell_type": "markdown",
   "metadata": {
    "tags": [
     "hermeneutics"
    ]
   },
   "source": [
    "#### 1.3.4 Lemma"
   ]
  },
  {
   "cell_type": "markdown",
   "metadata": {
    "tags": [
     "hermeneutics"
    ]
   },
   "source": [
    "The Latin lemma (_multitudo_, _turba_ or _vulgus_)."
   ]
  },
  {
   "cell_type": "markdown",
   "metadata": {
    "tags": [
     "hermeneutics"
    ]
   },
   "source": [
    "#### 1.3.5 Word"
   ]
  },
  {
   "cell_type": "markdown",
   "metadata": {
    "tags": [
     "hermeneutics"
    ]
   },
   "source": [
    "The inflected form (lexeme) of the lemma, as found in the passage."
   ]
  },
  {
   "cell_type": "markdown",
   "metadata": {
    "tags": [
     "hermeneutics"
    ]
   },
   "source": [
    "#### 1.3.6 Morphological analysis"
   ]
  },
  {
   "cell_type": "markdown",
   "metadata": {
    "tags": [
     "hermeneutics"
    ]
   },
   "source": [
    "The morphological analysis of the lemmas was carried out manually, following the [LEMLAT](http://www.lemlat3.eu) standards. Accordingly, each lexeme has received [a code](http://www.lemlat3.eu/wp-content/uploads/2016/10/LEMLAT3.0-tagset_english.pdf) corresponding to its morphological features. For example, _multitudinem_ (accusative singular of _multitudo_, a noun from the third declension) was annotated with the code `NcC--afs--`. \n",
    "\n",
    "While annotating the corpus, we noticed that none of the three lexemes was used in the plural form with the meaning of “crowd”. On this point, Tacitus does not really differ from the surviving classical Latin authors, in whom the use of any of these terms in the plural form remains very marginal (<cite data-cite=\"2272257/XG6NW36A\"></cite> pp. 395-396)."
   ]
  },
  {
   "cell_type": "markdown",
   "metadata": {
    "tags": [
     "hermeneutics"
    ]
   },
   "source": [
    "#### 1.3.7 Syntactic analysis"
   ]
  },
  {
   "cell_type": "markdown",
   "metadata": {
    "tags": [
     "hermeneutics"
    ]
   },
   "source": [
    "The syntactic analysis (function of the lexeme within the sentence) follows the tagset presented in the [_guidelines_](http://perseusdl.github.io/treebank_data/) of the Latin Dependency Treebank and the Index Thomisticus Treebank <cite data-cite=\"2272257/BXECTHH2\"></cite>. The tags used in our data are `SBJ`, `OBJ` and `ATR`. They characterize the syntactic relationship between the lexeme and the word on which it depends (“immediate head”)."
   ]
  },
  {
   "cell_type": "markdown",
   "metadata": {
    "tags": [
     "hermeneutics"
    ]
   },
   "source": [
    "**Simplification of the syntactic annotation**: to standardize and simplify data processing, we have not taken into account labels indicating coordination (`SBJ_CO` is thus replaced by `SBJ`) or apposition (`SBJ_AP` > `SBJ`)."
   ]
  },
  {
   "cell_type": "markdown",
   "metadata": {
    "tags": [
     "hermeneutics"
    ]
   },
   "source": [
    "#### 1.3.8 Head"
   ]
  },
  {
   "cell_type": "markdown",
   "metadata": {
    "tags": [
     "hermeneutics"
    ]
   },
   "source": [
    "The term on which the lexeme directly depends, presented in its standardized form (lemma): nominative singular for the nouns, infinitive present for the verbs, etc."
   ]
  },
  {
   "cell_type": "markdown",
   "metadata": {
    "tags": [
     "hermeneutics"
    ]
   },
   "source": [
    "**Simplification of the syntactic annotation**: when the immediate head is elided, the word normally receives a complex tag (<cite data-cite=\"2272257/BXECTHH2\"></cite> pp. 36-37). To ensure greater uniformity in the data, the implied form has been systematically restored (see an example with the frequently implied _esse_ below, section 3.2.3.1)."
   ]
  },
  {
   "cell_type": "markdown",
   "metadata": {
    "tags": [
     "hermeneutics"
    ]
   },
   "source": [
    "#### 1.3.9 Dependent"
   ]
  },
  {
   "cell_type": "markdown",
   "metadata": {
    "tags": [
     "hermeneutics"
    ]
   },
   "source": [
    "The term that depends directly on the lexeme (as lemma)."
   ]
  },
  {
   "cell_type": "markdown",
   "metadata": {
    "tags": [
     "hermeneutics"
    ]
   },
   "source": [
    "**Multiple dependencies**: when the lexeme depends on several terms, or when several terms depend on the lexeme, they are separated by a comma in the `CSV` file. These cases are then treated automatically through data processing."
   ]
  },
  {
   "cell_type": "markdown",
   "metadata": {
    "tags": [
     "hermeneutics"
    ]
   },
   "source": [
    "#### 1.3.10 Head and dependent semantics"
   ]
  },
  {
   "cell_type": "markdown",
   "metadata": {
    "tags": [
     "hermeneutics"
    ]
   },
   "source": [
    "For each head and each dependent, its main semantic feature has been manually noted, by a single annotator, in the `CSV` file. Semantic features are defined as the minimal semantic components of the \"meaning\" of a word given by the dictionary (on this notion, <cite data-cite=\"2272257/857AQJFV\"></cite>, <cite data-cite=\"2272257/NRC8PUDL\"></cite>). Our method is, of course, a simplification, since, on the one hand, a single lexeme often contains several semantic features, and, on the other hand, assigning a semantic feature to a word is not always obvious. For instance, considering the term rumor (“rumour”), which often collocates with _vulgus_, we could choose as main semantic feature “vocalization” as well as “opinion” (the latter was ultimately the one we went for). However, this approach shows stimulating results for discriminating between _multitudo_, _turba_ and _vulgus_ (see below, section 3.2.1)."
   ]
  },
  {
   "cell_type": "markdown",
   "metadata": {
    "tags": [
     "hermeneutics"
    ]
   },
   "source": [
    "#### 1.3.11 Type of crowd"
   ]
  },
  {
   "cell_type": "markdown",
   "metadata": {
    "tags": [
     "hermeneutics"
    ]
   },
   "source": [
    "These morphosyntactic traits are followed by five more historical features, which are by nature subject to interpretation."
   ]
  },
  {
   "cell_type": "markdown",
   "metadata": {
    "tags": [
     "hermeneutics"
    ]
   },
   "source": [
    "First, the type of crowd represented by Tacitus, with four possibilities:\n",
    "* `civ`: civil crowd (_ie_ crowd composed of civilians);\n",
    "* `milit`: military crowd (_ie_ crowd composed of soldiers);\n",
    "* `mix`: crowd composed of civilians and soldiers;\n",
    "* `ind`: impossible to determine the type of crowd."
   ]
  },
  {
   "cell_type": "markdown",
   "metadata": {
    "tags": [
     "hermeneutics"
    ]
   },
   "source": [
    "#### 1.3.12 Geographic framework"
   ]
  },
  {
   "cell_type": "markdown",
   "metadata": {
    "tags": [
     "hermeneutics"
    ]
   },
   "source": [
    "The geographical framework in which the crowd appears:\n",
    "* `rome`: Rome and Italy (not considered a province);\n",
    "* `prov`: the Roman provinces (including the Roman Britain);\n",
    "* `barb`: \"barbarian\" territories (to adopt Tacitus’ perspective) – this includes the case of foreign peoples rising up against the Romans within the provinces, for example the Britons during Boudica’s uprising in Tac., _Ann._, 14.35.1;\n",
    "* `ind`: impossible to determine the geographical framework."
   ]
  },
  {
   "cell_type": "markdown",
   "metadata": {
    "tags": [
     "hermeneutics"
    ]
   },
   "source": [
    "#### 1.3.13 Social composition"
   ]
  },
  {
   "cell_type": "markdown",
   "metadata": {
    "tags": [
     "hermeneutics"
    ]
   },
   "source": [
    "The social composition as described in the text does not, of course, offer the degree of detail and precision that we would wish for. Here again we have chosen to follow the perspective given by Tacitus by adopting the broad (but significant) categories below:\n",
    "* `eli`: the crowd is composed exclusively of members of the “elite”, understood as the two higher orders (senatorial or equestrian order);\n",
    "* `pop`: the crowd is composed exclusively of members of the “people”, understood as all free citizens not belonging to the two higher orders;\n",
    "* `n-civ`: the crowd is composed exclusively of slaves or foreigners;\n",
    "* `mix`: the crowd is composed of a mixture of at least two of the above categories;\n",
    "* `ind`: impossible to determine the social composition."
   ]
  },
  {
   "cell_type": "markdown",
   "metadata": {
    "tags": [
     "hermeneutics"
    ]
   },
   "source": [
    "#### 1.3.14 Spatialization"
   ]
  },
  {
   "cell_type": "markdown",
   "metadata": {
    "tags": [
     "hermeneutics"
    ]
   },
   "source": [
    "The last two descriptors are intended to present varying degrees of intensity and are therefore represented in numerical form."
   ]
  },
  {
   "cell_type": "markdown",
   "metadata": {
    "tags": [
     "hermeneutics"
    ]
   },
   "source": [
    "Crowd action takes place in a spatiotemporal framework which Tacitus may define more or less sharply. The inscription of collective action within a (un)determined framework will be addressed here as \"spatialization\" of the crowd. Variations are indicated on a simple scale from `0` (very diffuse and imprecise spatiotemporal framework) to `1` (strong spatiotemporal inscription), with `0.25` increments. In order to determine the degree of spatialization of the crowd in every passage, one may rely on how frequently words expressing time or space appear in the passage or in the immediate context. Let us take but two extreme examples (Tac., _Ann._, 1.27.2 and Tac., _Ann._, 3.61.1):"
   ]
  },
  {
   "cell_type": "markdown",
   "metadata": {
    "tags": [
     "hermeneutics"
    ]
   },
   "source": [
    "> _Iamque lapidis ictu cruentus et exitii certus adcursu __multitudinis__ quae cum Druso advenerat protectus est._\n",
    "\n",
    "> He was bleeding already from a cut with a missile and had made up his mind that the end was come, when he was saved by the advent of Drusus’ numerous __escort__."
   ]
  },
  {
   "cell_type": "markdown",
   "metadata": {
    "tags": [
     "hermeneutics"
    ]
   },
   "source": [
    "> _Primi omnium Ephesii adiere, memorantes non, ut __vulgus__ crederet, Dianam atque Apollinem Delo genitos._\n",
    "\n",
    "> The Ephesians were the first to appear. \"Apollo and Diana,\" they stated, \"were not, as __commonly__ supposed, born at Delos.\""
   ]
  },
  {
   "cell_type": "markdown",
   "metadata": {
    "tags": [
     "hermeneutics"
    ]
   },
   "source": [
    "In the first passage, the adverb of time _iam_ (\"already\") and the semantics of the noun _adcursus_ (describing someone \"running over\" somewhere) give a strongly spatialized image of this crowd (hence the `1` tag). In the second passage, in contrast, the lack of any word specifying the framework within which the \"crowd believes\" (_vulgus crederet_) the myth of Apollo and Diana makes it a very loosely spatialized occurrence (hence the `0` tag)."
   ]
  },
  {
   "cell_type": "markdown",
   "metadata": {
    "tags": [
     "hermeneutics"
    ]
   },
   "source": [
    "However, some cases are not as easily annotated. Take for instance the depiction of Rome's reaction to the death of Junia Tertulla (M. Brutus' sister and C. Cassius' wife, Tac., _Ann._, 3.76.1):"
   ]
  },
  {
   "cell_type": "markdown",
   "metadata": {
    "tags": [
     "hermeneutics"
    ]
   },
   "source": [
    "> _Testamentum eius multo __apud vulgum__ rumore fuit, quia in magnis opibus cum ferme cunctos proceres cum honore nominavisset Caesarem omisit._\n",
    "\n",
    "> Her will was busily discussed __by the crowd__: because in disposing of her great wealth she mentioned nearly every patrician of note in complimentary terms, but omitted the Caesar."
   ]
  },
  {
   "cell_type": "markdown",
   "metadata": {
    "tags": [
     "hermeneutics"
    ]
   },
   "source": [
    "Tacitus describes collective action (a rumour) occurring in a very specific political context, yet without any actual indication on where and how this crowd gathered and circulated the gossip. For such cases of crowds related to a specific historical framework (unlike the _vulgus_ in Tac., _Ann._, 3.61.1 above) but whose concrete manifestation is somehow blurred or imprecise (unlike the _multitudo_ in Tac., _Ann._, 1.27.2), we used the `0.5` tag."
   ]
  },
  {
   "cell_type": "markdown",
   "metadata": {
    "tags": [
     "hermeneutics"
    ]
   },
   "source": [
    "#### 1.3.15 Political agency"
   ]
  },
  {
   "cell_type": "markdown",
   "metadata": {
    "tags": [
     "hermeneutics"
    ]
   },
   "source": [
    "Political agency is also indicated on a scale ranging from from `0` (absence of agency) to `1` (strong agency), with `0.25` increments. Here again, annotation is a subjective matter. Political agency is defined as the ability for someone or a group of people to act as political actor(s). Crowd agency might take the form of political demands in the crowd, of political actions against the authorities, and more generally implies the maintenance in the crowd of political autonomy, distinct from the views of the authorities (on this topic, <cite data-cite=\"2272257/LDG48K6F\"></cite>). Mutiny narratives in Tacitus often display crowd manifesting strongly their agency, for example in this passage (Tac., _Ann._, 1.39.3), which received the highest tag of our tagset (`1`):"
   ]
  },
  {
   "cell_type": "markdown",
   "metadata": {
    "tags": [
     "hermeneutics"
    ]
   },
   "source": [
    "> _Vtque mos __vulgo__ quamvis falsis reum subdere, Munatium Plancum consulatu functum, principem legationis, auctorem senatus consulti incusant._\n",
    "\n",
    "> With the common propensity of __crowds__ to find a victim, however false the charge, they accused Munatius Plancus, an ex-consul who was at the head of the deputation, of initiating the decree."
   ]
  },
  {
   "cell_type": "markdown",
   "metadata": {
    "tags": [
     "hermeneutics"
    ]
   },
   "source": [
    "In contrast, when the sedition is settled and the crowd respects anew the authority of the general staff, the sense of agency is much lower, as in this passage, at the end of the mutiny in Pannonia (Tac., 1.49.2):"
   ]
  },
  {
   "cell_type": "markdown",
   "metadata": {
    "tags": [
     "hermeneutics"
    ]
   },
   "source": [
    "> _Neque legatus aut tribunus moderator adfuit: __permissa vulgo licentia__ atque ultio et satietas._\n",
    "\n",
    "> No general or tribune was there to restrain: __licence was granted to the mob__, and it might glut its vengeance to the full. Before long, Germanicus marched into the camp."
   ]
  },
  {
   "cell_type": "markdown",
   "metadata": {
    "tags": [
     "hermeneutics"
    ]
   },
   "source": [
    "The _vulgus_ appears in this passage as object of the verb _permittere_ (\"to permit\"), and its action seems to be motivated by the staff (therefore a low political autonomy for this crowd). Hence, it received the `0` tag."
   ]
  },
  {
   "cell_type": "markdown",
   "metadata": {
    "tags": [
     "hermeneutics"
    ]
   },
   "source": [
    "Other increments were used for more nuanced cases, in particular the `0.5` tag, which proves very useful when Tacitus describes crowds acting on a political level but with low political autonomy (_ie._ acting consensually with the ruling elite). See for instance this passage where the agenda of Germanicus and Agrippina matches the political response of the crowd, which gives their son the nickname \"Caligula\" (Tac., _Ann._, 1.41.2):"
   ]
  },
  {
   "cell_type": "markdown",
   "metadata": {
    "tags": [
     "hermeneutics"
    ]
   },
   "source": [
    "> _Iam infans in castris genitus, in contubernio legionum eductus, quem militari vocabulo Caligulam appellabant, quia plerumque __ad concilianda vulgi studia__ eo tegmine pedum induebatur._\n",
    "\n",
    "> Here was also her little son, born in the camp and bred the playmate of the legions: whom soldier-like they had dubbed \"Bootikins\"-Caligula-because, as __an appeal to the fancy of the rank and file__, he generally wore the footgear of that name."
   ]
  },
  {
   "cell_type": "markdown",
   "metadata": {
    "tags": [
     "hermeneutics"
    ]
   },
   "source": [
    "Tacitus' narrative unveils the strategy of Germanicus and Agrippina to obtain popular favour; yet nicknaming was _per se_ a means of (informal) political participation for the lower ranks of the Roman society (here of the Roman army), as [recently demonstrated by Giovan do Nascimento](https://en.subalternosblog.com/post/nicknames-and-politics-in-republican-rome) (with further references), and this political maneuvre relied on how willing to accept Caligula the crowd was. The `0.5` tag allows us to annotate edge cases such as this."
   ]
  },
  {
   "cell_type": "markdown",
   "metadata": {},
   "source": [
    "### 1.4 A look at the etymology"
   ]
  },
  {
   "cell_type": "markdown",
   "metadata": {},
   "source": [
    "To discriminate between _vulgus_, _turba_ and _multitudo_, the first approach can be an etymological one. The etymology leads to set for the first time in this paper a dividing line between the first term on the one hand, and the second and the third one on the other hand. _Turba_ and _multitudo_ are in fact distinguished from _vulgus_ by their polysemy. _Turba_, probably a loanword from gr. ἡ τύρβη, originally means \"trouble\" (cf. <cite data-cite=\"2272257/S9QDUBZU\"></cite> _s. u._); applied to crowds, it designates human gatherings as chaotic and disturbing phenomena (in the eyes of the aristocrats that the Roman authors mostly are). _Multitudo_, which, of course, derives from _multus_ (“many”), generally refers to a large number of elements, not necessarily individuals. In contrast, _vulgus_ is of obscure origin: as the term does not seem to have parallels in the Indo-European languages, some linguists think that it was first used in the rural domain, where it would have designated a herd of animals, like _pecus_, before being applied to the Roman plebs at the end of the 2nd century BC, at the time of the rural exodus of the _plebs rustica_. This theory, which is not new, as recalled by <cite data-cite=\"2272257/S9QDUBZU\"></cite> _s. u._, has been supported by <cite data-cite=\"2272257/DGKEEDC8\"></cite> and taken up by <cite data-cite=\"2272257/GJAK9283\"></cite> p. 292 n. 1. It seems therefore that the meaning of “crowd” is much more central in _vulgus_ than in _turba_ and _multitudo_, and that by its gregarious nature, _vulgus_ would represent the crowd from the psychological point of view (a collection of people whose individuality has dissolved into the mass), which proves right when we take a further look at Tacitus’ writing (see below, section 4.1)."
   ]
  },
  {
   "cell_type": "markdown",
   "metadata": {},
   "source": [
    "## 2. Distribution of lexemes"
   ]
  },
  {
   "cell_type": "markdown",
   "metadata": {},
   "source": [
    "### 2.1 Distribution of the three lexemes in Tacitus"
   ]
  },
  {
   "cell_type": "markdown",
   "metadata": {},
   "source": [
    "A quick reading of the data collected allows us to compare the three lexemes according to a first numerical criterion. The specificity of _vulgus_, which represents two thirds of the total amount, is obvious: see in [figure 1](#figure-1) a basic visualization of these data in the form of a histogram."
   ]
  },
  {
   "cell_type": "code",
   "execution_count": 7,
   "metadata": {
    "scrolled": false
   },
   "outputs": [],
   "source": [
    "nbre_entrees = len(noms_foule_df)\n",
    "nbre_vulgus = len(noms_foule_df[noms_foule_df[\"lemma\"] == \"vulgus\"])\n",
    "nbre_multitudo = len(noms_foule_df[noms_foule_df[\"lemma\"] == \"multitudo\"])\n",
    "nbre_turba = len(noms_foule_df[noms_foule_df[\"lemma\"] == \"turba\"])"
   ]
  },
  {
   "cell_type": "code",
   "execution_count": 8,
   "metadata": {
    "jdh": {
     "module": "object",
     "object": {
      "source": [
       "Fig. 1 : Distribution of the lexemes in Tacitus"
      ],
      "type": "image"
     }
    },
    "tags": [
     "narrative",
     "hermeneutics",
     "figure-1"
    ]
   },
   "outputs": [
    {
     "data": {
      "text/markdown": [
       "There are __186 occurrences__ of the three main lexemes of the crowd in Tacitus: __123 occurences__ of _vulgus_ (66.13%), __45 occurences__ of _multitudo_ (24.19%) and __18 occurences__ of _turba_ (9.68%)."
      ],
      "text/plain": [
       "<IPython.core.display.Markdown object>"
      ]
     },
     "metadata": {},
     "output_type": "display_data"
    },
    {
     "data": {
      "text/plain": [
       "Text(0.5, 1.0, 'figure 1: Distribution of the lexemes in Tacitus')"
      ]
     },
     "execution_count": 8,
     "metadata": {},
     "output_type": "execute_result"
    },
    {
     "data": {
      "image/png": "[encoded data removed]",
      "text/plain": [
       "<Figure size 360x360 with 1 Axes>"
      ]
     },
     "metadata": {},
     "output_type": "display_data"
    }
   ],
   "source": [
    "printmd(\"There are __%s occurrences__ of the three main lexemes of the crowd in Tacitus: __%s occurences__ of _vulgus_ (%s%%), __%s occurences__ of _multitudo_ (%s%%) and __%s occurences__ of _turba_ (%s%%).\" %(nbre_entrees, nbre_vulgus, round(nbre_vulgus*100/nbre_entrees,2), nbre_multitudo, round(nbre_multitudo*100/nbre_entrees,2), nbre_turba, round(nbre_turba*100/nbre_entrees,2)))\n",
    "\n",
    "\n",
    "fig1 = sns.displot(noms_foule_df, x=\"lemma\")\n",
    "\n",
    "fig1.set_axis_labels(\"Lemma\", \"Number of occurrences\", labelpad=10)\n",
    "plt.title(\"figure 1: Distribution of the lexemes in Tacitus\")\n",
    "\n"
   ]
  },
  {
   "cell_type": "markdown",
   "metadata": {},
   "source": [
    "### 2.2 Distribution in subcorpora"
   ]
  },
  {
   "cell_type": "markdown",
   "metadata": {},
   "source": [
    "Let us then observe ([figure 2](#figure-2)) the distribution of the three lexemes within the Tacitean corpus, which we will divide into three subcorpora: the _Annals_, the _Histories_ and the opuscules, composed of the _Life of Agricola_, the _Germania_ and the _Dialogue of the Orators_."
   ]
  },
  {
   "cell_type": "code",
   "execution_count": 9,
   "metadata": {},
   "outputs": [],
   "source": [
    "repartition_corpus = pd.DataFrame(columns = [\"oeuvre\", \"nbre_mots\", \"lemme\", \"reference\"])\n",
    "\n",
    "\n",
    "for index, content in noms_foule_df.iterrows():\n",
    "    if \"Ann\" in content[\"ref\"]:\n",
    "        nvelle_ligne = {\"oeuvre\":\"ann\", \"nbre_mots\":88905, \"lemme\":content[\"lemma\"], \"reference\":content[\"ref\"]}\n",
    "        repartition_corpus = repartition_corpus.append(nvelle_ligne, ignore_index=True)\n",
    "    if \"Hist\" in content[\"ref\"]:\n",
    "        nvelle_ligne = {\"oeuvre\":\"hist\", \"nbre_mots\":51495, \"lemme\":content[\"lemma\"], \"reference\":content[\"ref\"]}\n",
    "        repartition_corpus = repartition_corpus.append(nvelle_ligne, ignore_index=True)\n",
    "    if (\"Agr\" in content[\"ref\"]) | (\"Dial\" in content[\"ref\"]) | (\"Germ\" in content[\"ref\"]):\n",
    "        nvelle_ligne = {\"oeuvre\":\"opusc\", \"nbre_mots\":21562, \"lemme\":content[\"lemma\"], \"reference\":content[\"ref\"]}\n",
    "        repartition_corpus = repartition_corpus.append(nvelle_ligne, ignore_index=True)"
   ]
  },
  {
   "cell_type": "code",
   "execution_count": 10,
   "metadata": {
    "tags": [
     "narrative",
     "hermeneutics",
     "figure-2"
    ]
   },
   "outputs": [
    {
     "data": {
      "text/plain": [
       "Text(0.5, 1.0, 'figure 2 : Distribution in subcorpora')"
      ]
     },
     "execution_count": 10,
     "metadata": {},
     "output_type": "execute_result"
    },
    {
     "data": {
      "image/png": "[encoded data removed]",
      "text/plain": [
       "<Figure size 444.6x360 with 1 Axes>"
      ]
     },
     "metadata": {},
     "output_type": "display_data"
    }
   ],
   "source": [
    "fig2 = sns.displot(repartition_corpus, x=\"oeuvre\", stat=\"density\", hue=\"lemme\", multiple=\"dodge\", common_norm=False, shrink=.9)\n",
    "fig2.set_axis_labels(\"Work\", \"Density\", labelpad=10)\n",
    "plt.title(\"figure 2 : Distribution in subcorpora\")"
   ]
  },
  {
   "cell_type": "markdown",
   "metadata": {},
   "source": [
    "_Analysis_: We observe a roughly equal distribution for _vulgus_ between the two major works of Tacitus, and two diametrically opposed distributions between _multitudo_ and _turba_, the first lexeme being more present in the Annals, the second in the Histories. However, we must take into account that these three subcorpora have a very variable number of words: 88,905 words for the Annals, 51,495 words for the Histories and, in total, 21,562 words for the opuscules. It is therefore necessary to correlate the total number of occurrences of the lexemes to the number of words in each subcorpus in order to get a more accurate idea of their distribution within the works of Tacitus: this is the purpose of the heatmap ([figure 3](#figure-3)) below."
   ]
  },
  {
   "cell_type": "code",
   "execution_count": 11,
   "metadata": {
    "tags": [
     "narrative",
     "hermeneutics"
    ]
   },
   "outputs": [],
   "source": [
    "# Constitution of a dataframe with the weighed distribution\n",
    "repartition_ponderee = pd.DataFrame(columns = [\"ann\", \"hist\", \"opusc\", \"tot\"])\n",
    "\n",
    "repartition_ponderee = repartition_ponderee.append(\n",
    "    {\n",
    "        \"ann\":(((repartition_corpus.lemme == \"vulgus\") & (repartition_corpus.oeuvre == \"ann\")).sum())*100/nbr_words_ann, \n",
    "        \"hist\":(((repartition_corpus.lemme == \"vulgus\") & (repartition_corpus.oeuvre == \"hist\")).sum())*100/nbr_words_hist, \n",
    "        \"opusc\":(((repartition_corpus.lemme == \"vulgus\") & (repartition_corpus.oeuvre == \"opusc\")).sum())*100/nbr_words_opusc,\n",
    "        \"tot\":((repartition_corpus.lemme == \"vulgus\").sum())*100/161962\n",
    "    },\n",
    "    ignore_index=True)\n",
    "    \n",
    "repartition_ponderee = repartition_ponderee.append(\n",
    "    {\n",
    "        \"ann\":(((repartition_corpus.lemme == \"multitudo\") & (repartition_corpus.oeuvre == \"ann\")).sum())*100/nbr_words_ann, \n",
    "        \"hist\":(((repartition_corpus.lemme == \"multitudo\") & (repartition_corpus.oeuvre == \"hist\")).sum())*100/nbr_words_hist, \n",
    "        \"opusc\":(((repartition_corpus.lemme == \"multitudo\") & (repartition_corpus.oeuvre == \"opusc\")).sum())*100/nbr_words_opusc,\n",
    "        \"tot\":((repartition_corpus.lemme == \"multitudo\").sum())*100/161962\n",
    "    }, \n",
    "    ignore_index=True)\n",
    "\n",
    "repartition_ponderee = repartition_ponderee.append(\n",
    "    {\n",
    "        \"ann\":(((repartition_corpus.lemme == \"turba\") & (repartition_corpus.oeuvre == \"ann\")).sum())*100/nbr_words_ann, \n",
    "        \"hist\":(((repartition_corpus.lemme == \"turba\") & (repartition_corpus.oeuvre == \"hist\")).sum())*100/nbr_words_hist, \n",
    "        \"opusc\":(((repartition_corpus.lemme == \"turba\") & (repartition_corpus.oeuvre == \"opusc\")).sum())*100/nbr_words_opusc,\n",
    "        \"tot\":((repartition_corpus.lemme == \"turba\").sum())*100/161962\n",
    "    }, \n",
    "    ignore_index=True)\n",
    "\n",
    "repartition_ponderee = repartition_ponderee.rename(index={0:\"vulgus\", 1:\"multitudo\", 2:\"turba\"})"
   ]
  },
  {
   "cell_type": "code",
   "execution_count": 12,
   "metadata": {
    "tags": [
     "narrative",
     "hermeneutics",
     "figure-3"
    ]
   },
   "outputs": [
    {
     "data": {
      "text/plain": [
       "Text(0.5, 1.0, \"figure 3 : Heatmap of the lexemes' weighted distribution in subcorpora\")"
      ]
     },
     "execution_count": 12,
     "metadata": {},
     "output_type": "execute_result"
    },
    {
     "data": {
      "image/png": "[encoded data removed]",
      "text/plain": [
       "<Figure size 432x288 with 2 Axes>"
      ]
     },
     "metadata": {},
     "output_type": "display_data"
    }
   ],
   "source": [
    "fig3 = sns.heatmap(repartition_ponderee, annot=True, cmap=\"viridis\")\n",
    "plt.xlabel(\"Work\")\n",
    "plt.ylabel(\"Lemma\")\n",
    "plt.title(\"figure 3 : Heatmap of the lexemes' weighted distribution in subcorpora\")"
   ]
  },
  {
   "cell_type": "markdown",
   "metadata": {},
   "source": [
    "_Analysis_: The graph reads as follows: the volume of occurrences of _vulgus_ within the _Annals_ represents 0.067% of the total volume of words in this work."
   ]
  },
  {
   "cell_type": "markdown",
   "metadata": {
    "tags": [
     "hermeneutics"
    ]
   },
   "source": [
    "We can use a chi-squared test to ascertain how statistically significant the distribution of each lemma within the Tacitean subcorpora is. To do so, we create a contingency table with the observed frequency of each lemma and of the other words of each subcorpus (\"non-occurences\", cf. <cite data-cite=\"2272257/MPNW4NSX\"></cite> p. 166) and we compare it to the expected frequencies. With the chi-squared test statistic, we obtain the corresponding p-value. "
   ]
  },
  {
   "cell_type": "code",
   "execution_count": 13,
   "metadata": {
    "tags": [
     "hermeneutics"
    ]
   },
   "outputs": [
    {
     "data": {
      "text/markdown": [
       "P-value for the distribution of _vulgus_ in Tacitus is __3.918911195111008e-05__."
      ],
      "text/plain": [
       "<IPython.core.display.Markdown object>"
      ]
     },
     "metadata": {},
     "output_type": "display_data"
    },
    {
     "data": {
      "text/markdown": [
       "P-value for the distribution of _multitudo_ in Tacitus is __0.20887280868935776__."
      ],
      "text/plain": [
       "<IPython.core.display.Markdown object>"
      ]
     },
     "metadata": {},
     "output_type": "display_data"
    },
    {
     "data": {
      "text/markdown": [
       "P-value for the distribution of _turba_ in Tacitus is __0.0053847030371926285__."
      ],
      "text/plain": [
       "<IPython.core.display.Markdown object>"
      ]
     },
     "metadata": {},
     "output_type": "display_data"
    }
   ],
   "source": [
    "printmd(\"P-value for the distribution of _vulgus_ in Tacitus is __\" + str(distribution_p_value(\"vulgus\")) + \"__.\")\n",
    "printmd(\"P-value for the distribution of _multitudo_ in Tacitus is __\" + str(distribution_p_value(\"multitudo\")) + \"__.\")\n",
    "printmd(\"P-value for the distribution of _turba_ in Tacitus is __\" + str(distribution_p_value(\"turba\")) + \"__.\")"
   ]
  },
  {
   "cell_type": "markdown",
   "metadata": {
    "tags": [
     "hermeneutics",
     "narrative"
    ]
   },
   "source": [
    "It appears that the distribution of _vulgus_ is the most statistically significant, with a very small p-value (`p<0.0005`). The distribution of _turba_ is also statistically significant (`p<0.01`), but that of _multitudo_ (`p>0.1`) might no be statistically significant."
   ]
  },
  {
   "cell_type": "markdown",
   "metadata": {},
   "source": [
    "Such analysis leads to the observation that _vulgus_ is more chosen by Tacitus in the _Histories_ than in the _Annals_, an observation already made by <cite data-cite=\"2272257/43U2KCKU\"></cite> p. 147 and <cite data-cite=\"2272257/CXIXUP3N\"></cite> pp. 85-86, for which there are at least two possible interpretations: either an evolution of Tacitus’ style between the _Histories_ (written in the first decade of the 2nd c.) and the _Annals_ (written in the second decade of the 2nd c., cf. <cite data-cite=\"2272257/EJINSN7D\"></cite>, pp. 241-247; on stylistic evolutions, see <cite data-cite=\"2272257/WMWGITW8\"></cite>, app. 45-47); or a difference in the historical and narrative material, as the surviving account of the _Histories_ focuses on the civil war of 68-70 AD, while the _Annals_ cover the over fifty years of internal peace of the Julio-Claudian dynasty (14-66 AD, the narrative of the years 66-68 being lost). _Turba_ seems to experience a disaffection between the _Histories_ and the _Annals_ similar to that of _vulgus_, for which the same two explanations can be mobilized. Finally, we notice that the three lexemes are used in similar proportions in the three opuscules."
   ]
  },
  {
   "cell_type": "markdown",
   "metadata": {},
   "source": [
    "### 2.3 Which specificity for Tacitus?"
   ]
  },
  {
   "cell_type": "markdown",
   "metadata": {},
   "source": [
    "The dominant use of _vulgus_ within the Tacitean corpus must be confronted with the distribution of the three lexemes in the more general framework of the preserved classical Latin literature. To do so, it is possible to rely on the [Hyperbase web tool](http://hyperbase.unice.fr/), developed within the University of Nice’s research team _Bases, Corpus, Langages_, in its 2017 web version (on the use of this tool by classicists, see <cite data-cite=\"2272257/YPJSITQA\"></cite>). This platform allows to investigate the distribution of the three lexemes within the Latin textual bank of the Liège research team LASLA. Even if this corpus of roughly two million words does not cover the whole of Latinity (see <cite data-cite=\"2272257/XKUU8YH5\"></cite> pp. 433-435), it provides a sense of Tacitus’ originality, by comparing him to 21 classical authors, mainly his predecessors, from the 2nd century BC to the 2nd century AD, in prose as well as in poetry."
   ]
  },
  {
   "cell_type": "markdown",
   "metadata": {
    "tags": [
     "hermeneutics"
    ]
   },
   "source": [
    "_Method_: the LASLA corpus has first been redrawn within Hyperbase Web to group the works by author; the authors have then been classified in chronological order, in order to bring out diachronic evolutions (which eventually did not prove conclusive). We then queried Hyperbase web on the distribution of the three lexemes within the corpus, choosing as “context” the sentence (in connection with our treatment of the Tacitean corpus, see above, section 1.3.2) and as “unit” the specificity score. The generated file (`XLS` re-exported in `CSV`), without the “Total” column, is displayed in the form of a heatmap ([figure 4](#figure-4))."
   ]
  },
  {
   "cell_type": "code",
   "execution_count": 14,
   "metadata": {},
   "outputs": [],
   "source": [
    "distrib_hbs_df = pd.read_csv(\"distrib-rel_hyperbase.csv\", sep=\";\")\n",
    "distrib_hbs_df.set_index(\"lemma\", inplace=True)\n",
    "distrib_hbs_df = distrib_hbs_df.T"
   ]
  },
  {
   "cell_type": "code",
   "execution_count": 15,
   "metadata": {
    "tags": [
     "narrative",
     "hermeneutics",
     "figure-4"
    ]
   },
   "outputs": [
    {
     "data": {
      "text/plain": [
       "Text(0.5, 1.0, 'figure 4: Heatmap of the distribution by specificity score of the three lexemes in the LASLA corpus (Hyperbase Web data)')"
      ]
     },
     "execution_count": 15,
     "metadata": {},
     "output_type": "execute_result"
    },
    {
     "data": {
      "image/png": "[encoded data removed]",
      "text/plain": [
       "<Figure size 864x576 with 2 Axes>"
      ]
     },
     "metadata": {},
     "output_type": "display_data"
    }
   ],
   "source": [
    "plt.figure(figsize=(12,8))\n",
    "fig4 = sns.heatmap(distrib_hbs_df[distrib_hbs_df.index != \"Total\"], annot=True, xticklabels = True, yticklabels = True, center=2, cmap=\"viridis\")\n",
    "plt.xlabel(\"Lemma\")\n",
    "plt.ylabel(\"Authors (LASLA corpus)\")\n",
    "plt.title(\"figure 4: Heatmap of the distribution by specificity score of the three lexemes in the LASLA corpus (Hyperbase Web data)\")"
   ]
  },
  {
   "cell_type": "markdown",
   "metadata": {},
   "source": [
    "_Analysis_: We must obviously take into account the generic specificities of the authors listed. Regarding the poets, for instance, the metrical structure of the hexameter and the pentameter makes it impossible to use the word _multitudo_. With this remark in mind, the results shown in [figure 4](#figure-4) speak for themselves. In most of the historians and biographers (Caesar, Cornelius Nepos, Livy, Sallust, Curtius), we notice a sometimes very marked preference (in Caesar in particular) for the lexeme _multitudo_. In Suetonius, the specificity score is highest for the lexeme _turba_. In the case of Tacitus, particularly noteworthy is his preferential use of the lexeme _vulgus_, which isolates him not only within the sub-corpus of historiographers, but also on the scale of the entire LASLA text bank. There is thus a first quantitative specificity of _vulgus_ within the Tacitean corpus and, more generally (even if the corpus used does not allow us to affirm this definitely), within the Latinity."
   ]
  },
  {
   "cell_type": "markdown",
   "metadata": {},
   "source": [
    "## 3. Discriminating between the three lexemes: a contrastive perspective"
   ]
  },
  {
   "cell_type": "markdown",
   "metadata": {},
   "source": [
    "To discriminate between the three lexemes, we proceed below through three complementary criteria:\n",
    "\n",
    "1.\tthe function of the lexeme in the sentence;\n",
    "2.\tthe significant lexical associations of each lexeme (phraseology);\n",
    "3.\tthe historical context in which the lexeme appears."
   ]
  },
  {
   "cell_type": "markdown",
   "metadata": {},
   "source": [
    "### 3.1 Distribution of the lexemes according to their syntactic function"
   ]
  },
  {
   "cell_type": "markdown",
   "metadata": {},
   "source": [
    "A first approach is that of lemma inflection (their case) and, as a corollary, of their syntactic function. We propose in the following figures a visualization of the data that we comment on below. [figure 5](#figure-5) presents the distribution according to the morphological tag of the lexemes; [figure 6](#figure-6) is composed of three distinct histograms giving, for each lexeme, the distribution according to the syntactic tag; [figure 7](#figure-7) groups the three lexemes according to their distribution by syntactic function on a normalized histogram."
   ]
  },
  {
   "cell_type": "code",
   "execution_count": 16,
   "metadata": {
    "scrolled": true,
    "tags": [
     "narrative",
     "hermeneutics",
     "figure-5"
    ]
   },
   "outputs": [
    {
     "data": {
      "text/plain": [
       "Text(0.5, 0.98, 'figure 5 : Distribution according to the morphological analysis')"
      ]
     },
     "execution_count": 16,
     "metadata": {},
     "output_type": "execute_result"
    },
    {
     "data": {
      "image/png": "[encoded data removed]",
      "text/plain": [
       "<Figure size 1080x360 with 3 Axes>"
      ]
     },
     "metadata": {},
     "output_type": "display_data"
    }
   ],
   "source": [
    "# Extraction of the morphological case from the LEMLAT code\n",
    "noms_foule_df_morph = noms_foule_df.copy()\n",
    "\n",
    "cases = {\"n\":\"nominative\", \n",
    "        \"a\":\"accusative\", \n",
    "        \"g\":\"genitive\", \n",
    "        \"b\":\"ablative\", \n",
    "        \"d\":\"dative\"}\n",
    "\n",
    "for index, row in noms_foule_df_morph.iterrows():\n",
    "    noms_foule_df_morph.at[index, \"morph\"] = cases[noms_foule_df_morph.at[index, \"morph\"][5]]\n",
    "\n",
    "fig5 = sns.displot(noms_foule_df_morph, x=\"morph\", col=\"lemma\", multiple=\"dodge\")\n",
    "fig5.set_axis_labels(\"Morphological tag\", \"Occurrences\", labelpad=10)\n",
    "plt.gcf().suptitle(\"figure 5 : Distribution according to the morphological analysis\")"
   ]
  },
  {
   "cell_type": "code",
   "execution_count": 17,
   "metadata": {
    "tags": [
     "narrative",
     "hermeneutics",
     "figure-6"
    ]
   },
   "outputs": [
    {
     "data": {
      "text/plain": [
       "Text(0.5, 0.98, 'figure 6 : Distribution according to the syntactic analysis')"
      ]
     },
     "execution_count": 17,
     "metadata": {},
     "output_type": "execute_result"
    },
    {
     "data": {
      "image/png": "[encoded data removed]",
      "text/plain": [
       "<Figure size 1080x360 with 3 Axes>"
      ]
     },
     "metadata": {},
     "output_type": "display_data"
    }
   ],
   "source": [
    "fig6 = sns.displot(noms_foule_df, x=\"synt\", col=\"lemma\", multiple=\"dodge\")\n",
    "fig6.set_axis_labels(\"Syntactic tag\", \"Occurrences\", labelpad=10)\n",
    "plt.gcf().suptitle(\"figure 6 : Distribution according to the syntactic analysis\")"
   ]
  },
  {
   "cell_type": "code",
   "execution_count": 18,
   "metadata": {
    "scrolled": false,
    "tags": [
     "narrative",
     "hermeneutics",
     "figure-7"
    ]
   },
   "outputs": [
    {
     "data": {
      "text/plain": [
       "Text(0.5, 1.0, 'figure 7: Weighted distribution according to the syntactic analysis')"
      ]
     },
     "execution_count": 18,
     "metadata": {},
     "output_type": "execute_result"
    },
    {
     "data": {
      "image/png": "[encoded data removed]",
      "text/plain": [
       "<Figure size 444.6x360 with 1 Axes>"
      ]
     },
     "metadata": {},
     "output_type": "display_data"
    }
   ],
   "source": [
    "fig7 = sns.displot(noms_foule_df, x=\"synt\", stat=\"density\", hue=\"lemma\", multiple=\"dodge\", common_norm=False, shrink=.9)\n",
    "fig7.set_axis_labels(\"Syntactic tag\", \"Density\", labelpad=10)\n",
    "plt.title(\"figure 7: Weighted distribution according to the syntactic analysis\")"
   ]
  },
  {
   "cell_type": "markdown",
   "metadata": {},
   "source": [
    "_Analysis_: there are several elements to look at here.\n",
    "\n",
    "* First of all, there are divergent variations between the morphological label and the syntactic label. For example, regarding _multitudo_, the accusative (`acc-sg`) is more frequent than the nominative (`n-sg`); however, when we look at the syntactic labels, the subject function (`SBJ`) is more frequent than the object function (`OBJ`). This is simply due to the fact that the subject function can be occupied in Latin by nominatives, accusatives in infinitive clauses (accusative and infinitive) and ablatives in participle clauses (ablative absolute).\n",
    "\n",
    "* In a contrastive perspective, we note:\n",
    "    - that _vulgus_ preferentially occupies the `SBJ` (subject) and `ATR` functions (attributive, _ie_ apposition, possessive/objective/partitive constructions);\n",
    "    - that _multitudo_ preferentially assumes the `SBJ` or `OBJ` functions (object, _ie_ direct or indirect object as well as passive agents);\n",
    "    - that _turba_ follows a distribution close to _multitudo_, with, however, a dominant `OBJ` function;\n",
    "    - that the `ADV` function (adverbial, _ie_ generally the lexemes in oblique cases specifying the circumstances of the action, except for the passive agent) is not a relevant criterion to contrast the three lexemes."
   ]
  },
  {
   "cell_type": "markdown",
   "metadata": {
    "tags": [
     "hermeneutics"
    ]
   },
   "source": [
    "Now we want to be sure that this distribution is statistically significant, _ie._ that there is a relationship between the choice of a lemma and its syntactic function within the Tacitean corpus. We will use a chi-squared test to obtain the p-value."
   ]
  },
  {
   "cell_type": "code",
   "execution_count": 19,
   "metadata": {
    "tags": [
     "hermeneutics"
    ]
   },
   "outputs": [
    {
     "data": {
      "text/markdown": [
       "P-value for these variables is __0.0009498832683053626__."
      ],
      "text/plain": [
       "<IPython.core.display.Markdown object>"
      ]
     },
     "metadata": {},
     "output_type": "display_data"
    }
   ],
   "source": [
    "p_value_test(noms_foule_df[\"lemma\"], noms_foule_df[\"synt\"])"
   ]
  },
  {
   "cell_type": "markdown",
   "metadata": {
    "tags": [
     "narrative"
    ]
   },
   "source": [
    "The very small p-value (`p<0.001`) allows us to affirm that there is a clear and statistically significative opposition (cf. [figure 6](#figure-6)) between the syntactic distribution of _vulgus_ on the one hand, most often subject of a verb or possessive noun phrase, and _multitudo_/_turba_ on the other hand, most often subject or object of a verb. These observations need to be clarified by studying the semantics of the terms with which the three lexemes are combined."
   ]
  },
  {
   "cell_type": "markdown",
   "metadata": {},
   "source": [
    "### 3.2 Distribution of the lexemes according to the phraseology"
   ]
  },
  {
   "cell_type": "markdown",
   "metadata": {},
   "source": [
    "This first morphosyntactic approach can be completed by the comparison of the phraseological profile of the three lexemes in Tacitus, _ie_ by studying the terms with which these lexemes are preferentially associated within the Tacitean corpus."
   ]
  },
  {
   "cell_type": "markdown",
   "metadata": {},
   "source": [
    "A first contrastive phraseological approach of the three nouns had been tried in 2016 within the Phraseotext project by K. Bouzidi, O. Kraif, J. Sorba and myself <cite data-cite=\"2272257/XG6NW36A\"></cite>. The aim was then to bring out the combinatorial profile of these lexical units, that is to study the stereotypical semantic and syntactic associations of each of these terms, using the [Lexicoscope](http://phraseotext.u-grenoble3.fr/lexicoscope/), a tool that extracts the most representative collocates of a given pivotal term <cite data-cite=\"2272257/FGLIUM7E\"></cite>. This study focused on a larger corpus than the present paper, since it included, alongside Tacitus, several late Republican and imperial prose writers; it was also mainly conceived as a exploratory approach, since the automatic, data-driven dependency parsing of our corpus (through a stochastic parser) involved a not negligible error rate. However, several interesting results had emerged in this preliminary study. Indeed, the collocates (_ie_ the stereotypical co-occurrents) of _turba_ and _multitudo_ convey in this corpus mainly the semantic features /intensity/ (_ingens_, _magnus_, _tantus_) and /movement/ (_circumfundo_, _concito_, _effundo_, _convenio_, _traduco_), while _vulgus_ is mainly associated with abstract terms and nouns of opinion and/or speech (_rumor_, _opinio_, _favor_, _sermo_). Combining colligation and collocation analyses (<cite data-cite=\"2272257/ZPJB3U77\"></cite> pp. 45-50), we also observed in this paper that _multitudo_ and _turba_ were in about one case out of two complements of control verbs (_agere_, _circumdare_, _cogere_, etc.), while this type of association was much rarer for _vulgus_ (one case out of five). It was thus possible to infer an opposition between, on the one hand, _multitudo_ and _turba_ – the crowd observed in its concrete, physical, spatial realization, and hence considered as a whole that can be controlled, manipulated, gathered or dispersed – and, on the other hand, _vulgus_ – the crowd as a single entity, thinking with a single mind, speaking with a single voice, and whose opinion remains largely autonomous and can hardly be controlled. This first morphosyntactic approach can be completed by the comparison of the phraseological profile of the three lexemes in Tacitus, _ie_ by studying the terms with which these lexemes are preferentially associated within the Tacitean corpus."
   ]
  },
  {
   "cell_type": "markdown",
   "metadata": {},
   "source": [
    "The objective of this section of the present study is to compare these preliminary results with our data, collated through manual tagging within a smaller corpus, the works of Tacitus. As mentioned above, for each occurrence of the lexemes, the term on which it depends (head) and the term which depends on it (dependent) were extracted, following a common standard for the syntactic annotation of Latin treebanks (see above, sections 1.3.7-9). In this way, only the most syntactically significant collocations are taken into account.\n",
    "\n",
    "1. First, we observe the distribution of the lexemes according to the main semantic feature of their collocates (head or dependent).\n",
    "2. Then, we synthesize the numerical distribution of collocates (distinguishing between head and dependent) to determine the amount of different collocates of each lexeme in Tacitus, before detailing in tabular form the most represented collocates."
   ]
  },
  {
   "cell_type": "markdown",
   "metadata": {},
   "source": [
    "#### 3.2.1 Semantics of the collocates"
   ]
  },
  {
   "cell_type": "markdown",
   "metadata": {},
   "source": [
    "Observation in the form of a heatmap of the main semantic feature of each lexeme’s collocates, whether head or dependent: raw data (with figures) in [figure 8a](#figure-8a) and normalized data in [figure 8b](#figure-8b)."
   ]
  },
  {
   "cell_type": "code",
   "execution_count": 20,
   "metadata": {},
   "outputs": [],
   "source": [
    "semantisme_coll = pd.DataFrame()\n",
    "semantisme_head = pd.DataFrame()\n",
    "semantisme_dpt = pd.DataFrame()\n",
    "\n",
    "semantisme_head = semantisme_head.append(noms_foule_df[noms_foule_df[\"lemma\"] == \"vulgus\"][\"hd_main_feature\"].value_counts(), ignore_index=True)\n",
    "semantisme_head = semantisme_head.append(noms_foule_df[noms_foule_df[\"lemma\"] == \"multitudo\"][\"hd_main_feature\"].value_counts(), ignore_index=True)\n",
    "semantisme_head = semantisme_head.append(noms_foule_df[noms_foule_df[\"lemma\"] == \"turba\"][\"hd_main_feature\"].value_counts(), ignore_index=True)\n",
    "semantisme_head = semantisme_head.rename(index={0:\"vulgus\", 1:\"multitudo\", 2:\"turba\"})\n",
    "semantisme_head = semantisme_head.fillna(0)\n",
    "\n",
    "semantisme_dpt = semantisme_dpt.append(noms_foule_df[noms_foule_df[\"lemma\"] == \"vulgus\"][\"dpt_main_feature\"].value_counts(), ignore_index=True)\n",
    "semantisme_dpt = semantisme_dpt.append(noms_foule_df[noms_foule_df[\"lemma\"] == \"multitudo\"][\"dpt_main_feature\"].value_counts(), ignore_index=True)\n",
    "semantisme_dpt = semantisme_dpt.append(noms_foule_df[noms_foule_df[\"lemma\"] == \"turba\"][\"dpt_main_feature\"].value_counts(), ignore_index=True)\n",
    "semantisme_dpt = semantisme_dpt.rename(index={0:\"vulgus\", 1:\"multitudo\", 2:\"turba\"})\n",
    "semantisme_dpt = semantisme_dpt.fillna(0)\n",
    "\n",
    "semantisme_coll = semantisme_head.append(semantisme_dpt)\n",
    "semantisme_coll = semantisme_coll.groupby(semantisme_coll.index).sum()\n",
    "\n",
    "# Separation of multiple semantic features\n",
    "for label, content in semantisme_coll.items():\n",
    "    if \",\" in label:\n",
    "        traits = label.split(\", \")\n",
    "        for trait in traits:\n",
    "            if trait in semantisme_coll.columns:\n",
    "                semantisme_coll[trait] += content.values\n",
    "            else:\n",
    "                semantisme_coll[trait] = content.values\n",
    "        semantisme_coll = semantisme_coll.drop(columns=[label])\n",
    "\n",
    "\n",
    "# Totals become integer variables and the dataframe is reorganised alphabetically\n",
    "semantisme_coll = semantisme_coll.astype(int)\n",
    "semantisme_coll = semantisme_coll.sort_index(axis=1)"
   ]
  },
  {
   "cell_type": "code",
   "execution_count": 21,
   "metadata": {
    "tags": [
     "narrative",
     "hermeneutics",
     "figure-8a"
    ]
   },
   "outputs": [
    {
     "data": {
      "image/png": "[encoded data removed]",
      "text/plain": [
       "<Figure size 1008x288 with 2 Axes>"
      ]
     },
     "metadata": {},
     "output_type": "display_data"
    }
   ],
   "source": [
    "plt.figure(figsize=(14,4))\n",
    "fig8a = sns.heatmap(semantisme_coll, annot=True, xticklabels = True, yticklabels = True, center=5, cmap=\"viridis\")\n",
    "plt.xlabel(\"Semantics of the collocates\")\n",
    "plt.ylabel(\"Lemma\")\n",
    "plt.title(\"figure 8a : Distribution (raw scores) according the collocates' semantics (heads and dependents)\")\n",
    "plt.show()"
   ]
  },
  {
   "cell_type": "code",
   "execution_count": 22,
   "metadata": {
    "tags": [
     "hermeneutics"
    ]
   },
   "outputs": [
    {
     "data": {
      "text/markdown": [
       "P-value for these variables is __8.881242297142933e-09__."
      ],
      "text/plain": [
       "<IPython.core.display.Markdown object>"
      ]
     },
     "metadata": {},
     "output_type": "display_data"
    }
   ],
   "source": [
    "p_value_test(noms_foule_df[\"lemma\"], noms_foule_df[\"hd_main_feature\"])"
   ]
  },
  {
   "cell_type": "markdown",
   "metadata": {
    "tags": [
     "hermeneutics"
    ]
   },
   "source": [
    "Given the very small p-value (`p<0.0001`), we can say that there is a statistically significant relationship between the lemma and its head's main semantic feature in Tacitus."
   ]
  },
  {
   "cell_type": "code",
   "execution_count": 23,
   "metadata": {},
   "outputs": [],
   "source": [
    "# Normalisation\n",
    "semantisme_coll_norm = semantisme_coll.apply(lambda x: (x-x.mean())/x.std(), axis = 1)"
   ]
  },
  {
   "cell_type": "code",
   "execution_count": 24,
   "metadata": {
    "tags": [
     "narrative",
     "hermeneutics",
     "figure-8b"
    ]
   },
   "outputs": [
    {
     "data": {
      "image/png": "[encoded data removed]",
      "text/plain": [
       "<Figure size 1008x288 with 2 Axes>"
      ]
     },
     "metadata": {},
     "output_type": "display_data"
    }
   ],
   "source": [
    "plt.figure(figsize=(14,4))\n",
    "fig8b = sns.heatmap(semantisme_coll_norm, xticklabels = True, yticklabels = True, center=0, cmap=\"viridis\")\n",
    "plt.xlabel(\"Semantics of the collocates\")\n",
    "plt.ylabel(\"Lemma\")\n",
    "plt.title(\"figure 8b : Weighted distribution according the collocates' semantics (heads and dependents)\")\n",
    "plt.show()"
   ]
  },
  {
   "cell_type": "markdown",
   "metadata": {},
   "source": [
    "_Analysis_: We observe in the normalized heatmap ([figure 8b](#figure-8b)) that the semantics of collocations is an efficient criterion to discriminate between lexemes. _multitudo_ collocates preferentially with lexemes having the semantic feature /quantity/ (an expected result considering the etymology of the term), but also /movement/. The collocates of _turba_ bring out the features /movement/, but also /mixture/, /military/, and we note recurrent, but less frequent, associations with the /conflict/, /disorder/, /spatiality/ and /vocalization/ features. _Vulgus_ collocates with lexical items associated with the semantic feature /opinion/, with a strong presence of /vocalization/ and terms describing a state of the crowd, like stative verbs (/stative/)."
   ]
  },
  {
   "cell_type": "markdown",
   "metadata": {},
   "source": [
    "#### 3.2.2 Comparison with the co–occurrences (Hyperbase Web)"
   ]
  },
  {
   "cell_type": "markdown",
   "metadata": {},
   "source": [
    "A quick comparison can be made with the co–occurrence extraction through the Hyperbase web platform (LASLA database). Co–occurrence refers to the presence of two linguistic units in the same span of text (here, the chosen search window is the sentence), without any particular syntactic relationship (co–occurrents are therefore not always collocates, since the notion of collocation refers to a type of sequence of compositional meaning whose constituent parts are not attracted by chance)."
   ]
  },
  {
   "cell_type": "markdown",
   "metadata": {},
   "source": [
    "In __table 1__ below, we present all the co–occurrents of the three lexemes extracted through Hyperbase (corpus of Tacitus’ works tagged by the LASLA), limiting ourselves to the most significant co–occurrents, _ie_ whose specificity score is higher than 3.5 (on the hypergeometric probability calculation resulting in this specificity score, see [É. Brunet's Hyperbase manual](http://ancilla.unice.fr/hyperbase/manuel.pdf) pp. 37-41)."
   ]
  },
  {
   "cell_type": "code",
   "execution_count": 25,
   "metadata": {},
   "outputs": [],
   "source": [
    "cooc_tac_m_hbs = pd.read_csv(\"cooc-multitudo-tac_hyperbase.csv\", sep=\";\", encoding=\"latin1\")\n",
    "cooc_tac_v_hbs = pd.read_csv(\"cooc-uulgus-tac_hyperbase.csv\", sep=\";\", encoding=\"latin1\")\n",
    "cooc_tac_t_hbs = pd.read_csv(\"cooc-turba-tac_hyperbase.csv\", sep=\";\", encoding=\"latin1\")\n",
    "\n",
    "cooc_tac_m_hbs[\"lemma\"] = \"multitudo\"\n",
    "cooc_tac_v_hbs[\"lemma\"] = \"vulgus\"\n",
    "cooc_tac_t_hbs[\"lemma\"] = \"turba\"\n",
    "cooc_tac_hbs = pd.concat([cooc_tac_m_hbs, cooc_tac_t_hbs, cooc_tac_v_hbs])\n",
    "\n",
    "# Cleaning of the Hyperbase data\n",
    "cooc_tac_hbs.drop(0, inplace=True) # leaving the first cooccurrent, always empty in the Hyperbase CSV\n",
    "cooc_tac_hbs.drop(cooc_tac_hbs[cooc_tac_hbs[\"Mot\"].str.contains(\" N\")].index, inplace=True) # putting away names of people\n",
    "cooc_tac_hbs[\"Mot\"] = cooc_tac_hbs[\"Mot\"].str.lower().str.replace(\"lem:\", \"\").str.replace(\"v\", \"u\").str.replace(\" [0-9]\", \"\", regex=True) # on enlève les chiffres désambiguïsant les homonymes\n",
    "cooc_tac_hbs.reset_index(inplace=True, drop=True)\n",
    "cooc_tac_hbs.columns = ['specificity', 'probability', 'frequency_corpus', 'frequency_part', 'size_corpus', 'size_part', 'word', 'lemma']\n",
    "cooc_tac_hbs = cooc_tac_hbs[[\"lemma\", \"word\", \"specificity\", \"probability\", \"frequency_corpus\", \"frequency_part\", \"size_corpus\", \"size_part\"]]"
   ]
  },
  {
   "cell_type": "code",
   "execution_count": 26,
   "metadata": {
    "tags": [
     "narrative",
     "hermeneutics",
     "table-1"
    ]
   },
   "outputs": [
    {
     "data": {
      "text/html": [
       "<style  type=\"text/css\" >\n",
       "</style><table id=\"T_a65a2_\" ><caption>table 1 : Co-occurrents of the lexemes (specificity > 3.5, data Hyperbase Web / LASLA)</caption><thead>    <tr>        <th class=\"col_heading level0 col0\" >lemma</th>        <th class=\"col_heading level0 col1\" >word</th>        <th class=\"col_heading level0 col2\" >specificity</th>        <th class=\"col_heading level0 col3\" >probability</th>        <th class=\"col_heading level0 col4\" >frequency_corpus</th>        <th class=\"col_heading level0 col5\" >frequency_part</th>        <th class=\"col_heading level0 col6\" >size_corpus</th>        <th class=\"col_heading level0 col7\" >size_part</th>    </tr></thead><tbody>\n",
       "                <tr>\n",
       "                                <td id=\"T_a65a2_row0_col0\" class=\"data row0 col0\" >multitudo</td>\n",
       "                        <td id=\"T_a65a2_row0_col1\" class=\"data row0 col1\" >ob</td>\n",
       "                        <td id=\"T_a65a2_row0_col2\" class=\"data row0 col2\" >4.280000</td>\n",
       "                        <td id=\"T_a65a2_row0_col3\" class=\"data row0 col3\" >0.000015</td>\n",
       "                        <td id=\"T_a65a2_row0_col4\" class=\"data row0 col4\" >808</td>\n",
       "                        <td id=\"T_a65a2_row0_col5\" class=\"data row0 col5\" >7</td>\n",
       "                        <td id=\"T_a65a2_row0_col6\" class=\"data row0 col6\" >2104866</td>\n",
       "                        <td id=\"T_a65a2_row0_col7\" class=\"data row0 col7\" >2001</td>\n",
       "            </tr>\n",
       "            <tr>\n",
       "                                <td id=\"T_a65a2_row1_col0\" class=\"data row1 col0\" >multitudo</td>\n",
       "                        <td id=\"T_a65a2_row1_col1\" class=\"data row1 col1\" >urbs</td>\n",
       "                        <td id=\"T_a65a2_row1_col2\" class=\"data row1 col2\" >4.110000</td>\n",
       "                        <td id=\"T_a65a2_row1_col3\" class=\"data row1 col3\" >0.000034</td>\n",
       "                        <td id=\"T_a65a2_row1_col4\" class=\"data row1 col4\" >2930</td>\n",
       "                        <td id=\"T_a65a2_row1_col5\" class=\"data row1 col5\" >12</td>\n",
       "                        <td id=\"T_a65a2_row1_col6\" class=\"data row1 col6\" >2104866</td>\n",
       "                        <td id=\"T_a65a2_row1_col7\" class=\"data row1 col7\" >2001</td>\n",
       "            </tr>\n",
       "            <tr>\n",
       "                                <td id=\"T_a65a2_row2_col0\" class=\"data row2 col0\" >multitudo</td>\n",
       "                        <td id=\"T_a65a2_row2_col1\" class=\"data row2 col1\" >ac</td>\n",
       "                        <td id=\"T_a65a2_row2_col2\" class=\"data row2 col2\" >3.900000</td>\n",
       "                        <td id=\"T_a65a2_row2_col3\" class=\"data row2 col3\" >0.000083</td>\n",
       "                        <td id=\"T_a65a2_row2_col4\" class=\"data row2 col4\" >6542</td>\n",
       "                        <td id=\"T_a65a2_row2_col5\" class=\"data row2 col5\" >18</td>\n",
       "                        <td id=\"T_a65a2_row2_col6\" class=\"data row2 col6\" >2104866</td>\n",
       "                        <td id=\"T_a65a2_row2_col7\" class=\"data row2 col7\" >2001</td>\n",
       "            </tr>\n",
       "            <tr>\n",
       "                                <td id=\"T_a65a2_row3_col0\" class=\"data row3 col0\" >multitudo</td>\n",
       "                        <td id=\"T_a65a2_row3_col1\" class=\"data row3 col1\" >iussum</td>\n",
       "                        <td id=\"T_a65a2_row3_col2\" class=\"data row3 col2\" >3.850000</td>\n",
       "                        <td id=\"T_a65a2_row3_col3\" class=\"data row3 col3\" >0.000104</td>\n",
       "                        <td id=\"T_a65a2_row3_col4\" class=\"data row3 col4\" >93</td>\n",
       "                        <td id=\"T_a65a2_row3_col5\" class=\"data row3 col5\" >3</td>\n",
       "                        <td id=\"T_a65a2_row3_col6\" class=\"data row3 col6\" >2104866</td>\n",
       "                        <td id=\"T_a65a2_row3_col7\" class=\"data row3 col7\" >2001</td>\n",
       "            </tr>\n",
       "            <tr>\n",
       "                                <td id=\"T_a65a2_row4_col0\" class=\"data row4 col0\" >multitudo</td>\n",
       "                        <td id=\"T_a65a2_row4_col1\" class=\"data row4 col1\" >conglobo</td>\n",
       "                        <td id=\"T_a65a2_row4_col2\" class=\"data row4 col2\" >3.780000</td>\n",
       "                        <td id=\"T_a65a2_row4_col3\" class=\"data row4 col3\" >0.000137</td>\n",
       "                        <td id=\"T_a65a2_row4_col4\" class=\"data row4 col4\" >18</td>\n",
       "                        <td id=\"T_a65a2_row4_col5\" class=\"data row4 col5\" >2</td>\n",
       "                        <td id=\"T_a65a2_row4_col6\" class=\"data row4 col6\" >2104866</td>\n",
       "                        <td id=\"T_a65a2_row4_col7\" class=\"data row4 col7\" >2001</td>\n",
       "            </tr>\n",
       "            <tr>\n",
       "                                <td id=\"T_a65a2_row5_col0\" class=\"data row5 col0\" >turba</td>\n",
       "                        <td id=\"T_a65a2_row5_col1\" class=\"data row5 col1\" >ciuilis</td>\n",
       "                        <td id=\"T_a65a2_row5_col2\" class=\"data row5 col2\" >4.130000</td>\n",
       "                        <td id=\"T_a65a2_row5_col3\" class=\"data row5 col3\" >0.000031</td>\n",
       "                        <td id=\"T_a65a2_row5_col4\" class=\"data row5 col4\" >391</td>\n",
       "                        <td id=\"T_a65a2_row5_col5\" class=\"data row5 col5\" >4</td>\n",
       "                        <td id=\"T_a65a2_row5_col6\" class=\"data row5 col6\" >2104866</td>\n",
       "                        <td id=\"T_a65a2_row5_col7\" class=\"data row5 col7\" >927</td>\n",
       "            </tr>\n",
       "            <tr>\n",
       "                                <td id=\"T_a65a2_row6_col0\" class=\"data row6 col0\" >turba</td>\n",
       "                        <td id=\"T_a65a2_row6_col1\" class=\"data row6 col1\" >inconditus</td>\n",
       "                        <td id=\"T_a65a2_row6_col2\" class=\"data row6 col2\" >3.810000</td>\n",
       "                        <td id=\"T_a65a2_row6_col3\" class=\"data row6 col3\" >0.000121</td>\n",
       "                        <td id=\"T_a65a2_row6_col4\" class=\"data row6 col4\" >36</td>\n",
       "                        <td id=\"T_a65a2_row6_col5\" class=\"data row6 col5\" >2</td>\n",
       "                        <td id=\"T_a65a2_row6_col6\" class=\"data row6 col6\" >2104866</td>\n",
       "                        <td id=\"T_a65a2_row6_col7\" class=\"data row6 col7\" >927</td>\n",
       "            </tr>\n",
       "            <tr>\n",
       "                                <td id=\"T_a65a2_row7_col0\" class=\"data row7 col0\" >turba</td>\n",
       "                        <td id=\"T_a65a2_row7_col1\" class=\"data row7 col1\" >ac</td>\n",
       "                        <td id=\"T_a65a2_row7_col2\" class=\"data row7 col2\" >3.690000</td>\n",
       "                        <td id=\"T_a65a2_row7_col3\" class=\"data row7 col3\" >0.000196</td>\n",
       "                        <td id=\"T_a65a2_row7_col4\" class=\"data row7 col4\" >6542</td>\n",
       "                        <td id=\"T_a65a2_row7_col5\" class=\"data row7 col5\" >11</td>\n",
       "                        <td id=\"T_a65a2_row7_col6\" class=\"data row7 col6\" >2104866</td>\n",
       "                        <td id=\"T_a65a2_row7_col7\" class=\"data row7 col7\" >927</td>\n",
       "            </tr>\n",
       "            <tr>\n",
       "                                <td id=\"T_a65a2_row8_col0\" class=\"data row8 col0\" >turba</td>\n",
       "                        <td id=\"T_a65a2_row8_col1\" class=\"data row8 col1\" >immisceo</td>\n",
       "                        <td id=\"T_a65a2_row8_col2\" class=\"data row8 col2\" >3.640000</td>\n",
       "                        <td id=\"T_a65a2_row8_col3\" class=\"data row8 col3\" >0.000243</td>\n",
       "                        <td id=\"T_a65a2_row8_col4\" class=\"data row8 col4\" >51</td>\n",
       "                        <td id=\"T_a65a2_row8_col5\" class=\"data row8 col5\" >2</td>\n",
       "                        <td id=\"T_a65a2_row8_col6\" class=\"data row8 col6\" >2104866</td>\n",
       "                        <td id=\"T_a65a2_row8_col7\" class=\"data row8 col7\" >927</td>\n",
       "            </tr>\n",
       "            <tr>\n",
       "                                <td id=\"T_a65a2_row9_col0\" class=\"data row9 col0\" >vulgus</td>\n",
       "                        <td id=\"T_a65a2_row9_col1\" class=\"data row9 col1\" >miles</td>\n",
       "                        <td id=\"T_a65a2_row9_col2\" class=\"data row9 col2\" >5.570000</td>\n",
       "                        <td id=\"T_a65a2_row9_col3\" class=\"data row9 col3\" >0.000000</td>\n",
       "                        <td id=\"T_a65a2_row9_col4\" class=\"data row9 col4\" >2511</td>\n",
       "                        <td id=\"T_a65a2_row9_col5\" class=\"data row9 col5\" >22</td>\n",
       "                        <td id=\"T_a65a2_row9_col6\" class=\"data row9 col6\" >2104866</td>\n",
       "                        <td id=\"T_a65a2_row9_col7\" class=\"data row9 col7\" >4275</td>\n",
       "            </tr>\n",
       "            <tr>\n",
       "                                <td id=\"T_a65a2_row10_col0\" class=\"data row10 col0\" >vulgus</td>\n",
       "                        <td id=\"T_a65a2_row10_col1\" class=\"data row10 col1\" >deterior</td>\n",
       "                        <td id=\"T_a65a2_row10_col2\" class=\"data row10 col2\" >5.000000</td>\n",
       "                        <td id=\"T_a65a2_row10_col3\" class=\"data row10 col3\" >0.000000</td>\n",
       "                        <td id=\"T_a65a2_row10_col4\" class=\"data row10 col4\" >139</td>\n",
       "                        <td id=\"T_a65a2_row10_col5\" class=\"data row10 col5\" >6</td>\n",
       "                        <td id=\"T_a65a2_row10_col6\" class=\"data row10 col6\" >2104866</td>\n",
       "                        <td id=\"T_a65a2_row10_col7\" class=\"data row10 col7\" >4275</td>\n",
       "            </tr>\n",
       "            <tr>\n",
       "                                <td id=\"T_a65a2_row11_col0\" class=\"data row11 col0\" >vulgus</td>\n",
       "                        <td id=\"T_a65a2_row11_col1\" class=\"data row11 col1\" >iuuenta</td>\n",
       "                        <td id=\"T_a65a2_row11_col2\" class=\"data row11 col2\" >4.650000</td>\n",
       "                        <td id=\"T_a65a2_row11_col3\" class=\"data row11 col3\" >0.000003</td>\n",
       "                        <td id=\"T_a65a2_row11_col4\" class=\"data row11 col4\" >105</td>\n",
       "                        <td id=\"T_a65a2_row11_col5\" class=\"data row11 col5\" >5</td>\n",
       "                        <td id=\"T_a65a2_row11_col6\" class=\"data row11 col6\" >2104866</td>\n",
       "                        <td id=\"T_a65a2_row11_col7\" class=\"data row11 col7\" >4275</td>\n",
       "            </tr>\n",
       "            <tr>\n",
       "                                <td id=\"T_a65a2_row12_col0\" class=\"data row12 col0\" >vulgus</td>\n",
       "                        <td id=\"T_a65a2_row12_col1\" class=\"data row12 col1\" >turbidus</td>\n",
       "                        <td id=\"T_a65a2_row12_col2\" class=\"data row12 col2\" >4.620000</td>\n",
       "                        <td id=\"T_a65a2_row12_col3\" class=\"data row12 col3\" >0.000003</td>\n",
       "                        <td id=\"T_a65a2_row12_col4\" class=\"data row12 col4\" >108</td>\n",
       "                        <td id=\"T_a65a2_row12_col5\" class=\"data row12 col5\" >5</td>\n",
       "                        <td id=\"T_a65a2_row12_col6\" class=\"data row12 col6\" >2104866</td>\n",
       "                        <td id=\"T_a65a2_row12_col7\" class=\"data row12 col7\" >4275</td>\n",
       "            </tr>\n",
       "            <tr>\n",
       "                                <td id=\"T_a65a2_row13_col0\" class=\"data row13 col0\" >vulgus</td>\n",
       "                        <td id=\"T_a65a2_row13_col1\" class=\"data row13 col1\" >appello</td>\n",
       "                        <td id=\"T_a65a2_row13_col2\" class=\"data row13 col2\" >4.330000</td>\n",
       "                        <td id=\"T_a65a2_row13_col3\" class=\"data row13 col3\" >0.000012</td>\n",
       "                        <td id=\"T_a65a2_row13_col4\" class=\"data row13 col4\" >68</td>\n",
       "                        <td id=\"T_a65a2_row13_col5\" class=\"data row13 col5\" >4</td>\n",
       "                        <td id=\"T_a65a2_row13_col6\" class=\"data row13 col6\" >2104866</td>\n",
       "                        <td id=\"T_a65a2_row13_col7\" class=\"data row13 col7\" >4275</td>\n",
       "            </tr>\n",
       "            <tr>\n",
       "                                <td id=\"T_a65a2_row14_col0\" class=\"data row14 col0\" >vulgus</td>\n",
       "                        <td id=\"T_a65a2_row14_col1\" class=\"data row14 col1\" >ludicrum</td>\n",
       "                        <td id=\"T_a65a2_row14_col2\" class=\"data row14 col2\" >4.090000</td>\n",
       "                        <td id=\"T_a65a2_row14_col3\" class=\"data row14 col3\" >0.000036</td>\n",
       "                        <td id=\"T_a65a2_row14_col4\" class=\"data row14 col4\" >31</td>\n",
       "                        <td id=\"T_a65a2_row14_col5\" class=\"data row14 col5\" >3</td>\n",
       "                        <td id=\"T_a65a2_row14_col6\" class=\"data row14 col6\" >2104866</td>\n",
       "                        <td id=\"T_a65a2_row14_col7\" class=\"data row14 col7\" >4275</td>\n",
       "            </tr>\n",
       "            <tr>\n",
       "                                <td id=\"T_a65a2_row15_col0\" class=\"data row15 col0\" >vulgus</td>\n",
       "                        <td id=\"T_a65a2_row15_col1\" class=\"data row15 col1\" >ut</td>\n",
       "                        <td id=\"T_a65a2_row15_col2\" class=\"data row15 col2\" >4.030000</td>\n",
       "                        <td id=\"T_a65a2_row15_col3\" class=\"data row15 col3\" >0.000048</td>\n",
       "                        <td id=\"T_a65a2_row15_col4\" class=\"data row15 col4\" >4354</td>\n",
       "                        <td id=\"T_a65a2_row15_col5\" class=\"data row15 col5\" >23</td>\n",
       "                        <td id=\"T_a65a2_row15_col6\" class=\"data row15 col6\" >2104866</td>\n",
       "                        <td id=\"T_a65a2_row15_col7\" class=\"data row15 col7\" >4275</td>\n",
       "            </tr>\n",
       "            <tr>\n",
       "                                <td id=\"T_a65a2_row16_col0\" class=\"data row16 col0\" >vulgus</td>\n",
       "                        <td id=\"T_a65a2_row16_col1\" class=\"data row16 col1\" >pauci</td>\n",
       "                        <td id=\"T_a65a2_row16_col2\" class=\"data row16 col2\" >3.860000</td>\n",
       "                        <td id=\"T_a65a2_row16_col3\" class=\"data row16 col3\" >0.000097</td>\n",
       "                        <td id=\"T_a65a2_row16_col4\" class=\"data row16 col4\" >353</td>\n",
       "                        <td id=\"T_a65a2_row16_col5\" class=\"data row16 col5\" >6</td>\n",
       "                        <td id=\"T_a65a2_row16_col6\" class=\"data row16 col6\" >2104866</td>\n",
       "                        <td id=\"T_a65a2_row16_col7\" class=\"data row16 col7\" >4275</td>\n",
       "            </tr>\n",
       "            <tr>\n",
       "                                <td id=\"T_a65a2_row17_col0\" class=\"data row17 col0\" >vulgus</td>\n",
       "                        <td id=\"T_a65a2_row17_col1\" class=\"data row17 col1\" >quisque</td>\n",
       "                        <td id=\"T_a65a2_row17_col2\" class=\"data row17 col2\" >3.860000</td>\n",
       "                        <td id=\"T_a65a2_row17_col3\" class=\"data row17 col3\" >0.000097</td>\n",
       "                        <td id=\"T_a65a2_row17_col4\" class=\"data row17 col4\" >1777</td>\n",
       "                        <td id=\"T_a65a2_row17_col5\" class=\"data row17 col5\" >13</td>\n",
       "                        <td id=\"T_a65a2_row17_col6\" class=\"data row17 col6\" >2104866</td>\n",
       "                        <td id=\"T_a65a2_row17_col7\" class=\"data row17 col7\" >4275</td>\n",
       "            </tr>\n",
       "            <tr>\n",
       "                                <td id=\"T_a65a2_row18_col0\" class=\"data row18 col0\" >vulgus</td>\n",
       "                        <td id=\"T_a65a2_row18_col1\" class=\"data row18 col1\" >solitus</td>\n",
       "                        <td id=\"T_a65a2_row18_col2\" class=\"data row18 col2\" >3.850000</td>\n",
       "                        <td id=\"T_a65a2_row18_col3\" class=\"data row18 col3\" >0.000101</td>\n",
       "                        <td id=\"T_a65a2_row18_col4\" class=\"data row18 col4\" >116</td>\n",
       "                        <td id=\"T_a65a2_row18_col5\" class=\"data row18 col5\" >4</td>\n",
       "                        <td id=\"T_a65a2_row18_col6\" class=\"data row18 col6\" >2104866</td>\n",
       "                        <td id=\"T_a65a2_row18_col7\" class=\"data row18 col7\" >4275</td>\n",
       "            </tr>\n",
       "            <tr>\n",
       "                                <td id=\"T_a65a2_row19_col0\" class=\"data row19 col0\" >vulgus</td>\n",
       "                        <td id=\"T_a65a2_row19_col1\" class=\"data row19 col1\" >ac</td>\n",
       "                        <td id=\"T_a65a2_row19_col2\" class=\"data row19 col2\" >3.810000</td>\n",
       "                        <td id=\"T_a65a2_row19_col3\" class=\"data row19 col3\" >0.000120</td>\n",
       "                        <td id=\"T_a65a2_row19_col4\" class=\"data row19 col4\" >6542</td>\n",
       "                        <td id=\"T_a65a2_row19_col5\" class=\"data row19 col5\" >29</td>\n",
       "                        <td id=\"T_a65a2_row19_col6\" class=\"data row19 col6\" >2104866</td>\n",
       "                        <td id=\"T_a65a2_row19_col7\" class=\"data row19 col7\" >4275</td>\n",
       "            </tr>\n",
       "            <tr>\n",
       "                                <td id=\"T_a65a2_row20_col0\" class=\"data row20 col0\" >vulgus</td>\n",
       "                        <td id=\"T_a65a2_row20_col1\" class=\"data row20 col1\" >creber</td>\n",
       "                        <td id=\"T_a65a2_row20_col2\" class=\"data row20 col2\" >3.810000</td>\n",
       "                        <td id=\"T_a65a2_row20_col3\" class=\"data row20 col3\" >0.000120</td>\n",
       "                        <td id=\"T_a65a2_row20_col4\" class=\"data row20 col4\" >230</td>\n",
       "                        <td id=\"T_a65a2_row20_col5\" class=\"data row20 col5\" >5</td>\n",
       "                        <td id=\"T_a65a2_row20_col6\" class=\"data row20 col6\" >2104866</td>\n",
       "                        <td id=\"T_a65a2_row20_col7\" class=\"data row20 col7\" >4275</td>\n",
       "            </tr>\n",
       "            <tr>\n",
       "                                <td id=\"T_a65a2_row21_col0\" class=\"data row21 col0\" >vulgus</td>\n",
       "                        <td id=\"T_a65a2_row21_col1\" class=\"data row21 col1\" >ingruo</td>\n",
       "                        <td id=\"T_a65a2_row21_col2\" class=\"data row21 col2\" >3.800000</td>\n",
       "                        <td id=\"T_a65a2_row21_col3\" class=\"data row21 col3\" >0.000126</td>\n",
       "                        <td id=\"T_a65a2_row21_col4\" class=\"data row21 col4\" >47</td>\n",
       "                        <td id=\"T_a65a2_row21_col5\" class=\"data row21 col5\" >3</td>\n",
       "                        <td id=\"T_a65a2_row21_col6\" class=\"data row21 col6\" >2104866</td>\n",
       "                        <td id=\"T_a65a2_row21_col7\" class=\"data row21 col7\" >4275</td>\n",
       "            </tr>\n",
       "            <tr>\n",
       "                                <td id=\"T_a65a2_row22_col0\" class=\"data row22 col0\" >vulgus</td>\n",
       "                        <td id=\"T_a65a2_row22_col1\" class=\"data row22 col1\" >fauor</td>\n",
       "                        <td id=\"T_a65a2_row22_col2\" class=\"data row22 col2\" >3.790000</td>\n",
       "                        <td id=\"T_a65a2_row22_col3\" class=\"data row22 col3\" >0.000134</td>\n",
       "                        <td id=\"T_a65a2_row22_col4\" class=\"data row22 col4\" >125</td>\n",
       "                        <td id=\"T_a65a2_row22_col5\" class=\"data row22 col5\" >4</td>\n",
       "                        <td id=\"T_a65a2_row22_col6\" class=\"data row22 col6\" >2104866</td>\n",
       "                        <td id=\"T_a65a2_row22_col7\" class=\"data row22 col7\" >4275</td>\n",
       "            </tr>\n",
       "            <tr>\n",
       "                                <td id=\"T_a65a2_row23_col0\" class=\"data row23 col0\" >vulgus</td>\n",
       "                        <td id=\"T_a65a2_row23_col1\" class=\"data row23 col1\" >per</td>\n",
       "                        <td id=\"T_a65a2_row23_col2\" class=\"data row23 col2\" >3.770000</td>\n",
       "                        <td id=\"T_a65a2_row23_col3\" class=\"data row23 col3\" >0.000141</td>\n",
       "                        <td id=\"T_a65a2_row23_col4\" class=\"data row23 col4\" >5633</td>\n",
       "                        <td id=\"T_a65a2_row23_col5\" class=\"data row23 col5\" >26</td>\n",
       "                        <td id=\"T_a65a2_row23_col6\" class=\"data row23 col6\" >2104866</td>\n",
       "                        <td id=\"T_a65a2_row23_col7\" class=\"data row23 col7\" >4275</td>\n",
       "            </tr>\n",
       "            <tr>\n",
       "                                <td id=\"T_a65a2_row24_col0\" class=\"data row24 col0\" >vulgus</td>\n",
       "                        <td id=\"T_a65a2_row24_col1\" class=\"data row24 col1\" >quia</td>\n",
       "                        <td id=\"T_a65a2_row24_col2\" class=\"data row24 col2\" >3.720000</td>\n",
       "                        <td id=\"T_a65a2_row24_col3\" class=\"data row24 col3\" >0.000176</td>\n",
       "                        <td id=\"T_a65a2_row24_col4\" class=\"data row24 col4\" >2149</td>\n",
       "                        <td id=\"T_a65a2_row24_col5\" class=\"data row24 col5\" >14</td>\n",
       "                        <td id=\"T_a65a2_row24_col6\" class=\"data row24 col6\" >2104866</td>\n",
       "                        <td id=\"T_a65a2_row24_col7\" class=\"data row24 col7\" >4275</td>\n",
       "            </tr>\n",
       "            <tr>\n",
       "                                <td id=\"T_a65a2_row25_col0\" class=\"data row25 col0\" >vulgus</td>\n",
       "                        <td id=\"T_a65a2_row25_col1\" class=\"data row25 col1\" >superstitio</td>\n",
       "                        <td id=\"T_a65a2_row25_col2\" class=\"data row25 col2\" >3.600000</td>\n",
       "                        <td id=\"T_a65a2_row25_col3\" class=\"data row25 col3\" >0.000288</td>\n",
       "                        <td id=\"T_a65a2_row25_col4\" class=\"data row25 col4\" >62</td>\n",
       "                        <td id=\"T_a65a2_row25_col5\" class=\"data row25 col5\" >3</td>\n",
       "                        <td id=\"T_a65a2_row25_col6\" class=\"data row25 col6\" >2104866</td>\n",
       "                        <td id=\"T_a65a2_row25_col7\" class=\"data row25 col7\" >4275</td>\n",
       "            </tr>\n",
       "            <tr>\n",
       "                                <td id=\"T_a65a2_row26_col0\" class=\"data row26 col0\" >vulgus</td>\n",
       "                        <td id=\"T_a65a2_row26_col1\" class=\"data row26 col1\" >effundo</td>\n",
       "                        <td id=\"T_a65a2_row26_col2\" class=\"data row26 col2\" >3.580000</td>\n",
       "                        <td id=\"T_a65a2_row26_col3\" class=\"data row26 col3\" >0.000306</td>\n",
       "                        <td id=\"T_a65a2_row26_col4\" class=\"data row26 col4\" >282</td>\n",
       "                        <td id=\"T_a65a2_row26_col5\" class=\"data row26 col5\" >5</td>\n",
       "                        <td id=\"T_a65a2_row26_col6\" class=\"data row26 col6\" >2104866</td>\n",
       "                        <td id=\"T_a65a2_row26_col7\" class=\"data row26 col7\" >4275</td>\n",
       "            </tr>\n",
       "            <tr>\n",
       "                                <td id=\"T_a65a2_row27_col0\" class=\"data row27 col0\" >vulgus</td>\n",
       "                        <td id=\"T_a65a2_row27_col1\" class=\"data row27 col1\" >mox</td>\n",
       "                        <td id=\"T_a65a2_row27_col2\" class=\"data row27 col2\" >3.570000</td>\n",
       "                        <td id=\"T_a65a2_row27_col3\" class=\"data row27 col3\" >0.000326</td>\n",
       "                        <td id=\"T_a65a2_row27_col4\" class=\"data row27 col4\" >622</td>\n",
       "                        <td id=\"T_a65a2_row27_col5\" class=\"data row27 col5\" >7</td>\n",
       "                        <td id=\"T_a65a2_row27_col6\" class=\"data row27 col6\" >2104866</td>\n",
       "                        <td id=\"T_a65a2_row27_col7\" class=\"data row27 col7\" >4275</td>\n",
       "            </tr>\n",
       "    </tbody></table>"
      ],
      "text/plain": [
       "<pandas.io.formats.style.Styler at 0x129ce9d90>"
      ]
     },
     "metadata": {
      "jdh": {
       "object": {
        "source": [
         "table 1 : Co-occurrents of the lexemes (specificity > 3.5, data Hyperbase Web / LASLA)"
        ]
       }
      }
     },
     "output_type": "display_data"
    }
   ],
   "source": [
    "caption_content = 'table 1 : Co-occurrents of the lexemes (specificity > 3.5, data Hyperbase Web / LASLA)'\n",
    "display(cooc_tac_hbs[cooc_tac_hbs[\"specificity\"] > 3.5].style.set_caption(caption_content).hide_index(),\n",
    "        metadata={\"jdh\":{\"object\":{\"source\": [caption_content]}}})"
   ]
  },
  {
   "cell_type": "markdown",
   "metadata": {},
   "source": [
    "_Analysis_: The different method used to generate this table proves less efficient when discriminating between the three main lexemes of the crowd. Aside from the numerous prepositions and conjunctions extracted by Hyperbase, which are not very telling, the semantics of each lexeme's most specific co-occurents do not appear as clearly as in our manual collation above, although one can notice the combination between _multitudo_ and words indicating a spatialization or quantitative importance of the crowd (_conglobo_, “to gather”), _turba_ and terms with the semantic features /mixture/ and /disorder/ (_immisceo_, “to blend in”, _inconditus_, “disordered”), and _vulgus_ with verbs and nouns of opinion and vocalisation (_appello_, “to call”, _favor_, “favour”, _superstitio_, “superstition”)."
   ]
  },
  {
   "cell_type": "markdown",
   "metadata": {},
   "source": [
    "#### 3.2.3 Recurrence of collocates"
   ]
  },
  {
   "cell_type": "markdown",
   "metadata": {},
   "source": [
    "##### 3.2.3.1 Heads"
   ]
  },
  {
   "cell_type": "markdown",
   "metadata": {},
   "source": [
    "Let us first look at the recurrence of collocates to identify whether the lexemes of the crowd preferentially associate with a reduced or with a broad set of terms. [figure 9a](#figure-9a) shows the distribution by lexeme of the number of occurrences of each head. [figure 9b](#figure-9b) focuses on _vulgus_, whose distribution is different from that of _multitudo_ and _turba_."
   ]
  },
  {
   "cell_type": "code",
   "execution_count": 27,
   "metadata": {},
   "outputs": [],
   "source": [
    "# Heads by lexeme\n",
    "head_vulgus = noms_foule_df[noms_foule_df[\"lemma\"] == \"vulgus\"].l_head.value_counts()\n",
    "head_multitudo = noms_foule_df[noms_foule_df[\"lemma\"] == \"multitudo\"].l_head.value_counts()\n",
    "head_turba = noms_foule_df[noms_foule_df[\"lemma\"] == \"turba\"].l_head.value_counts()\n",
    "\n",
    "# Constitution of the dataframe\n",
    "head_df = pd.DataFrame({\"vulgus\": head_vulgus, \"turba\": head_turba, \"multitudo\": head_multitudo})\n",
    "head_df = head_df.fillna(0)\n",
    "head_df = head_df[[\"vulgus\", \"multitudo\", \"turba\"]]\n",
    "\n",
    "# Separation of multiple collocates\n",
    "for index, content in head_df.iterrows():\n",
    "    if \",\" in index:\n",
    "        coocs = index.split(\", \")\n",
    "        for cooc in coocs:\n",
    "            if cooc in head_df.index:\n",
    "                head_df.loc[cooc] += content\n",
    "            else:\n",
    "                head_df.loc[cooc] = content"
   ]
  },
  {
   "cell_type": "code",
   "execution_count": 28,
   "metadata": {
    "tags": [
     "narrative",
     "hermeneutics",
     "figure-9a"
    ]
   },
   "outputs": [
    {
     "data": {
      "text/plain": [
       "Text(0.5, 1.0, 'figure 9a : Distribution according to the reccurrence of the head collocates')"
      ]
     },
     "execution_count": 28,
     "metadata": {},
     "output_type": "execute_result"
    },
    {
     "data": {
      "image/png": "[encoded data removed]",
      "text/plain": [
       "<Figure size 444.6x360 with 1 Axes>"
      ]
     },
     "metadata": {},
     "output_type": "display_data"
    }
   ],
   "source": [
    "fig9a = sns.displot(head_df[head_df >= 1], kind=\"kde\")\n",
    "fig9a.set_axis_labels(\"Number of occurrences of each individual head\", \"Density\", labelpad=10)\n",
    "plt.title(\"figure 9a : Distribution according to the reccurrence of the head collocates\")"
   ]
  },
  {
   "cell_type": "code",
   "execution_count": 29,
   "metadata": {
    "tags": [
     "narrative",
     "hermeneutics",
     "figure-9b"
    ]
   },
   "outputs": [
    {
     "data": {
      "image/png": "[encoded data removed]",
      "text/plain": [
       "<Figure size 1800x720 with 1 Axes>"
      ]
     },
     "metadata": {},
     "output_type": "display_data"
    }
   ],
   "source": [
    "fig9b = sns.displot(head_df[head_df >= 1], kind=\"kde\")\n",
    "fig9b.set_axis_labels(\"Number of occurrences of each individual head\", \"Density\", labelpad=10)\n",
    "plt.ylim(0, .1)\n",
    "x_ticks = np.arange(0, 16, 1)\n",
    "plt.xticks(x_ticks)\n",
    "plt.title(\"figure 9b : Distribution according to the reccurrence of the head collocates - zoom\")\n",
    "\n",
    "plt.gcf().set_size_inches(25, 10)"
   ]
  },
  {
   "cell_type": "markdown",
   "metadata": {},
   "source": [
    "_Analysis_: The results show a strong contrast between _vulgus_ on the one hand and _multitudo_/_turba_ on the other. All three lexemes are mostly associated with unique collocates. However, the density estimation shows that the number of unique collocates is much higher for _multitudo_ than for _turba_ and _vulgus_. More interestingly, _vulgus_ is the only term to have collocates that appear more than twice, and even has a collocate that occurs 15 times in the Tacitean corpus. To investigate this point, [table 2](#table-2) below shows the amount of occurrences of each head associated more than once with _multitudo_, _turba_ and/or _vulgus_."
   ]
  },
  {
   "cell_type": "code",
   "execution_count": 30,
   "metadata": {
    "tags": [
     "narrative",
     "hermeneutics",
     "table-2"
    ]
   },
   "outputs": [
    {
     "data": {
      "text/html": [
       "<style  type=\"text/css\" >\n",
       "</style><table id=\"T_0fc36_\" ><caption>table 2 : Heads associated more than once to each lexeme</caption><thead>    <tr>        <th class=\"blank level0\" ></th>        <th class=\"col_heading level0 col0\" >vulgus</th>        <th class=\"col_heading level0 col1\" >multitudo</th>        <th class=\"col_heading level0 col2\" >turba</th>    </tr></thead><tbody>\n",
       "                <tr>\n",
       "                        <th id=\"T_0fc36_level0_row0\" class=\"row_heading level0 row0\" >sum</th>\n",
       "                        <td id=\"T_0fc36_row0_col0\" class=\"data row0 col0\" >15</td>\n",
       "                        <td id=\"T_0fc36_row0_col1\" class=\"data row0 col1\" >2</td>\n",
       "                        <td id=\"T_0fc36_row0_col2\" class=\"data row0 col2\" >0</td>\n",
       "            </tr>\n",
       "            <tr>\n",
       "                        <th id=\"T_0fc36_level0_row1\" class=\"row_heading level0 row1\" >credo</th>\n",
       "                        <td id=\"T_0fc36_row1_col0\" class=\"data row1 col0\" >6</td>\n",
       "                        <td id=\"T_0fc36_row1_col1\" class=\"data row1 col1\" >0</td>\n",
       "                        <td id=\"T_0fc36_row1_col2\" class=\"data row1 col2\" >0</td>\n",
       "            </tr>\n",
       "            <tr>\n",
       "                        <th id=\"T_0fc36_level0_row2\" class=\"row_heading level0 row2\" >rumor</th>\n",
       "                        <td id=\"T_0fc36_row2_col0\" class=\"data row2 col0\" >6</td>\n",
       "                        <td id=\"T_0fc36_row2_col1\" class=\"data row2 col1\" >0</td>\n",
       "                        <td id=\"T_0fc36_row2_col2\" class=\"data row2 col2\" >0</td>\n",
       "            </tr>\n",
       "            <tr>\n",
       "                        <th id=\"T_0fc36_level0_row3\" class=\"row_heading level0 row3\" >studium</th>\n",
       "                        <td id=\"T_0fc36_row3_col0\" class=\"data row3 col0\" >6</td>\n",
       "                        <td id=\"T_0fc36_row3_col1\" class=\"data row3 col1\" >0</td>\n",
       "                        <td id=\"T_0fc36_row3_col2\" class=\"data row3 col2\" >0</td>\n",
       "            </tr>\n",
       "            <tr>\n",
       "                        <th id=\"T_0fc36_level0_row4\" class=\"row_heading level0 row4\" >adstrepo</th>\n",
       "                        <td id=\"T_0fc36_row4_col0\" class=\"data row4 col0\" >4</td>\n",
       "                        <td id=\"T_0fc36_row4_col1\" class=\"data row4 col1\" >0</td>\n",
       "                        <td id=\"T_0fc36_row4_col2\" class=\"data row4 col2\" >0</td>\n",
       "            </tr>\n",
       "            <tr>\n",
       "                        <th id=\"T_0fc36_level0_row5\" class=\"row_heading level0 row5\" >os</th>\n",
       "                        <td id=\"T_0fc36_row5_col0\" class=\"data row5 col0\" >3</td>\n",
       "                        <td id=\"T_0fc36_row5_col1\" class=\"data row5 col1\" >0</td>\n",
       "                        <td id=\"T_0fc36_row5_col2\" class=\"data row5 col2\" >0</td>\n",
       "            </tr>\n",
       "            <tr>\n",
       "                        <th id=\"T_0fc36_level0_row6\" class=\"row_heading level0 row6\" >sermo</th>\n",
       "                        <td id=\"T_0fc36_row6_col0\" class=\"data row6 col0\" >3</td>\n",
       "                        <td id=\"T_0fc36_row6_col1\" class=\"data row6 col1\" >0</td>\n",
       "                        <td id=\"T_0fc36_row6_col2\" class=\"data row6 col2\" >0</td>\n",
       "            </tr>\n",
       "            <tr>\n",
       "                        <th id=\"T_0fc36_level0_row7\" class=\"row_heading level0 row7\" >appello</th>\n",
       "                        <td id=\"T_0fc36_row7_col0\" class=\"data row7 col0\" >2</td>\n",
       "                        <td id=\"T_0fc36_row7_col1\" class=\"data row7 col1\" >0</td>\n",
       "                        <td id=\"T_0fc36_row7_col2\" class=\"data row7 col2\" >0</td>\n",
       "            </tr>\n",
       "            <tr>\n",
       "                        <th id=\"T_0fc36_level0_row8\" class=\"row_heading level0 row8\" >capio</th>\n",
       "                        <td id=\"T_0fc36_row8_col0\" class=\"data row8 col0\" >2</td>\n",
       "                        <td id=\"T_0fc36_row8_col1\" class=\"data row8 col1\" >0</td>\n",
       "                        <td id=\"T_0fc36_row8_col2\" class=\"data row8 col2\" >0</td>\n",
       "            </tr>\n",
       "            <tr>\n",
       "                        <th id=\"T_0fc36_level0_row9\" class=\"row_heading level0 row9\" >favor</th>\n",
       "                        <td id=\"T_0fc36_row9_col0\" class=\"data row9 col0\" >2</td>\n",
       "                        <td id=\"T_0fc36_row9_col1\" class=\"data row9 col1\" >0</td>\n",
       "                        <td id=\"T_0fc36_row9_col2\" class=\"data row9 col2\" >0</td>\n",
       "            </tr>\n",
       "            <tr>\n",
       "                        <th id=\"T_0fc36_level0_row10\" class=\"row_heading level0 row10\" >fingo</th>\n",
       "                        <td id=\"T_0fc36_row10_col0\" class=\"data row10 col0\" >2</td>\n",
       "                        <td id=\"T_0fc36_row10_col1\" class=\"data row10 col1\" >0</td>\n",
       "                        <td id=\"T_0fc36_row10_col2\" class=\"data row10 col2\" >0</td>\n",
       "            </tr>\n",
       "            <tr>\n",
       "                        <th id=\"T_0fc36_level0_row11\" class=\"row_heading level0 row11\" >mos</th>\n",
       "                        <td id=\"T_0fc36_row11_col0\" class=\"data row11 col0\" >2</td>\n",
       "                        <td id=\"T_0fc36_row11_col1\" class=\"data row11 col1\" >0</td>\n",
       "                        <td id=\"T_0fc36_row11_col2\" class=\"data row11 col2\" >0</td>\n",
       "            </tr>\n",
       "            <tr>\n",
       "                        <th id=\"T_0fc36_level0_row12\" class=\"row_heading level0 row12\" >conglobo</th>\n",
       "                        <td id=\"T_0fc36_row12_col0\" class=\"data row12 col0\" >0</td>\n",
       "                        <td id=\"T_0fc36_row12_col1\" class=\"data row12 col1\" >2</td>\n",
       "                        <td id=\"T_0fc36_row12_col2\" class=\"data row12 col2\" >0</td>\n",
       "            </tr>\n",
       "            <tr>\n",
       "                        <th id=\"T_0fc36_level0_row13\" class=\"row_heading level0 row13\" >consensus</th>\n",
       "                        <td id=\"T_0fc36_row13_col0\" class=\"data row13 col0\" >0</td>\n",
       "                        <td id=\"T_0fc36_row13_col1\" class=\"data row13 col1\" >2</td>\n",
       "                        <td id=\"T_0fc36_row13_col2\" class=\"data row13 col2\" >0</td>\n",
       "            </tr>\n",
       "            <tr>\n",
       "                        <th id=\"T_0fc36_level0_row14\" class=\"row_heading level0 row14\" >disiicio</th>\n",
       "                        <td id=\"T_0fc36_row14_col0\" class=\"data row14 col0\" >0</td>\n",
       "                        <td id=\"T_0fc36_row14_col1\" class=\"data row14 col1\" >2</td>\n",
       "                        <td id=\"T_0fc36_row14_col2\" class=\"data row14 col2\" >0</td>\n",
       "            </tr>\n",
       "            <tr>\n",
       "                        <th id=\"T_0fc36_level0_row15\" class=\"row_heading level0 row15\" >supero</th>\n",
       "                        <td id=\"T_0fc36_row15_col0\" class=\"data row15 col0\" >0</td>\n",
       "                        <td id=\"T_0fc36_row15_col1\" class=\"data row15 col1\" >2</td>\n",
       "                        <td id=\"T_0fc36_row15_col2\" class=\"data row15 col2\" >0</td>\n",
       "            </tr>\n",
       "            <tr>\n",
       "                        <th id=\"T_0fc36_level0_row16\" class=\"row_heading level0 row16\" >dimoveo</th>\n",
       "                        <td id=\"T_0fc36_row16_col0\" class=\"data row16 col0\" >0</td>\n",
       "                        <td id=\"T_0fc36_row16_col1\" class=\"data row16 col1\" >0</td>\n",
       "                        <td id=\"T_0fc36_row16_col2\" class=\"data row16 col2\" >2</td>\n",
       "            </tr>\n",
       "    </tbody></table>"
      ],
      "text/plain": [
       "<pandas.io.formats.style.Styler at 0x12ac23850>"
      ]
     },
     "metadata": {
      "jdh": {
       "object": {
        "source": [
         "table 2 : Heads associated more than once to each lexeme"
        ]
       }
      }
     },
     "output_type": "display_data"
    }
   ],
   "source": [
    "caption_content = 'table 2 : Heads associated more than once to each lexeme'\n",
    "display(head_df[(head_df[\"vulgus\"] >= 2) | (head_df[\"turba\"] >= 2) | (head_df[\"multitudo\"] >= 2)].astype(\"int\").sort_values(by=[\"vulgus\", \"multitudo\"], ascending=False).style.set_caption(caption_content),\n",
    "        metadata={\"jdh\":{\"object\":{\"source\": [caption_content]}}})\n"
   ]
  },
  {
   "cell_type": "markdown",
   "metadata": {},
   "source": [
    "This table shows, in a complementary way to the graph of [figure 9a](#figure-9a) and [figure 9b](#figure-9b), the singularity of _vulgus_, which has a higher number of recurrent head (defined as lemmas on which a lexeme depends at least twice) than _multitudo_ and _turba_ (11 occ. vs 4 occ. and 1 occ. respectively)."
   ]
  },
  {
   "cell_type": "markdown",
   "metadata": {},
   "source": [
    "The lexical profile of these recurrent collocates confirms our observation above. Indeed, for _multitudo_ and _turba_, the semantics of the heads recorded are essentially oriented towards indications of spatial movement (with the exception of _consensus_, “unanimity” for _multitudo_). On the contrary, for _vulgus_, they are mostly nouns or verbs referring to an opinion (_credere_, “to believe”; _rumor_, “gossip”; _studium_, “inclination”; _favor_, “favour”), an attitude (_mos_, “habit”) or a vocalization (_adstrepere_, “to respond noisily”; _os_, “mouth”; _appellare_, “to speak to”)."
   ]
  },
  {
   "cell_type": "markdown",
   "metadata": {},
   "source": [
    "Four factors can be put forward to explain why the verb _esse_ occurs so frequently (__15__ occ.) : \n",
    "* attributive structures in which _vulgus_ is the complement of the copula _esse_ (_eg_ : _aliquid est vulgo_, “sth belongs to the crowd”);\n",
    "* attributive structures in which _vulgus_ is the subject of the copula _esse_ and receives a complement (_eg_ : _vulgus est aliquid_, “the crowd is sth”);\n",
    "* structures in which _vulgus_ becomes an adverbial of place (_eg_ : _aliquid est per vulgum_, “sth is among the crowd”);\n",
    "* elliptical structures, in which we have restored the implied verb _esse_ (cf. above, section 1.3.8) and which belong to one of the three categories above."
   ]
  },
  {
   "cell_type": "markdown",
   "metadata": {},
   "source": [
    "A quick look at the Latin text of these 15 occurrences confirms this analysis:"
   ]
  },
  {
   "cell_type": "code",
   "execution_count": 31,
   "metadata": {
    "tags": [
     "narrative",
     "hermeneutics"
    ]
   },
   "outputs": [
    {
     "data": {
      "text/markdown": [
       "__Ann. 1.29.3__ (`ADV`) : _certatum inde sententiis, cum alii opperiendos legatos atque interim comitate permulcendum militem censerent, alii fortioribus remediis agendum: nihil in __vulgo__ modicum: terrere ni paveant, ubi pertimuerint inpune contemni: dum superstitio urgeat, adiciendos ex duce metus sublatis seditionis auctoribus_ (\"There was now a conflict of opinions, some proposing to wait for the return of the deputies and humour the troops in the meantime by a show of leniency, while others were for sterner remedies:-\"A crowd was nothing if not extreme: it must either bluster or cringe: once terrified, it could be ignored with impunity: now that it was depressed by superstition was the moment for the general to inspire fresh terror by removing the authors of the mutiny.\" \")\n"
      ],
      "text/plain": [
       "<IPython.core.display.Markdown object>"
      ]
     },
     "metadata": {},
     "output_type": "display_data"
    },
    {
     "data": {
      "text/markdown": [
       "__Ann. 1.76.3__ (`ADV`) : _edendis gladiatoribus, quos Germanici fratris ac suo nomine obtulerat, Drusus praesedit, quamquam vili sanguine nimis gaudens: quod in __vulgus__ formidolosum et pater arguisse dicebatur_ (\"A show of gladiators, given in the name of his brother Germanicus, was presided over by Drusus, who took an extravagant pleasure in the shedding of blood however vile-a trait so alarming to the populace that it was said to have been censured by his father.\")\n"
      ],
      "text/plain": [
       "<IPython.core.display.Markdown object>"
      ]
     },
     "metadata": {},
     "output_type": "display_data"
    },
    {
     "data": {
      "text/markdown": [
       "__Ann. 14.60.5__ (`ADV`) : _inde crebri questus nec occulti per __vulgum__, cui minor sapientia <et> ex mediocritate fortunae pauciora pericula sunt_ (\"The measure led to general and undisguised protests from the common people, endowed with less discretion than their superiors, and-thanks to their humble station-faced by fewer perils.\")\n"
      ],
      "text/plain": [
       "<IPython.core.display.Markdown object>"
      ]
     },
     "metadata": {},
     "output_type": "display_data"
    },
    {
     "data": {
      "text/markdown": [
       "__Ann. 15.48.2__ (`ADV`) : _is Calpurnio genere ortus ac multas insignisque familias paterna nobilitate complexus, claro apud __vulgum__ rumore __erat__ per virtutem aut species virtutibus similis_ (\"Piso, sprung from the Calpurnian house, and, by his fathers high descent, uniting in his own person many families of distinction, enjoyed with the multitude a shining reputation for virtue, or for spectacular qualities resembling virtues.\")\n"
      ],
      "text/plain": [
       "<IPython.core.display.Markdown object>"
      ]
     },
     "metadata": {},
     "output_type": "display_data"
    },
    {
     "data": {
      "text/markdown": [
       "__Hist. 1.86.2__ (`ADV`) : _fames in __vulgus__ inopia quaestus et penuria alimentorum_ (\"The common people were reduced to famine by lack of employment and failure of supplies.\")\n"
      ],
      "text/plain": [
       "<IPython.core.display.Markdown object>"
      ]
     },
     "metadata": {},
     "output_type": "display_data"
    },
    {
     "data": {
      "text/markdown": [
       "__Hist. 2.26.5__ (`ADV`) : _apud paucos ea ducis ratio probata, in __vulgus__ adverso rumore fuit_ (\"A few approved of the generals plan, but it caused adverse comment among the mass of the soldiers.\")\n"
      ],
      "text/plain": [
       "<IPython.core.display.Markdown object>"
      ]
     },
     "metadata": {},
     "output_type": "display_data"
    },
    {
     "data": {
      "text/markdown": [
       "__Hist. 2.93.2__ (`ADV`) : _postremo ne salutis quidem cura infamibus Vaticani locis magna pars tetendit, unde crebrae in __vulgus__ mortes_ (\"Finally, with no regard even for their very lives, a large proportion camped in the unhealthy districts of the Vatican, which resulted in many deaths among the common soldiery.\")\n"
      ],
      "text/plain": [
       "<IPython.core.display.Markdown object>"
      ]
     },
     "metadata": {},
     "output_type": "display_data"
    },
    {
     "data": {
      "text/markdown": [
       "__Ann. 1.39.3__ (`OBJ`) : _utque mos __vulgo__ quamvis falsis reum subdere, Munatium Plancum consulatu functum, principem \n",
       "legationis, auctorem senatus consulti incusant_ (\"With the common propensity of crowds to find a victim, however false the charge, they accused Munatius Plancus, an ex-consul who was at the head of the deputation, of initiating the decree\")\n"
      ],
      "text/plain": [
       "<IPython.core.display.Markdown object>"
      ]
     },
     "metadata": {},
     "output_type": "display_data"
    },
    {
     "data": {
      "text/markdown": [
       "__Ann. 4.64.1__ (`OBJ`) : _feralemque annum ferebant et ominibus adversis susceptum principi consilium absentiae, qui mos __vulgo__, fortuita ad culpam trahentes, ni Caesar obviam isset tribuendo pecunias ex modo detrimenti_ (\"\"It was a fatal year, and the sovereigns decision to absent himself had been adopted under an evil star\"-so men began to remark, converting, as is the habit of the crowd, the fortuitous into the culpable, when the Caesar checked the critics by a distribution of money in proportion to loss sustained. \")\n"
      ],
      "text/plain": [
       "<IPython.core.display.Markdown object>"
      ]
     },
     "metadata": {},
     "output_type": "display_data"
    },
    {
     "data": {
      "text/markdown": [
       "__Ann. 14.14.2__ (`SBJ`) : _mox ultro vocari populus Romanus laudibusque extollere, ut __est__ __vulgus__ cupiens voluptatum et, si eodem princeps trahat, laetum_ (\"Before long, the Roman people received an invitation in form, and began to hymn his praises, as is the way of the crowd, hungry for amusements, and delighted if the sovereign draws in the same direction. \")\n"
      ],
      "text/plain": [
       "<IPython.core.display.Markdown object>"
      ]
     },
     "metadata": {},
     "output_type": "display_data"
    },
    {
     "data": {
      "text/markdown": [
       "__Ann. 15.64.2__ (`SBJ`) : _nam ut __est__ __vulgus__ ad deteriora promptum, non defuere qui crederent, donec implacabilem Neronem timuerit, famam sociatae cum marito mortis petivisse, deinde oblata mitiore spe blandimentis \n",
       "vitae evictam_ (\"For, with the usual readiness of the multitude to think the worst, there were those who believed that, so long as she feared an implacable Nero, she had sought the credit of sharing her husbands fate, and then, when a milder prospect offered itself, had succumbed to the blandishments of life.\")\n"
      ],
      "text/plain": [
       "<IPython.core.display.Markdown object>"
      ]
     },
     "metadata": {},
     "output_type": "display_data"
    },
    {
     "data": {
      "text/markdown": [
       "__Hist. 1.69.1__ (`SBJ`) : _ut __est__ mos, __vulgus__ mutabile subitis et tam pronum in misericordiam quam immodicum saevitia fuerat_ (\"Like all mobs, the common soldiers were given to sudden change and were as ready to show pity as they had been extravagant in cruelty.\")\n"
      ],
      "text/plain": [
       "<IPython.core.display.Markdown object>"
      ]
     },
     "metadata": {},
     "output_type": "display_data"
    },
    {
     "data": {
      "text/markdown": [
       "__Hist. 1.80.2__ (`SBJ`) : _fremit miles et tribunos centurionesque proditionis arguit, tamquam familiae senatorum ad perniciem Othonis armarentur, pars ignari et vino graves, pessimus quisque in occasionem praedarum, __vulgus__, ut mos __est__, cuiuscumque motus novi cupidum: et obsequia meliorum nox abstulerat_ (\"The soldiers began to murmur and charged the tribunes and centurions with treachery, saying that the slaves of the senators were being armed for Othos destruction. A part of the soldiers were ignorant of the circumstances and heavy with wine: the worst of them wished to make this an opportunity for looting: the great mass, as is usual, were ready for any new movement, and the natural obedience of the better disposed was rendered ineffective by the night.\")\n"
      ],
      "text/plain": [
       "<IPython.core.display.Markdown object>"
      ]
     },
     "metadata": {},
     "output_type": "display_data"
    },
    {
     "data": {
      "text/markdown": [
       "__Hist. 2.29.5__ (`SBJ`) : _ut vero deformis et flens et praeter spem incolumis Valens processit, gaudium miseratio favor: versi in laetitiam, ut __est__ __vulgus__ utroque immodicum, laudantes gratantesque circumdatum aquilis signisque in tribunal ferunt_ (\"When Valens appeared in sorry plight and weeping, but unexpectedly safe, there came joy, pity, and even popularity. In their revulsion from anxiety to delight - mobs are always extravagant in both directions-they praised and congratulated him, surrounded him with the eagles and colours, and carried him to the tribunal.\")\n"
      ],
      "text/plain": [
       "<IPython.core.display.Markdown object>"
      ]
     },
     "metadata": {},
     "output_type": "display_data"
    },
    {
     "data": {
      "text/markdown": [
       "__Hist. 4.37.1__ (`SBJ`) : _ubi sedato impetu metus rediit, centuriones cum epistulis ad civitates Galliarum misere, auxilia ac stipendia oraturos: ipsi, ut __est__ __vulgus__ sine rectore praeceps pavidum socors, adventante Civile raptis temere armis ac statim omissis, in fugam vertuntur_ (\"When this outburst died down, their fears returned: and the troops sent centurions with letters to the Gallic communities to ask for auxiliary troops and contributions: they themselves, for a mob without a leader is always hasty, timid, and without energy, at the approach of Civilis quickly caught up their arms, then immediately dropped them and fled.\")\n"
      ],
      "text/plain": [
       "<IPython.core.display.Markdown object>"
      ]
     },
     "metadata": {},
     "output_type": "display_data"
    }
   ],
   "source": [
    "for index, content in noms_foule_df[(noms_foule_df[\"lemma\"] == \"vulgus\") & (noms_foule_df[\"l_head\"] == \"sum\")].sort_values(by=[\"synt\"]).iterrows():\n",
    "    string = highlight_lex(\"__%s__ (`%s`) : _%s_ (\\\"%s\\\")\\n\" %(content[\"ref\"], content[\"synt\"], content[\"sentence\"], content[\"translation\"]))\n",
    "    printmd(highlight_esse(string))"
   ]
  },
  {
   "cell_type": "markdown",
   "metadata": {},
   "source": [
    "##### 3.2.3.2 Dependents"
   ]
  },
  {
   "cell_type": "markdown",
   "metadata": {},
   "source": [
    "The same work can be done for the dependents of one of the three lexemes studied. [Fig. 10](figure-10) represents the recurrence of collocates depending on a lexeme of the crowd."
   ]
  },
  {
   "cell_type": "code",
   "execution_count": 32,
   "metadata": {},
   "outputs": [],
   "source": [
    "dependent_vulgus = noms_foule_df[noms_foule_df[\"lemma\"] == \"vulgus\"].l_dependent.value_counts()\n",
    "dependent_multitudo = noms_foule_df[noms_foule_df[\"lemma\"] == \"multitudo\"].l_dependent.value_counts()\n",
    "dependent_turba = noms_foule_df[noms_foule_df[\"lemma\"] == \"turba\"].l_dependent.value_counts()\n",
    "\n",
    "dependent_df = pd.DataFrame({\"vulgus\": dependent_vulgus, \"turba\": dependent_turba, \"multitudo\": dependent_multitudo})\n",
    "dependent_df = dependent_df.fillna(0)\n",
    "dependent_df = dependent_df[[\"vulgus\", \"multitudo\", \"turba\"]]\n",
    "\n",
    "# Separation of multiple collocations\n",
    "for index, content in dependent_df.iterrows():\n",
    "    if \",\" in index:\n",
    "        coocs = index.split(\", \")\n",
    "        for cooc in coocs:\n",
    "            if cooc in dependent_df.index:\n",
    "                dependent_df.loc[cooc] += content\n",
    "            else:\n",
    "                dependent_df.loc[cooc] = content"
   ]
  },
  {
   "cell_type": "code",
   "execution_count": 33,
   "metadata": {
    "tags": [
     "narrative",
     "hermeneutics",
     "figure-10"
    ]
   },
   "outputs": [
    {
     "data": {
      "text/plain": [
       "Text(0.5, 1.0, 'figure 10 : Distribution according to the reccurrence of the dependent collocates')"
      ]
     },
     "execution_count": 33,
     "metadata": {},
     "output_type": "execute_result"
    },
    {
     "data": {
      "image/png": "[encoded data removed]",
      "text/plain": [
       "<Figure size 444.6x360 with 1 Axes>"
      ]
     },
     "metadata": {},
     "output_type": "display_data"
    }
   ],
   "source": [
    "fig10 = sns.displot(dependent_df[dependent_df >= 1], kind=\"kde\")\n",
    "fig10.set_axis_labels(\"Number of occurrences of each individual dependent\", \"Density\", labelpad=10)\n",
    "plt.title(\"figure 10 : Distribution according to the reccurrence of the dependent collocates\")"
   ]
  },
  {
   "cell_type": "markdown",
   "metadata": {},
   "source": [
    "_Analysis_: The data are less contrasted here. We can see that _multitudo_ is more frequently combined with the same terms, while the dependents of _turba_ and _vulgus_ are more often unique collocates. A look at the dependents associated more than once with our lexemes (__table 3__) will allow us to investigate their semantics:"
   ]
  },
  {
   "cell_type": "code",
   "execution_count": 34,
   "metadata": {
    "tags": [
     "narrative",
     "hermeneutics",
     "table-3"
    ]
   },
   "outputs": [
    {
     "data": {
      "text/html": [
       "<style  type=\"text/css\" >\n",
       "</style><table id=\"T_a1572_\" ><caption>table 3 : Dependents associated more than once to each lexeme</caption><thead>    <tr>        <th class=\"col_heading level0 col0\" >vulgus</th>        <th class=\"col_heading level0 col1\" >multitudo</th>        <th class=\"col_heading level0 col2\" >turba</th>    </tr></thead><tbody>\n",
       "                <tr>\n",
       "                                <td id=\"T_a1572_row0_col0\" class=\"data row0 col0\" >3</td>\n",
       "                        <td id=\"T_a1572_row0_col1\" class=\"data row0 col1\" >0</td>\n",
       "                        <td id=\"T_a1572_row0_col2\" class=\"data row0 col2\" >0</td>\n",
       "            </tr>\n",
       "            <tr>\n",
       "                                <td id=\"T_a1572_row1_col0\" class=\"data row1 col0\" >2</td>\n",
       "                        <td id=\"T_a1572_row1_col1\" class=\"data row1 col1\" >0</td>\n",
       "                        <td id=\"T_a1572_row1_col2\" class=\"data row1 col2\" >0</td>\n",
       "            </tr>\n",
       "            <tr>\n",
       "                                <td id=\"T_a1572_row2_col0\" class=\"data row2 col0\" >2</td>\n",
       "                        <td id=\"T_a1572_row2_col1\" class=\"data row2 col1\" >0</td>\n",
       "                        <td id=\"T_a1572_row2_col2\" class=\"data row2 col2\" >1</td>\n",
       "            </tr>\n",
       "            <tr>\n",
       "                                <td id=\"T_a1572_row3_col0\" class=\"data row3 col0\" >2</td>\n",
       "                        <td id=\"T_a1572_row3_col1\" class=\"data row3 col1\" >0</td>\n",
       "                        <td id=\"T_a1572_row3_col2\" class=\"data row3 col2\" >0</td>\n",
       "            </tr>\n",
       "            <tr>\n",
       "                                <td id=\"T_a1572_row4_col0\" class=\"data row4 col0\" >2</td>\n",
       "                        <td id=\"T_a1572_row4_col1\" class=\"data row4 col1\" >0</td>\n",
       "                        <td id=\"T_a1572_row4_col2\" class=\"data row4 col2\" >0</td>\n",
       "            </tr>\n",
       "            <tr>\n",
       "                                <td id=\"T_a1572_row5_col0\" class=\"data row5 col0\" >1</td>\n",
       "                        <td id=\"T_a1572_row5_col1\" class=\"data row5 col1\" >1</td>\n",
       "                        <td id=\"T_a1572_row5_col2\" class=\"data row5 col2\" >2</td>\n",
       "            </tr>\n",
       "            <tr>\n",
       "                                <td id=\"T_a1572_row6_col0\" class=\"data row6 col0\" >0</td>\n",
       "                        <td id=\"T_a1572_row6_col1\" class=\"data row6 col1\" >5</td>\n",
       "                        <td id=\"T_a1572_row6_col2\" class=\"data row6 col2\" >0</td>\n",
       "            </tr>\n",
       "            <tr>\n",
       "                                <td id=\"T_a1572_row7_col0\" class=\"data row7 col0\" >0</td>\n",
       "                        <td id=\"T_a1572_row7_col1\" class=\"data row7 col1\" >3</td>\n",
       "                        <td id=\"T_a1572_row7_col2\" class=\"data row7 col2\" >0</td>\n",
       "            </tr>\n",
       "            <tr>\n",
       "                                <td id=\"T_a1572_row8_col0\" class=\"data row8 col0\" >0</td>\n",
       "                        <td id=\"T_a1572_row8_col1\" class=\"data row8 col1\" >3</td>\n",
       "                        <td id=\"T_a1572_row8_col2\" class=\"data row8 col2\" >0</td>\n",
       "            </tr>\n",
       "            <tr>\n",
       "                                <td id=\"T_a1572_row9_col0\" class=\"data row9 col0\" >0</td>\n",
       "                        <td id=\"T_a1572_row9_col1\" class=\"data row9 col1\" >1</td>\n",
       "                        <td id=\"T_a1572_row9_col2\" class=\"data row9 col2\" >2</td>\n",
       "            </tr>\n",
       "    </tbody></table>"
      ],
      "text/plain": [
       "<pandas.io.formats.style.Styler at 0x12dc694d0>"
      ]
     },
     "metadata": {
      "jdh": {
       "object": {
        "source": [
         "table 3 : Dependents associated more than once to each lexeme"
        ]
       }
      }
     },
     "output_type": "display_data"
    }
   ],
   "source": [
    "caption_content = 'table 3 : Dependents associated more than once to each lexeme'\n",
    "display(dependent_df[(dependent_df[\"vulgus\"] >= 2) | (dependent_df[\"turba\"] >= 2) | (dependent_df[\"multitudo\"] >= 2)].astype(\"int\").sort_values(by=[\"vulgus\", \"multitudo\"], ascending=False).style.set_caption(caption_content).hide_index(),\n",
    "        metadata={\"jdh\":{\"object\":{\"source\": [caption_content]}}})"
   ]
  },
  {
   "cell_type": "markdown",
   "metadata": {},
   "source": [
    "We distinguish here between dependent collocates that serve to define the composition of the crowd, especially in a military context (_miles_, crowd of “soldiers”, _imbellis_, crowd of “non–combatants”, or _hostis_, crowd of “enemies”), collocates that characterize the crowd from a moral point of view (_credulus_, “credulous”; _imperitus_, “ignorant”; _insultare_, “to behave insolently”; _laetus_, “happy”) and collocates that present the physical or spatial characteristics of the crowd (_ingens_, “immense”; _tantus_, “of such size”; _inconditus_, “disordered”). While the first category is equally represented with the three lexemes – _imbellis_ is even used for all three – the second is specific to _vulgus_ and the third to _multitudo_ and _turba_."
   ]
  },
  {
   "cell_type": "markdown",
   "metadata": {},
   "source": [
    "### 3.3 Distribution of the lexemes according to the historical context"
   ]
  },
  {
   "cell_type": "markdown",
   "metadata": {},
   "source": [
    "A final criterion to contrast the three lexemes, which is more open to interpretation, is the historical context in which the crowds appear. By historical context, we mean both the spatial framework as well as the behaviour of the crowd itself. Based on the set of tags described above (sections 1.3.11-15), we will question here successively: \n",
    "\n",
    "* the type of crowd (civilians or soldiers), [figure 11](#figure-11) ;\n",
    "* the geographical framework (Rome and Italy, the provinces, the \"barbarian\" territory), [figure 12](#figure-12) ;\n",
    "* the social composition of the crowds (popular extraction, noble extraction, non–citizens and slaves), [figure 13](#figure-13);\n",
    "* finally, two “ethological” criteria pertaining to the crowd behaviour, rated on a scale follows a basic intensity scale (from `0` to `1` with `0.25` increments):\n",
    "    * their inscription in a precise spatial framework (\"spatialization\"), [figure 14](#figure-14) ;\n",
    "    * the existence of a political component in their behaviour, and more specifically the dissent nature of the crowd behaviour (“political agency”), [figure 15](#figure-15).\n",
    "    \n",
    "We will be reporting p-value for each of these categories to ascertain the statistical significance of our results."
   ]
  },
  {
   "cell_type": "markdown",
   "metadata": {},
   "source": [
    "#### 3.3.1 Type of crowd"
   ]
  },
  {
   "cell_type": "code",
   "execution_count": 35,
   "metadata": {
    "scrolled": true,
    "tags": [
     "narrative",
     "hermeneutics",
     "figure-11"
    ]
   },
   "outputs": [
    {
     "data": {
      "text/plain": [
       "Text(0.5, 1.0, 'figure 11: Distribution according to the type of crowd')"
      ]
     },
     "execution_count": 35,
     "metadata": {},
     "output_type": "execute_result"
    },
    {
     "data": {
      "image/png": "[encoded data removed]",
      "text/plain": [
       "<Figure size 444.6x360 with 1 Axes>"
      ]
     },
     "metadata": {},
     "output_type": "display_data"
    }
   ],
   "source": [
    "fig11 = sns.displot(noms_foule_df, x=\"type_crowd\", stat=\"density\", hue=\"lemma\", multiple=\"dodge\", common_norm=False, shrink=.9)\n",
    "\n",
    "fig11.set_axis_labels(\"Type of crowd (civilian, military, mixed, indeterminate)\", \"Density\", labelpad=10)\n",
    "fig11.legend.set_title(\"Lexemes\")\n",
    "plt.title(\"figure 11: Distribution according to the type of crowd\")"
   ]
  },
  {
   "cell_type": "code",
   "execution_count": 36,
   "metadata": {
    "scrolled": true,
    "tags": [
     "hermeneutics"
    ]
   },
   "outputs": [
    {
     "data": {
      "text/markdown": [
       "P-value for these variables is __0.24838111517847827__."
      ],
      "text/plain": [
       "<IPython.core.display.Markdown object>"
      ]
     },
     "metadata": {},
     "output_type": "display_data"
    }
   ],
   "source": [
    "p_value_test(noms_foule_df[\"lemma\"], noms_foule_df[\"type_crowd\"])"
   ]
  },
  {
   "cell_type": "markdown",
   "metadata": {},
   "source": [
    "_Analysis_: With a quite high p-value (`p>0.1`), these results might not be statistically significant. In any case, this first historical criterion does not offer a very efficient tool to discriminate between the different lexemes, and only shows a slight variation between _multitudo_ (used in equal proportion for civil and military crowds) and _vulgus_/_turba_, which refer more frequently to a civilian or urban crowd. There are also several instances of _vulgus_ where it is difficult to specify whether it refers to one or the other type of crowd, sometimes because of the general nature of the assertion (_eg_ in phrases such as _vulgus putat/credit_, “the common people thinks/believes that…”), or when Tacitus describes a strand of public opinion which, in the context, could be assigned, in Rome, either way to civilians or praetorians (_eg_ for the popularity of Piso in Tac., _Ann._, 15.48.2). Here are the relevant passages:"
   ]
  },
  {
   "cell_type": "code",
   "execution_count": 37,
   "metadata": {
    "tags": [
     "narrative",
     "hermeneutics"
    ]
   },
   "outputs": [
    {
     "data": {
      "text/markdown": [
       "__Ann. 6.22.2__ : _neque mala vel bona quae __vulgus__ putet_ (\"Nor, they maintain, are evil and good what the crowd imagines.\")\n"
      ],
      "text/plain": [
       "<IPython.core.display.Markdown object>"
      ]
     },
     "metadata": {},
     "output_type": "display_data"
    },
    {
     "data": {
      "text/markdown": [
       "__Ann. 11.17.3__ : _adstrepebat huic alacre vulgus_ (\"The crowd shouted applause.\")\n"
      ],
      "text/plain": [
       "<IPython.core.display.Markdown object>"
      ]
     },
     "metadata": {},
     "output_type": "display_data"
    },
    {
     "data": {
      "text/markdown": [
       "__Ann. 12.69.3__ : _testamentum tamen haud recitatum, ne antepositus filio privignus iniuria et invidia animos __vulgi__ turbaret_ (\"His will, however, was not read, lest the preference of the stepson to the son should leave a disquieting impression of injustice and invidiousness upon the mind of the common people.\")\n"
      ],
      "text/plain": [
       "<IPython.core.display.Markdown object>"
      ]
     },
     "metadata": {},
     "output_type": "display_data"
    },
    {
     "data": {
      "text/markdown": [
       "__Ann. 13.17.1__ : _in campo tamen Martis sepultus est adeo turbidis imbribus, ut __vulgus__ iram deum portendi crediderit adversus facinus cui plerique etiam hominum ignoscebant, antiquas fratrum discordias et insociabile regnum aestimantes_ (\"Still, his ashes were buried in the Field of Mars, under such a tempest of rain that the crowd believed it to foreshadow the anger of the gods against a crime which, even among men, was condoned by the many who took into account the ancient instances of brotherly hatred and the fact that autocracy knows no partnership.\")\n"
      ],
      "text/plain": [
       "<IPython.core.display.Markdown object>"
      ]
     },
     "metadata": {},
     "output_type": "display_data"
    },
    {
     "data": {
      "text/markdown": [
       "__Ann. 14.35.1__ : _Boudicca curru filias prae se vehens, ut quamque\n",
       "nationem accesserat, solitum quidem Britannis feminarum ductu bellare testabatur, sed tunc non ut tantis maioribus ortam regnum et opes, verum ut unam e __vulgo__ libertatem amissam, confectum verberibus corpus, contrectatam filiarum pudicitiam ulcisci_ (\"Boudicca, mounted in a chariot with her daughters before her, rode up to clan after clan and delivered her protest:-\"It was customary, she knew, with Britons to fight under female captaincy: but now she was avenging, not, as a queen of glorious ancestry, her ravished realm and power, but, as a woman of the people, her liberty lost, her body tortured by the lash, the tarnished honour of her daughters.\"\")\n"
      ],
      "text/plain": [
       "<IPython.core.display.Markdown object>"
      ]
     },
     "metadata": {},
     "output_type": "display_data"
    },
    {
     "data": {
      "text/markdown": [
       "__Ann. 14.58.2__ : _vulgoque fingebant petitum ab eo Corbulonem, magnis tum exercitibus praesidentem et, clari atque insontes si interficerentur, praecipuum ad pericula_ (\"It was a general story that he had made his way to Corbulo, then at the head of large armies, and should there be a killing of the famous and the innocent, especially exposed to danger.\")\n"
      ],
      "text/plain": [
       "<IPython.core.display.Markdown object>"
      ]
     },
     "metadata": {},
     "output_type": "display_data"
    },
    {
     "data": {
      "text/markdown": [
       "__Ann. 15.48.2__ : _is Calpurnio genere ortus ac multas insignisque familias paterna nobilitate complexus, claro apud __vulgum__ rumore erat per virtutem aut species virtutibus similis_ (\"Piso, sprung from the Calpurnian house, and, by his fathers high descent, uniting in his own person many families of distinction, enjoyed with the multitude a shining reputation for virtue, or for spectacular qualities resembling virtues.\")\n"
      ],
      "text/plain": [
       "<IPython.core.display.Markdown object>"
      ]
     },
     "metadata": {},
     "output_type": "display_data"
    },
    {
     "data": {
      "text/markdown": [
       "__Hist. 3.85.3__ : _et __vulgus__ eadem pravitate insectabatur interfectum qua foverat viventem_ (\"And the people attacked his body after he was dead with the same base spirit with which they had fawned on him while he lived.\")\n"
      ],
      "text/plain": [
       "<IPython.core.display.Markdown object>"
      ]
     },
     "metadata": {},
     "output_type": "display_data"
    }
   ],
   "source": [
    "for index, content in noms_foule_df[(noms_foule_df[\"lemma\"] == \"vulgus\") & (noms_foule_df[\"type_crowd\"] == \"ind\")].iterrows():\n",
    "    printmd(highlight_lex(\"__%s__ : _%s_ (\\\"%s\\\")\\n\" %(content[\"ref\"], content[\"sentence\"], content[\"translation\"])))"
   ]
  },
  {
   "cell_type": "markdown",
   "metadata": {},
   "source": [
    "#### 3.3.2 Geographical framework"
   ]
  },
  {
   "cell_type": "code",
   "execution_count": 38,
   "metadata": {
    "tags": [
     "narrative",
     "hermeneutics",
     "figure-12"
    ]
   },
   "outputs": [
    {
     "data": {
      "text/plain": [
       "Text(0.5, 1.0, 'figure 12 : Distribution according to the geographical framework')"
      ]
     },
     "execution_count": 38,
     "metadata": {},
     "output_type": "execute_result"
    },
    {
     "data": {
      "image/png": "[encoded data removed]",
      "text/plain": [
       "<Figure size 444.6x360 with 1 Axes>"
      ]
     },
     "metadata": {},
     "output_type": "display_data"
    }
   ],
   "source": [
    "fig12 = sns.displot(noms_foule_df, x=\"geographical_framework\", stat=\"density\", hue=\"lemma\", multiple=\"dodge\", common_norm=False, shrink=.9)\n",
    "fig12.set_axis_labels(\"Geographical framework (Rome & Italy, provinces, barbarian territories, indeterminate)\", \"Density\", labelpad=10)\n",
    "fig12.legend.set_title(\"Lexemes\")\n",
    "plt.title(\"figure 12 : Distribution according to the geographical framework\")"
   ]
  },
  {
   "cell_type": "code",
   "execution_count": 39,
   "metadata": {
    "scrolled": true,
    "tags": [
     "hermeneutics"
    ]
   },
   "outputs": [
    {
     "data": {
      "text/markdown": [
       "P-value for these variables is __0.05983199152805996__."
      ],
      "text/plain": [
       "<IPython.core.display.Markdown object>"
      ]
     },
     "metadata": {},
     "output_type": "display_data"
    }
   ],
   "source": [
    "p_value_test(noms_foule_df[\"lemma\"], noms_foule_df[\"geographical_framework\"])"
   ]
  },
  {
   "cell_type": "markdown",
   "metadata": {
    "tags": [
     "hermeneutics"
    ]
   },
   "source": [
    "This p-value allows us to say that there is probably a relationship between the lemma and the type of crowd depicted. Yet, as `p≤0.05`, the rejection of the null hypothesis is not very strong."
   ]
  },
  {
   "cell_type": "markdown",
   "metadata": {},
   "source": [
    "_Analysis_: The graph shows another specificity of _multitudo_, whose distribution among the three geographical frameworks considered is rather balanced, and which does not seem to be strongly associated to a specific context. On the contrary, _vulgus_ becomes rarer the further away one gets from Rome and the Italy."
   ]
  },
  {
   "cell_type": "markdown",
   "metadata": {},
   "source": [
    "#### 3.3.3 Social composition"
   ]
  },
  {
   "cell_type": "code",
   "execution_count": 40,
   "metadata": {
    "tags": [
     "narrative",
     "hermeneutics",
     "figure-13"
    ]
   },
   "outputs": [
    {
     "data": {
      "text/plain": [
       "Text(0.5, 1.0, 'figure 13 : Distribution according to the social composition')"
      ]
     },
     "execution_count": 40,
     "metadata": {},
     "output_type": "execute_result"
    },
    {
     "data": {
      "image/png": "[encoded data removed]",
      "text/plain": [
       "<Figure size 444.6x360 with 1 Axes>"
      ]
     },
     "metadata": {},
     "output_type": "display_data"
    }
   ],
   "source": [
    "fig13 = sns.displot(noms_foule_df, x=\"social_composition\", stat=\"density\", hue=\"lemma\", multiple=\"dodge\", common_norm=False, shrink=.9)\n",
    "fig13.set_axis_labels(\"Social composition (commoners, aristocrats, mixed, non-citizens, indeterminate)\", \"Density\", labelpad=10)\n",
    "fig13.legend.set_title(\"Lexemes\")\n",
    "plt.title(\"figure 13 : Distribution according to the social composition\")"
   ]
  },
  {
   "cell_type": "code",
   "execution_count": 41,
   "metadata": {
    "scrolled": true,
    "tags": [
     "hermeneutics"
    ]
   },
   "outputs": [
    {
     "data": {
      "text/markdown": [
       "P-value for these variables is __2.1423586471502887e-07__."
      ],
      "text/plain": [
       "<IPython.core.display.Markdown object>"
      ]
     },
     "metadata": {},
     "output_type": "display_data"
    }
   ],
   "source": [
    "p_value_test(noms_foule_df[\"lemma\"], noms_foule_df[\"social_composition\"])"
   ]
  },
  {
   "cell_type": "markdown",
   "metadata": {
    "tags": [
     "hermeneutics"
    ]
   },
   "source": [
    "With`p<0.0001`, we can affirm that there is a statistically significant relationship between the lemma and the social composition of the crowd."
   ]
  },
  {
   "cell_type": "markdown",
   "metadata": {},
   "source": [
    "_Analysis_: The criterion of the sociological composition of the crowd seems to be the most decisive so far to discriminate between the three lexemes. _multitudo_ and even more _turba_ are frequently used to refer to heterogeneous gatherings, where commoners and aristocrats mingle with one another indiscriminately, especially in crisis periods. _Vulgus_ is never explicitly used to describe these phenomena and mostly refers to “popular” crowds, that is crowd of plebeians, in Rome (<cite data-cite=\"2272257/9D9AZDPV\"></cite> p. 177), or crowd of “common soldiers” (_gregarii milites_, Tac., _Hist._, 1.36.3, 1.46.4, 3.31.2), distinguished from the prefects and the legates (Tac., _Hist._, 2.70.5, 4.36–37, 4.57, _Ann._, 1.49.2), from the tribunes and the centurions (Tac., _Hist._, 1.36.3, 1.80.2, 2.5.4, 3.31.2, _Ann._, 1.17–18, 2.55.5),  and even sometimes from the “junior officers” below centurion rank, the _principales_, soldiers on higher pay with special duties, and thus standing out from the pack of common soldiers (Tac., _Hist._, 1.25.2, see a more thorough analysis of this point in <cite data-cite=\"2272257/S3N9BDMT\"></cite> pp. 98-99)."
   ]
  },
  {
   "cell_type": "markdown",
   "metadata": {},
   "source": [
    "To take the example of the crisis of the 15 January 69 AD, when Otho carried out a coup in Rome against Galba, the legitimate emperor, Tacitus mentions a first crowd movement caused by the (false) news of Otho’s death: a euphoric crowd formed in front of the imperial palace and forced the doors to congratulate Galba. Tacitus particularly insists on the social diversity of this crowd, composed by “not the people only and the ignorant mob […] but many of the knights and senators as well” (_non populus tantum et imperita plebs [...] sed equitum plerique ac senatorum_, Tac, _Hist._, 1.35.1), and ends up calling it an _inruens turba_ (an “inrushing crowd”): _turba_ here undoubtedly refers to a (socially) mixed crowd, with citizens belonging to the highest orders and commoners. A few hours later, after Galba’s death and Otho’s victory, a crowd of the same social diversity forms in an undetermined place (the forum?) to deplore the dramatic turn of events. _Vulgus_ appears in this second passage, not to designate this heterogeneous gathering of citizens (therefore in contrast to _turba_), but to refer to its popular component alone. It is thus superimposed on the _populus_ et _plebs_ of the former passage of Tac., _Hist._, 1.35.1. See in Tac., _Hist._, 1.50.1: “Then [the thought of the civil war] […] caused open grief not only to the senators and knights who had some share and interest in the state, but even to the common people (_vulgus_).” (_Tum [...] non senatus modo et eques, quis aliqua pars et cura rei publicae, sed __vulgus__ quoque palam maerere_, Tac, _Hist._, 1.50.1) The proximity of the two passages makes clear the sociological difference between _turba_ and _vulgus_ in Tacitus’ mind, and it is misleading to state that _vulgus_ could refer to any form of “foule mêlée” in his works (_pace_ <cite data-cite=\"2272257/GJAK9283\"></cite> pp. 29 & 74 or <cite data-cite=\"2272257/CXIXUP3N\"></cite> pp. 86-88)."
   ]
  },
  {
   "cell_type": "markdown",
   "metadata": {},
   "source": [
    "The graph of [fig. 13](figure-13) shows the numerical importance of the occurrences for which it is impossible to specify further the social composition of the crowd. However, it is also significant that the lexemes chosen by Tacitus when he refers to crowds composed exclusively of noble citizens or non–citizens (labels `eli` and `n-civ`) are exclusively _multitudo_ and _turba_, and that _vulgus_ never appears in these sense. We may thus infer that neither _turba_ nor _multitudo_ were associated, for Tacitus, with a specific sociological profile, unlike _vulgus_, which was strictly associated to the sub-equestrian segments of the civic body (in Rome or elsewhere). Compare in contrast, a few chapters apart, the _turba populi_ (“crowd of commoners”) of Tac., _Hist._, 2.88.3 with the _turba nobilium_ (“crowd of nobles”) of Tac., _Hist._, 2.92.2. Conversely, expressions such as _vulgus populi_ or _vulgus nobelium_ never appear in Tacitus, and sound odd to anyone familiar with Tacitus’ writing."
   ]
  },
  {
   "cell_type": "markdown",
   "metadata": {},
   "source": [
    "To go further, let us investigate the cases where _turba_ and _multitudo_ refer to crowds composed of the Roman elite or of non-citizens:"
   ]
  },
  {
   "cell_type": "code",
   "execution_count": 42,
   "metadata": {
    "tags": [
     "narrative",
     "hermeneutics"
    ]
   },
   "outputs": [
    {
     "data": {
      "text/markdown": [
       "__Ann. 6.16.3__ : _sed tum Gracchus praetor, cui ea quaestio evenerat, __multitudine__ periclitantium subactus rettulit ad senatum, trepidique patres (neque enim quisquam tali culpa vacuus) veniam a principe petivere_(\"In the present instance, however, the praetor Gracchus, to whose jurisdiction the case had fallen, was forced by the numbers implicated to refer it to the senate: and the Fathers in trepidation-for not one member was clear from such a charge-asked an indulgence from the prince.\")\n"
      ],
      "text/plain": [
       "<IPython.core.display.Markdown object>"
      ]
     },
     "metadata": {},
     "output_type": "display_data"
    },
    {
     "data": {
      "text/markdown": [
       "__Ann. 13.18.3__ : _ac ne coetu salutantium frequentaretur, separat domum matremque transfert in eam, quae Antoniae fuerat, quotiens ipse illuc ventitaret, saeptus __turba__ centurionum et post breve osculum digrediens_(\"That her levees should not be frequented by a crowd of visitants, he made his own establishment separate, installed his mother in the house once belonging to Antonia, and, at his visits to her new quarters, came surrounded by a throng of centurions and left after a perfunctory kiss.\")\n"
      ],
      "text/plain": [
       "<IPython.core.display.Markdown object>"
      ]
     },
     "metadata": {},
     "output_type": "display_data"
    },
    {
     "data": {
      "text/markdown": [
       "__Hist. 1.33.2__ : _et praeclarum in servis auxilium si consensus tantae __multitudinis__ et, quae plurimum valet, prima indignatio elanguescat_(\"It was a brilliant backing, too, that they would find in slaves, if the united sentiment of the whole people and their first indignation, which is the strongest, should be allowed to cool!\")\n"
      ],
      "text/plain": [
       "<IPython.core.display.Markdown object>"
      ]
     },
     "metadata": {},
     "output_type": "display_data"
    },
    {
     "data": {
      "text/markdown": [
       "__Hist. 2.92.2__ : _nec eo segnius invaserant domos hortos opesque imperii, cum flebilis et egens nobilium __turba__, quos ipsos liberosque patriae Galba reddiderat, nulla principis misericordia iuvarentur_(\"This had not, however, made them slow to seize houses, gardens, and the wealth of the empire, while a pathetic and poverty-stricken crowd of nobles, whom with their children Galba had restored to their native city, received no pity or help from the emperor.\")\n"
      ],
      "text/plain": [
       "<IPython.core.display.Markdown object>"
      ]
     },
     "metadata": {},
     "output_type": "display_data"
    },
    {
     "data": {
      "text/markdown": [
       "__Agr. 40.4__ : _ac ne notabilis celebritate et frequentia occurrentium introitus esset, vitato amicorum officio noctu in urbem, noctu in Palatium, ita ut praeceptum erat, venit: exceptusque brevi osculo et nullo sermone __turbae__ servientium inmixtus est_(\"And in order that his entrance into the city might not excite note by the concourse and bustle of a reception, he eluded the demonstrations of his friends, arrived by night, and by night repaired to the palace, in accordance with instructions. With the greeting of a hasty kiss, and without conversation, he slipped away into the obsequious mob.\")\n"
      ],
      "text/plain": [
       "<IPython.core.display.Markdown object>"
      ]
     },
     "metadata": {},
     "output_type": "display_data"
    }
   ],
   "source": [
    "for index, content in noms_foule_df[(noms_foule_df[\"social_composition\"] == \"eli\") | (noms_foule_df[\"social_composition\"] == \"n-civ\")].iterrows():\n",
    "    printmd(highlight_lex(\"__%s__ : _%s_(\\\"%s\\\")\\n\" %(content[\"ref\"], content[\"sentence\"], content[\"translation\"])))"
   ]
  },
  {
   "cell_type": "markdown",
   "metadata": {},
   "source": [
    "In most cases, the sociological characterization of the crowd is done with an objective genitive that specifies the social origin of its components, with the exception of Tac., _Hist._, 1.33.2, where it is done with the adverbial phrase _in seruis_ (“among slaves”). In contrast, _vulgus_ is much more “intransitive” than _turba_ and _multitudo_, and is much more used as possessive of a noun (_fauor vulgi_, “the favour of the crowd”; _studia vulgi_, “the inclination of the crowd”; _rumor vulgi_, “the rumour of the crowd”...) than it is itself determined by another term. "
   ]
  },
  {
   "cell_type": "markdown",
   "metadata": {},
   "source": [
    "The detailed analysis of lexical echoes is enlightening on the near-synonymy of _vulgus_ and the “institutional” vocabulary referring to the common people (_populus_, “the common people”; _plebs_, “the plebs”). For stylistic reasons – to avoid repetition or to produce a form of copia – Tacitus is often led to use _vulgus_, _populus_ and/or _plebs_ as synonyms, which clearly shows that _vulgus_ was the lexeme closest in his mind to the traditional terms referring to the Roman people (on these lexical connections, see <cite data-cite=\"2272257/43U2KCKU\"></cite>, p. 148-149). Several passages go so far as to present the three lexemes _populus_, _plebs_ and _vulgus_ together (already before Tacitus, see Stac., _Theb._ , 1.168–170). The most revealing text is the report of Germanicus’ triumph in 17 AD. Tacitus slips into the narrative of this highly positive event a srong dysphoric foreshadowing of Germanicus’ imminent death (Tac., _Ann._, 2.41.3):"
   ]
  },
  {
   "cell_type": "markdown",
   "metadata": {},
   "source": [
    "> _Sed suberat occulta formido, reputantibus haud prosperum in Druso patre eius __fauorem uulgi__, auunculum eiudem Marcellum fragrantibus __plebis studiis__ intra iuuentam ereptum, breuis et infaustos __populi Romani amores__._"
   ]
  },
  {
   "cell_type": "markdown",
   "metadata": {},
   "source": [
    "> Yet beneath lay an unspoken fear, as men reflected that to his father Drusus __the favour of the multitude__ had not brought happiness—that Marcellus, his uncle, had been snatched in youth from __the ardent affections of the populace__—that __the loves of the Roman nation__ were fleeting and unblest!"
   ]
  },
  {
   "cell_type": "markdown",
   "metadata": {},
   "source": [
    "_Analysis_: This very elaborate passage brings together three synonymous phrases (_favor vulgi_, “the favour of the multitude”; _plebis studia_, “the affections of the populace”; _populi Romani amores_, “the loves of the Roman people [rather than nation]”) and allows us to infer a double equivalence _favor_-_studia_-_amores_ and _vulgus_-_plebs_-_populus_. The stylistic effect is only possible because the _vulgus_ is, by definition, a popular crowd."
   ]
  },
  {
   "cell_type": "markdown",
   "metadata": {},
   "source": [
    "Other forms of synonymy could be investigated here, for example the frequent use of the hendiadys (a figure of speech in which two words referring to the same reality are linked by a conjunction). The opuscules and the first book of the Histories contain numerous hendiadyses related to the social stratification of the common people of Rome. _populus et plebs_ (“the people and the _plebs_”) for instance occurs in a small number of occurrences in the preserved Latin literature, mainly in Tacitus (cf. <cite data-cite=\"2272257/43U2KCKU\"></cite> p. 149) and already in Cicero (cf. <cite data-cite=\"2272257/G9Z3USM2\"></cite> pp. 31–33). _Vulgus et populus_ (“the crowd and the people” = “the crowd of the people”) appears three times in Tacitus’ early works (Tac., _Dial._, 7.3, _Agr._, 43.1 and _Hist._, 1.89.1). In these phrases, it is impossible to analyse _vulgus_ and _populus_ as referring to two distinct realities, since the group the historian is talking about is characterized before or after the passage by a simple _vulgus_ (Tac., _Agr._, 41.4) or by _plebs_ (Tac., _Hist._, 1.89.1). Without going further into this matter, which we propose to deal with [elsewhere](https://www.msh-alpes.fr/actualites/populi-nomen-nommer-peuple-romain-en-latin-et-en-grec), it seems that the hendiadys _vulgus et populus_ allows Tacitus to provide two complementary perspectives on the same object, the common people of Rome (see further interpretation below, section 4.2)."
   ]
  },
  {
   "cell_type": "markdown",
   "metadata": {},
   "source": [
    "#### 3.3.4 Degrees of spatialization"
   ]
  },
  {
   "cell_type": "code",
   "execution_count": 43,
   "metadata": {
    "tags": [
     "narrative",
     "hermeneutics",
     "figure-14"
    ]
   },
   "outputs": [
    {
     "data": {
      "text/plain": [
       "Text(0.5, 1.0, 'figure 14 : Distribution according the degree of spatialization')"
      ]
     },
     "execution_count": 43,
     "metadata": {},
     "output_type": "execute_result"
    },
    {
     "data": {
      "image/png": "[encoded data removed]",
      "text/plain": [
       "<Figure size 444.6x360 with 1 Axes>"
      ]
     },
     "metadata": {},
     "output_type": "display_data"
    }
   ],
   "source": [
    "fig14 = sns.displot(noms_foule_df, x=\"spatialisation\", kind=\"kde\", hue=\"lemma\", common_norm=False)\n",
    "fig14.set_axis_labels(\"More (1) or less (0) strong spatialization\", \"Density\", labelpad=10)\n",
    "fig14.legend.set_title(\"Lexemes\")\n",
    "plt.title(\"figure 14 : Distribution according the degree of spatialization\")"
   ]
  },
  {
   "cell_type": "code",
   "execution_count": 44,
   "metadata": {
    "scrolled": false,
    "tags": [
     "hermeneutics"
    ]
   },
   "outputs": [
    {
     "data": {
      "text/markdown": [
       "P-value for these variables is __4.863773454544251e-06__."
      ],
      "text/plain": [
       "<IPython.core.display.Markdown object>"
      ]
     },
     "metadata": {},
     "output_type": "display_data"
    }
   ],
   "source": [
    "p_value_test(noms_foule_df[\"lemma\"], noms_foule_df[\"spatialisation\"])"
   ]
  },
  {
   "cell_type": "markdown",
   "metadata": {
    "tags": [
     "hermeneutics"
    ]
   },
   "source": [
    "Here again, the very small p-value (`p<0.0001`) proves the statistical significance of the results."
   ]
  },
  {
   "cell_type": "markdown",
   "metadata": {},
   "source": [
    "_Analysis_: The study of the distribution according to the degree of spatialization of the crowd provides convincing results to discriminate between the three lexemes. Indeed, while this is not a decisive criterion for understanding the distribution of _vulgus_ in the Tacitean corpus, _turba_ and even more _multitudo_ are strongly associated with clearly spatialized crowds, _ie_ crowds whose inscription in a given place (and time) is an important definitional feature. This observation is consistent with the one made above on the semantics of the collocates of these two lexemes (see above, section 3.2.1)."
   ]
  },
  {
   "cell_type": "markdown",
   "metadata": {},
   "source": [
    "Besides, this spatial criterion is hardly satisfactory to account for the occurrences of _vulgus_. Very often in Tacitus, the _vulgus_ is a crowd whose behaviour is inscribed in a very loose spatial or temporal framework. A revealing example is given by the crowd (_vulgus_) that longs for Agricola to take new military responsibilities after his retirement from public life (Tac., _Agr._, 41.4). In his narrative, Tacitus summarizes events that occurred in Rome over the course of several years:"
   ]
  },
  {
   "cell_type": "markdown",
   "metadata": {},
   "source": [
    "> _Ita cum damna damnis continuarentur atque omnis annus funeribus et cladibus insigniretur, __poscebatur ore uulgi dux Agricola__, comparantibus  cunctis uigorem, constantiam et expertum bellis animum cum inertia et formidine aliorum._"
   ]
  },
  {
   "cell_type": "markdown",
   "metadata": {},
   "source": [
    "> Accordingly, when loss was added to loss, and every year was signalised with death and disaster, __the voice of the people began to ask for Agricola’s generalship__: everyone compared his firmness, energy, and experience with the lethargy and panic of the generals."
   ]
  },
  {
   "cell_type": "markdown",
   "metadata": {},
   "source": [
    "Thus, in most of the passages where rumours or demands of this Roman _vulgus_ are mentioned, the spatial inscription of the crowd is so to speak non–existent. The Tacitean _vulgus_ often falls into one of the categories of the Stoic ontology, namely the _distantia corpora_, entities built up of distant, non-continuous elements, as opposed to _continua corpora_ (entities made up of a single piece) and _composita corpora_ (entities built up of heterogeneous, but continuous elements). Seneca thus contrasts the human body (_corpus continuum_), a ship (_corpus compositum_) and human groups such as the Senate, the army or the people (_corpus ex distantibus_) in a letter to Lucilius (Sen., _Epist._, 102.6, see on the philosophical background here <cite data-cite=\"2272257/SG5E8L26\"></cite> pp. 63-69; many thanks to Fabien Pepino for drawing my attention to these notions). Admittedly, _vulgus_ is also used by Tacitus to refer to the public of spectacles, assemblies (_contiones_), especially military ones, and other specific places, all of which have in common that they had become spaces of communication and interaction between the Roman plebs and the political (imperial) power, as we will see below (section 4.2). In these cases, however, Tacitus almost never puts the focus on the spatialization of the crowd, as the collocates of _vulgus_ generally belong to the semantic field of opinion and speech (see above, section 3.2.1). Unlike _turba_ and _multitudo_, the criterion of spatialization clearly appears as incidental to defining what _vulgus_ is in the eyes of the historian."
   ]
  },
  {
   "cell_type": "markdown",
   "metadata": {},
   "source": [
    "As is often the case, the passages combining several of the lexemes studied are most telling. For instance, during Vitellius’ desperate conscription at the end of the civil war of 69 AD, Tacitus distinguishes between the _vulgus_, synonymous with _populus_, to refer to the crowd proclaiming its support for the emperor in a unspecified place and time, and the _multitudo_, which rushes into the _comitia tribute_ on the day of the conscription, where the multitude “overflew” the place (_superfluente multitudine_). The opposition between a strongly spatialized crowd (_multitudo_) and an undefined, almost “uncircumstanced” crowd (_vulgus_) speaks for itself (Tac., _Hist._, 3.58):"
   ]
  },
  {
   "cell_type": "markdown",
   "metadata": {},
   "source": [
    "> _Ipse aeger animi studiis militum et __clamoribus populi__ arma poscentis refovebatur, dum __vulgus ignavum__ et nihil ultra verba ausurum falsa specie exercitum et legiones appellat. Hortantibus libertis (nam amicorum eius quanto quis clarior, minus fidus) vocari tribus iubet, dantis nomina sacramento adigit. __Superfluente multitudine__ curam dilectus in consules partitur; servorum numerum et pondus argenti senatoribus indicit._"
   ]
  },
  {
   "cell_type": "markdown",
   "metadata": {},
   "source": [
    "> He himself was sick at heart, but the enthusiasm of the soldiers and __the shouts of the people__ demanding arms gave him fresh spirit, while he addressed __the cowardly rabble__, whose courage would not extend beyond words, under the unreal and pretentious names of an army and legions. On the advice of his freedmen (for the more distinguished his friends were, the less he trusted them), he ordered the people to assemble in tribes, and administered the oath to the members as they enrolled. __Since the numbers were too great__, he divided between the consuls the selection of the recruits. On the senators he imposed a contribution of slaves and cash."
   ]
  },
  {
   "cell_type": "markdown",
   "metadata": {},
   "source": [
    "#### 3.3.5 Degrees of political agency"
   ]
  },
  {
   "cell_type": "code",
   "execution_count": 45,
   "metadata": {
    "tags": [
     "narrative",
     "hermeneutics",
     "figure-15"
    ]
   },
   "outputs": [
    {
     "data": {
      "text/plain": [
       "Text(0.5, 1.0, 'figure 15 : Distribution according to the degrees of political agency')"
      ]
     },
     "execution_count": 45,
     "metadata": {},
     "output_type": "execute_result"
    },
    {
     "data": {
      "image/png": "[encoded data removed]",
      "text/plain": [
       "<Figure size 444.6x360 with 1 Axes>"
      ]
     },
     "metadata": {},
     "output_type": "display_data"
    }
   ],
   "source": [
    "fig15 = sns.displot(noms_foule_df, x=\"political_agency\", kind=\"kde\", hue=\"lemma\", common_norm=False)\n",
    "fig15.set_axis_labels(\"More (1) or less (0) strong political agency\", \"Density\", labelpad=10)\n",
    "fig15.legend.set_title(\"Lexemes\")\n",
    "plt.title(\"figure 15 : Distribution according to the degrees of political agency\")"
   ]
  },
  {
   "cell_type": "code",
   "execution_count": 46,
   "metadata": {
    "scrolled": false,
    "tags": [
     "hermeneutics"
    ]
   },
   "outputs": [
    {
     "data": {
      "text/markdown": [
       "P-value for these variables is __3.5295149525271796e-07__."
      ],
      "text/plain": [
       "<IPython.core.display.Markdown object>"
      ]
     },
     "metadata": {},
     "output_type": "display_data"
    }
   ],
   "source": [
    "p_value_test(noms_foule_df[\"lemma\"], noms_foule_df[\"political_agency\"])"
   ]
  },
  {
   "cell_type": "markdown",
   "metadata": {
    "tags": [
     "hermeneutics"
    ]
   },
   "source": [
    "With `p<0.0001`, we can ascertain that there is a statistically significative relationship between the choice of a lemma by Tacitus and the political action of the crowd in our corpus."
   ]
  },
  {
   "cell_type": "markdown",
   "metadata": {},
   "source": [
    "_Analysis_: This last criterion also proves to be of primary importance in a contrastive perspective. _vulgus_ seems preferred as the represented crowd gains agency and steps up its political demands. Conversely, _turba_ and _multitudo_, in similar proportions, are mostly used for quiet and non-politicized crowds. A few examples should allow to see how these general observations are anchored in the more detailed analysis of Tacitus’ text."
   ]
  },
  {
   "cell_type": "markdown",
   "metadata": {},
   "source": [
    "It is well known that ancient historiography does not focus on everyday practices, which ancient historians considers unworthy of serious attention. However, it should be stressed that in the two passages in which Tacitus refers to the everyday masses swarming in the streets of Rome, he uses _turba_ (_Hist._, 2.88.3) and _multitudo_ (_Hist._, 1.75.3). In this case, the crowd considered is a transient group of individuals whose common presence in the same place at the same time is only circumstantial. The same two lexemes appear to refer to “professional crowds”, _ie_ groups of individuals constituted for the exercise of a corporate or professional activity and politically insignificant, _eg_ the “crowd of devotees” (_turba sacricolarum_, _Hist._, 3.74.1), a gathering constituted by priests of Isis who transport the objects of the Isiac cult from the Campus Martius to the other side of the Tiber. It is also noticeable that _multitudo_ is mostly chosen to describe politically or institutionally important crowds, but passive (_eg_ _Hist._, 4.81.3) or lacking political autonomy (most notably the crowds following a patron, _eg_ _Ann._, 4.41.3, 13.14.1). To cite a representative example, when Germanicus goes to Artaxata in 18 AD to crown the pro-Roman prince Zeno-Artaxias king of Armenia, the historian emphasizes the new ruler’s favour with both the nobility (_proceres_) and the people (_plebs_). The coronation scene itself enlightens this rare concord. The people appear as _multitudo_, but are depicted as a most passive crowd (_Ann._, 2.56.3):"
   ]
  },
  {
   "cell_type": "markdown",
   "metadata": {},
   "source": [
    "> _Igitur Germanicus in urbe Artaxata adprobantibus nobilibus, __circumfusa multitudine__, insigne regium capiti eius [ie Zenonis] imposuit._"
   ]
  },
  {
   "cell_type": "markdown",
   "metadata": {},
   "source": [
    "> Accordingly, in the town of Artaxata, before the consenting nobles and __a great concourse of the people__, Germanicus placed on his head the emblem of royalty."
   ]
  },
  {
   "cell_type": "markdown",
   "metadata": {},
   "source": [
    "_Analysis_: The active and decisive support of the “consenting noblemen” (_adprobantibus nobilibus_) is followed by the passive and symbolic support of the “crowd around” (_circumfusa multitudine_), which has no say in the matter, but is presented from the perspective of spatiality and number; it assumes a figurative function, which is certainly important in the political ritual, but lacks any effective weight."
   ]
  },
  {
   "cell_type": "markdown",
   "metadata": {},
   "source": [
    "In contrast, the _vulgus_ is a crowd whose raison d’être is almost always political and, above all, which exists through political action. We have seen above that collocates of _vulgus_ implies the existence of a common opinion (_studium_, _favor_, _credere_, _rumor_...), shared feelings (_ira_, _gaudium_, _maerere_...), and collective vocalization (_sermo_, _clamor_, _uox_, _adstrepere_, _appellare_, _iactare_...). The _vulgus_ thus has something to say and to demand. From the rumours that circulate in the streets of Rome to the shouts let out during circus games and other entertainments, the _vulgus_ is not satisfied with a walk-on part like the _multitudo_ mentioned earlier, but strives to take a genuinely participatory part in the political field: it subverts the political structures and takes advantage of any opportunity to assert its interests – in a word, it expresses collective agency."
   ]
  },
  {
   "cell_type": "markdown",
   "metadata": {},
   "source": [
    "### 3.4 Summary"
   ]
  },
  {
   "cell_type": "markdown",
   "metadata": {},
   "source": [
    "#### 3.4.1 Discrimination of the three lexemes"
   ]
  },
  {
   "cell_type": "markdown",
   "metadata": {},
   "source": [
    "In order to summarize the conclusions reached by this journey through Tacitus’ vocabulary of the crowds, a passage where all three lexemes appear can be quoted. In this text, Tacitus casts a light on Sejanus’ intrigues to corrupt Tiberius (Tac., _Ann._, 4.41.1-3):"
   ]
  },
  {
   "cell_type": "markdown",
   "metadata": {},
   "source": [
    "> _Rursum Seianus non iam de matrimonio sed altius metuens tacita suspicionum, __vulgi rumorem__, ingruentem invidiam deprecatur. Ac ne adsiduos in domum coetus arcendo infringeret potentiam aut receptando facultatem criminantibus praeberet, huc flexit ut Tiberium ad vitam procul Roma amoenis locis degendam impelleret. Multa quippe providebat: sua in manu aditus litterarumque magna ex parte se arbitrum fore, cum per milites commearent; mox Caesarem vergente iam senecta secretoque loci mollitum munia imperii facilius tramissurum: et minui sibi invidiam adempta __salutantum turba__ sublatisque inanibus veram potentiam augeri. Igitur paulatim negotia urbis, populi adcursus, __multitudinem adfluentium__ increpat, extollens laudibus quietem et solitudinem quis abesse taedia et offensiones ac praecipua rerum maxime agitari._"
   ]
  },
  {
   "cell_type": "markdown",
   "metadata": {},
   "source": [
    "> In rejoinder, Sejanus—now alarmed not for his marriage but on deeper grounds—urged him to disregard the still voice of suspicion, __the babble of the multitude__, the attacks of his maligners. At the same time, unwilling either to enfeeble his influence by prohibiting the throngs which besieged his doors or to give a handle to his detractors by receiving them, he turned to the idea of inducing Tiberius to spend his days in some pleasant retreat at a distance from Rome. The advantages, he foresaw, were numerous. Interviews would lie in his own bestowal; letters he could largely supervise, as they were transmitted by soldiers: before long, the Caesar, who was already in the decline of life and would be rendered laxer by seclusion, would be readier to transfer the functions of sovereignty; while his own unpopularity would diminish with the abolition of __his great levées__, and the realities of his power be increased by the removal of its vanities. Little by little, therefore, he began to denounce the drudgeries of the capital, its jostling crowds, __the endless stream of suitors__, and to give his eulogies to quiet and solitude, where tedium and bickering were unknown and a man’s chief attention could be centred on affairs of first importance."
   ]
  },
  {
   "cell_type": "markdown",
   "metadata": {},
   "source": [
    "Tacitus begins by stating that the praetorian prefect is alarmed by \"the rumour of the crowd\" (_vulgi rumor_): _vulgus_ thus designates a very large group, with few details on its concrete manifestation, a group able to make heard its opinion, which exerts a real constraining power over Sejanus. _turba_ and _multitudo_ refer to narrower segments of the Roman population and characterize gatherings within a well determined context. The _turba_ refers to the crowd that turned up for the official morning visit to the prince (_salutatio_) – thus presumably mostly composed of noble citizens (see <cite data-cite=\"2272257/S4FGYPRX\"></cite> pp. 122-125 and <cite data-cite=\"2272257/4TV8R2MT\"></cite> pp. 178-180 on this topic) –, while the _multitudo_ refers to the random crowds that formed around the emperor when he travelled through the city (see <cite data-cite=\"2272257/XFXQMRFZ\"></cite> p. 228 on Tac., _Ann._, 4.41.3 with references to Tac., _Ann._, 2.34.3). Admittedly, both the imperial _salutatio_ and the emperor’s walkabout in the city have a political relevance, but more on a symbolic than on a really effective level, and above all they encapsulate top-down rather than bottom-up political practices. We should also note the syntactic variation between _vulgus_, which performs a determinative function and specifies the word “rumour” in the form of a possessive genitive (_rumor vulgi_), and, in contrast, _turba_ and _multitudo_, which are themselves specified through a determinative, in both cases a nominalized participle (_turba salutantum_, _multitudo adfluentium_). The determination of _turba_ and _multitudo_ through a nominalized participle in the form of a possessive genitive is recurrent in Tacitus (_Agr._, 40.4, _Ann._, 3.1.3, 6.16.3, 13.14.1), and can be read as a way to specify the referent of these so to speak  “floating signifier”, while associating them with precise circumstances. In fact, once the _salutatio_ or the encounter with Tiberius in the streets of Rome is over, the crowd, whether _turba_ or _multitudo_, is likely to break up, whereas the _vulgus_ that circulates rumours overlaps (at least in Tacitus’ mind) with the urban _plebs_ as a whole, and does not seem solely linked to this particular occasion – the best evidence being that the same _vulgus_ reappears a few paragraphs later (Tac., _Ann._, 4.64.1)."
   ]
  },
  {
   "cell_type": "markdown",
   "metadata": {},
   "source": [
    "#### 3.4.2 The semantic perimeter of _vulgus_, a Tacitean innovation? A comparison with Suetonius and Ammianus"
   ]
  },
  {
   "cell_type": "markdown",
   "metadata": {},
   "source": [
    "Can we determine Tacitus’ originality in this particular use of _vulgus_? Although it is difficult to draw definitive conclusions without a comprehensive reading and analysis of parallel corpora, some selected comparisons with Tacitus’ predecessors, contemporaries and successors suggest that the historian made a quite original use of this lexeme, which one may link to his political analysis of the first principate."
   ]
  },
  {
   "cell_type": "markdown",
   "metadata": {},
   "source": [
    "First of all, it should be noted that the very particular meaning Tacitus gives to _vulgus_ (defined as a popular, politically active crowd, stating its opinion) is not unparalleled in the surviving Latin literature, but that the systematization of this definition is to our knowledge unprecedented. Indeed, from Sallust to Seneca, many authors give to _vulgus_ the meaning of “mingled crowd” where the social orders and traditional distinctions are confused (Sall., _Cat._, 20, or Sen., _Vit. Beat._, 2.2 with the commentary of <cite data-cite=\"2272257/43U2KCKU\"></cite> p. 150 n. 4), alongside those who give _vulgus_ a clear “popular” colour (see for example the above mentioned case of the hendiadys _populus and vulgus_ in Cic., _Mur._, 38, Cic., _Verr._, 2.1.1, Lucius Pomponius Bononiensis _apud_ Non. 3.750, and later Sen., _Phaedr._, 488). In some earlier poets and prose writers, a distinction is made between the _turba_ as a mixed crowd of all classes and the _vulgus_ as the infra-equestrian part of it, as P. Arena has shown in relation to Ovid, Seneca or Statius <cite data-cite=\"2272257/H2UPRPIW\"></cite>. However, this definition of the _vulgus_ is more fluctuating, for instance in a passage of Manilius in which the _vulgus_ and the _sine nomine turba_ (“nameless crowd”) designate the non-citizen fringes of the city, placed below the _populus_ itself (Man. 5.733)."
   ]
  },
  {
   "cell_type": "markdown",
   "metadata": {},
   "source": [
    "##### 3.4.2.1 Suetonius"
   ]
  },
  {
   "cell_type": "markdown",
   "metadata": {},
   "source": [
    "In Suetonius, a contemporary of Tacitus who deals with the same historical material in a different genre (the biography), the most used lexeme is also _vulgus_ (32 occ.), which, as in Tacitus, constitutes a singularity in relation to the previous literary production. However, the term does not have quite the same semantic extension as in Tacitus. We do find a number of passages in which the Suetonian _vulgus_ designates the crowd as a new political actor of the imperial regime, as a type of manifestation of the urban _plebs_ and as a participant in the dialogue with the prince (Suet., _Aug._ 45, _Claud._, 21, _Ner._, 21; link to rumours: _Iul._, 30, _Tib._, 7, _Ner._, 6 and 53, _Oht._, 12; link to opinion: _Iul._, 88, _Ner._, 4, 36 and 53, _Vesp._, 14). Notwithstanding these occurrences, _vulgus_ often refers to a socially indeterminate group and is often alluded to as the circles that circulate licentious verses or witty comments about the emperors (_Iul._, 20, 80, _Tib._, 21, _Ner._, 42, _Vesp._, 16). One thus often finds as collocates of this _vulgus_ verbs referring to phonetic or lexical variants of certain nouns (_dicere_, _vocare_: _Aug._, 35, 70, 87, _Tib._, 38, 43, _Galb._, 14, _Vesp._, 4), while the verbal phrase _in vulgus_/_vulgo edere_/_exire_ (which can be translated as “to divulge”) is found several times. In these cases, _vulgus_ lacks the strong social colour it had in Tacitus. Furthermore, the parallel between the _vulgus urbanum_ (“urban crowd”) and the _vulgus militum_ (“military crowd”) is totally absent in Suetonius (in contrast to Tacitus), who never applies the noun to the military world, when he does not distinguish the civic and the military spheres most firmly (_eg_ _Ner._, 31)."
   ]
  },
  {
   "cell_type": "markdown",
   "metadata": {},
   "source": [
    "_Turba_ is used to nearly the same extent to _vulgus_ (28 occ. in the sense of \"crowd\"), which makes a real difference with Tacitus. The term does not seem to have a strong social profile, since it refers sometimes to the Roman _plebs_, who attends the games or is entitled to the grain distributions (games : _Iul._, 29, _Aug._, 40, _Cal._, 30, _Claud._, 12, 27; frumentary context: _Claud._, 18; around the curia: _Cal._, 14; see also _Cal._, 4 and _Galb._, 18), sometimes to socially more diverse groups: senators, barbarians, slaves and soldiers (nobles: _Aug._, 35, _Claud._, 10, _Galb._, 17, _Vit._, 7; outside Rome / barbarians: _Aug._, 98, _Ner._, 30; slaves : _Claud._, 18 and 22; soldiers: _Aug._, 14, _Ner._ 2; in contrast, see two occurrences of _turba_ paganorum, “crowd of civilians”: _Aug._, 27 and _Galb._, 19). The absence of a socially situated conceptualisation of the Suetonian _turba_ is evident in the passages where _turba_ refers to a mingled crowd, a _turba omnis generis_ (“crowd of all ranks”, _Cal._, 42) and, more generally, can be seen with the omnipresence of collocates in the genitive plural form, specifying to which kind of crowd the biographer refers to (_turba paganorum_, _creditorum_, _salutantum_, _familarum_, _operariorum_, etc.). These expressions underline the indeterminacy of this _turba_, which generally presents, as in Tacitus, a spatialized image of the crowd, and collocates with verbs of motion like _circumstare_, _dimouere_, _summovere_, etc."
   ]
  },
  {
   "cell_type": "markdown",
   "metadata": {},
   "source": [
    "In spite of a smaller number of occurrences (12), _multitudo_ also relates to various crowd phenomena: in addition to being used in more than a third of the cases for inanimate collections (_Iul._, 68, _Aug._, 29, _Ner._, 31 and 46, _Tit._, 4), _multitudo_ refers as much to crowds without any claim of their own or without any homogeneous social profile as to the Roman plebs putting forward political demands (_Iul._, 16, _Aug._, 46, _Tib._, 72, _Claud._, 10)."
   ]
  },
  {
   "cell_type": "markdown",
   "metadata": {},
   "source": [
    "##### 3.4.2.1 Ammianus"
   ]
  },
  {
   "cell_type": "markdown",
   "metadata": {},
   "source": [
    "In Ammianus (a fourth century AD historian writing a continuation of Tacitus’ history), the distribution of lexemes is strikingly different. With 100 occurrences in which it actually designates human crowds, against 26 occurrences of inanimate collections, _multitudo_ seems to be the term favoured by the historian to evoke crowd phenomena. The sheer volume of occurrences prevents any detailed study here, but we can highlight the diversity of crowd phenomena evoked by this noun: both urban and military crowds, Romans as well as barbarians, nobles as well as commoners. The high frequency of a modifiers in the form of an explicative genitive (_multitudo calonum_, _pelicum_, _servorum_...) as well as expressions like _promiscua multitudo_ (“mixed crowds”, “crowds without distinction”, Amm. 14.3.3, 19.6.1, 23.2.4) attest to this observation. The insistence on the physical dimension of the gathering is frequent, for instance through collocates such as _cogere_ (“bring together”) or _circumsaepire_ (“enclose”), and more generally verbs with prefixes _cum-_ and _circum-_ (Amm. 14.3.3, 16.10.4, 16.12.29, 18.2.8, 18.6.22, etc.)."
   ]
  },
  {
   "cell_type": "markdown",
   "metadata": {},
   "source": [
    "_Turba_ is mostly used in the plural form in its original sense of “trouble”, in noun phrases like _concitor _turbarum_ (“troublemaker”, Amm. 14.7.15, 15.1.2, 15.7.5, 17.9.5, 19.4.6, etc.). The meaning of “crowd” is present in only 6 occ.; in this cases, _turba_ may refer to the lower end of the social scale, like the _turba imae sortis et paupertinae_ of Amm. 14.6.25 (“crowd of lowest condition and greatest poverty”), but this social meaning occurs quite infrequently (compare Amm. 19.11.11, 21.10.1, 22.9.16, 23.6.83). With such a small number of relevant passages, it is difficult to reach general conclusions about Ammianus’ use of _turba_."
   ]
  },
  {
   "cell_type": "markdown",
   "metadata": {},
   "source": [
    "The occurrences of _vulgus_ are also rather scarce in Ammianus (14 occ.). As in Suetonius, the term is likely to refer to large (and vague) segments of the population, especially when associated with verbs (_appellare_, _pronuntiare_) indicating popular variants of a word or pronunciation differences (Amm. 17.8.2, 22.4.9, 23.1.5; also 29.2.6). Apart from these cases, it is true that _vulgus_ seems to have retained a clear social colour and characterizes collective actions taken together by the urban plebs (in Rome or in the major cities of the 4th century Roman Empire like Antioch or Milan) or by the legions (_vulgus_ referring to the _plebs frumentaria_ in Amm. 14.6.1; _vulgus_ as the infantry in Amm. 16.12.49). As in Tacitus, _vulgus_ is sometimes used to refer to particular sectors of public opinion (Amm. 23.6.4, 25.4.18). It is also worth noting that _vulgus_ often appears in contexts of sedition, especially in urban settings (a clear link between _seditio_ and _vulgus_ is made in Amm. 14.6.1). In these cases, _vulgus_ may be used alongside _plebs_ and _multitudo_. In Amm. 14.7.5-6, a wheat riot begins within the plebs (_plebs_) of Antioch: the rioters are referred to as _multitudo_ when they confine themselves to rumble, and as _vulgus_ when the revolt breaks out. However, unlike in Tacitus, the _vulgus_ usually appears as the social conflict is over, when some authority has calmed the crowd by appealing to their pity. The main actor in such events is usually the _plebs_, sometimes referred to as _multitudo_ when they start rioting, then as _vulgus_ when they settle down. This lexical sequence can be read, for example, in the narrative of the 355 AD seditions in Rome, suppressed by the urban prefect Flavius Leontius (Amm. 15.7). The choice of _vulgus_ can be explained in these cases by its strong psychological dimension in general, and by the stereotypical affectivity of the masses in particular (see also Amm. 19.10.1-3, 30.8.9 and 31.5.7)."
   ]
  },
  {
   "cell_type": "markdown",
   "metadata": {},
   "source": [
    "Thus, Suetonius appears relatively close to Tacitus, especially in his use of _vulgus_, whereas in Ammianus, as in general in Latin literature, this term is very much in the minority compared to _multitudo_ and _turba_. The differences between Tacitus and Suetonius can be explained by the latter’s less rigorous choice of lexemes to describe crowd action, or (perhaps more convincingly) by the biographical genre, in which the focus is put on urban life (hence the scarcity of military crowds). In these three authors, _vulgus_ is clearly identified with the infra-equestrian classes of Roman society, and is associated with the expression of collective opinion."
   ]
  },
  {
   "cell_type": "markdown",
   "metadata": {},
   "source": [
    "\n",
    "---\n"
   ]
  },
  {
   "cell_type": "markdown",
   "metadata": {},
   "source": [
    "## 4. Interpreting the results from a historical perspective: the Tacitean _vulgus_, a new imperial phenomenon?"
   ]
  },
  {
   "cell_type": "markdown",
   "metadata": {},
   "source": [
    "Tacitus’ use of the three lexemes must be read in association with the diversity of crowd phenomena that occurred in the first century AD Rome. In this historical context, the historian specializes _vulgus_ to refer to a type of crowd closely linked to the Roman plebs, defined by a collective opinion, capable of vocalizing it and, more generally, of stating its political demands – in short, a crowd that thinks and speaks. We have also seen above that Tacitus made a quantitatively important use of _vulgus_, superior to the previous literary production. In the final part of this paper, we propose to investigate this Tacitean originality from a more historical perspective. Two possible, not mutually exclusive interpretations might be advanced: the psychological nature of Tacitus’ writing and the evolution of the political relations within the Roman society of the 1st century AD."
   ]
  },
  {
   "cell_type": "markdown",
   "metadata": {},
   "source": [
    "### 4.1 _Vulgus_ and the psychological reading of collective action"
   ]
  },
  {
   "cell_type": "markdown",
   "metadata": {},
   "source": [
    "Because of its potential origin in the rural language, and at the very least because of the nominal suffix -us and the neutral gender, _vulgus_ carries strong psychological connotations, allowing for broad generalizations about the gregarious nature of the crowd. The term must thus be apprehended within Tacitus’ broader tendency towards socio-psychological interpretation of the historical events, which is particularly clear if we look at the regular references in his works to the mos vulgi, the “habits” or even the psychological “laws of the crowd” (<cite data-cite=\"2272257/GJAK9283\"></cite> p. 707; <cite data-cite=\"2272257/IHMSQ2V3\"></cite> pp. 226-237; see <cite data-cite=\"2272257/S3N9BDMT\"></cite> pp. 81-87 for a comprehensive survey). This set of rules allows the historian to explain crowd behaviour by invariants of psychic nature: crowds, whatever they are, are always unable to control themselves, fickle, prone to believe in the worst possible stories, gullible, etc. As such, the term is applied to diverse social groups – the Roman plebs, the legions, the common people of the _municipia_ and the “barbarian” tribal populations –, all of which are subsumed under the general denomination of _vulgus_. Tacitus thus conflates in the same category the _vulgus urbanum_ (“urban crowd” in Rome, the _Vrbs_ _par excellence_, Tac, _Hist._, 3.80.1), the _vulgus militum_ (“military crowd”, Tac., _Ann._, 3.13.2, _Hist._, 2.5.4 and 2.70.5), the _vulgus municipal_ (“municipal crowd”, “crowd of the town”, Tac., _Hist._, 2.21, in Piacenza) and the _vulgus oppidanorum_ (“provincial crowd”, with the same meaning of “crowd of the town”, Tac., _Ann._ 15.33.3, here in Naples). It is obvious that these groups have different social composition, privileges, powers and obligations. However, in Tacitus’ mind (and in the mind of any Roman aristocrat, one may add), each one of them forms an entity with similar characteristics (they are composed of non-noble freemen), whose behaviour, in a given situation, is unlikely to vary. "
   ]
  },
  {
   "cell_type": "markdown",
   "metadata": {},
   "source": [
    "Some occurrences of _vulgus_ used concurrently with _populus_ and _plebs_ show this difference between the political (_populus_, _plebs_) and the psychological vocabulary (_vulgus_). In a digression about Rome’s republican past, for example, Tacitus alludes to the ancient powers of the _plebs_ (_plebs_): the chosen term can be explained by the reference to the secessions of the _plebs_ in the early days of the Republic. In the very next phrase, when referring to the “character” (natura) of this group, Tacitus uses _vulgus_, a term more suited to his psychological approach (_Ann._ 4.33.2):"
   ]
  },
  {
   "cell_type": "markdown",
   "metadata": {},
   "source": [
    "> _Igitur ut olim __plebe ualida__, uel cum patres pollerent, noscenda __uulgi natura__ et quibus modis temperanter haberetur, senatusque et optimatium ingenia qui maxime perdidicerant, callidi temporum et sapientes credebantur, sic conuerso statu […]._"
   ]
  },
  {
   "cell_type": "markdown",
   "metadata": {},
   "source": [
    "> Accordingly, as in the period of alternate __plebeian dominance__ and patrician ascendancy it was imperative, in one case, to study __the character of the masses__ and the methods of controlling them: while, in the other, those who had acquired the most exact knowledge of the temper of the senate and the aristocracy were accounted shrewd in their generation and wise; so today, when the situation has been transformed"
   ]
  },
  {
   "cell_type": "markdown",
   "metadata": {},
   "source": [
    "Similar distinction might be observed elsewhere: see _Ann._ 14.14.2 or the hendiadys _vulgus quoque imperitum et tunicatus hic _populus_ (to translate it literally: “the ignorant crowd and our people clothed with the tunic”, _Dial._, 7.3). In all of these cases, _vulgus_ and _populus_/_plebs_ refer to the same group, seen from two different (and complimentary) perspectives, one psychological, and one political or institutionnal."
   ]
  },
  {
   "cell_type": "markdown",
   "metadata": {},
   "source": [
    "### 4.2 _Vulgus_ and the political transformations of the first principate"
   ]
  },
  {
   "cell_type": "markdown",
   "metadata": {},
   "source": [
    "Nevertheless, it would be wrong to limit ourselves to this first analysis, since the _populus_ and the _plebs_ are often involved in Tacitus in psychologizing generalizations, and the distribution is sometimes the opposite of what one would expect (_eg_ in Tacitus, Ann, 2.82.3, well noted in <cite data-cite=\"2272257/43U2KCKU\"></cite> pp. 146 _sqq_). The reason why Tacitus has systematized the use of the notion of _vulgus_ is undoubtedly also because it belongs fully to the political picture he draws of the early imperial Rome. We may start here by quoting a most revealing text. At the beginning of Otho’s reign in the first months of 69 AD, the people “obtained” (_impetrare_) the death of Tigellinus, Nero’s former praetorian prefect and favourite, protected under Galba by the powerful Titius Vinius. As he describes the collective mobilization that led to his downfall, Tacitus uses successively _populus_ and _vulgus_ (Tac., _Hist._, 1.72.3):"
   ]
  },
  {
   "cell_type": "markdown",
   "metadata": {},
   "source": [
    "> _Eo infensior __populus__, addita ad uetus Tigellini odium recenti Titi Vinii inuidia, concurrere ex tota urbe in Palatium ac fora et, ubi __plurima uulgi licentia__, in circum ac theatra effusi seditiosis uocibus strepere, donec Tigellinus accepto apud Sinuessanas aquas supremae necessitatis nuntio inter stupra concubinarum et oscula et deformis moras sectis novacula faucibus infamem vitam foedavit etiam exitu sero et inhonesto._"
   ]
  },
  {
   "cell_type": "markdown",
   "metadata": {},
   "source": [
    ">  These facts made __the people__ more hostile towards him, and their old hatred was increased by their recent dislike for Titus Vinius. They rushed from every part of the city to the Palatine and the fora, and, pouring into the circus and theatres __where the common people (_vulgus_) have the greatest licence__, they broke out into seditious cries, until finally Tigellinus, at the baths of Sinuessa, receiving the message that the hour of his supreme necessity had come, amid the embraces and kisses of his mistresses, shamefully delaying his end, finally cut his throat with a razor, still further defiling a notorious life by a tardy and ignominious death."
   ]
  },
  {
   "cell_type": "markdown",
   "metadata": {},
   "source": [
    "At first glance, _vulgus_ appears alongside Tacitus’ generalisation about the psychological disorder of the crowd, the _vulgi licentia_ (“the licence of the crowd”), which he fiercely condemns. But the strong gnomic connotations of the passage invite us to look beyond the aristocratic disapproval of the collective action to analyse the narrative content. Indeed, as the historian notes here, in the 1st century AD Rome, the people (_populus_) expressed their demands in three places: the palace (_Palatium_), the imperial forums (_fora_), and the spectacles (circus and theatres, _circum ac theatre_), where they could be regarded as a crowd (_vulgus_). Behind the specific instance of Tigellinus’ downfall, the phraseology of the passage reveals to what extent the new forms of interaction between the plebs and the prince, especially at the games, had become a common practice regarding political relationships under the Empire. Indeed, as is well known, the places for popular gathering progressively shifted during the early Empire from the old republican spaces (especially the Forum) to the Palatine and to the monumental buildings where spectacles and games were held (see <cite data-cite=\"2272257/FSAQ586V\"></cite>, <cite data-cite=\"2272257/JI4AW6KJ\"></cite>, <cite data-cite=\"2272257/KPWN2IZW\"></cite> or <cite data-cite=\"2272257/PD4RDJUX\"></cite>, among other references). But this text also seems to echo a famous passage of Cicero’s _Pro Sestio_ (Cic., _Sest._, 106, commented by <cite data-cite=\"2272257/JKICPWBT\"></cite> p. 482 or <cite data-cite=\"2272257/IG5Q52EE\"></cite> pp. 237–239), a comparison which to our knowledge has so far gone unnoticed. In the latter, Cicero also presents three places where the _populus Romanus_ expresses “their opinion and their will” (_iudicium ac uoluntas_): the meetings (_contiones_), the assemblies (_comitia_) and the games (_ludi et gladiatorum consessus_). If we compare Cicero’s judgement on the political situation at the end of the Republic with Tacitus’ analysis for the early imperial period, we notice that the historian only retains the spectacles from Cicero’s list, adding to them two other spaces of political gathering, the Palatine and the imperial forums."
   ]
  },
  {
   "cell_type": "markdown",
   "metadata": {},
   "source": [
    "Furthermore, it is worth noting that Tacitus, as expected, openly demonstrates utter contempt for the type of communication displayed by the crowd in games by referring to it as a form of _licentia_ (“licence”). This _licentia_ appears as a deterioration of Cicero’s reference to the _iudicium ac uoluntas_ (“opinion and will”) of the people. Moreover, the political vocabulary has also deteriorated, as Cicero’s _populus Romanus_ is first replaced in Tacitus by the simple _populus_ and finally by _vulgus_. Yet, here again, the vocabulary is, in itself, ideological. Through this lexical evolution (_populus Romanus_ in Cicero becoming _populus_ and then _vulgus_ in Tacitus), Tacitus points to the transformation of the political practices of the Roman _plebs_: they now make their feelings known outside the old institutional structures that were the assemblies (_contiones_ and _comitia_). In so doing, the political authorities (now embodied by the emperor) found a new actor to dialogue with. It was no longer the old _populus Romanus_, who belonged to the expressions that the principate had “emptied of their meaning” and let “fall into disuse”, the _vacua_ and _oblitterata nomina_ (Tac., _Hist._ , 1.30.6 and 1.55.4), but of a new political entity, to which Tacitus gives the name of _vulgus_: a crowd holding and expressing an opinion, making demand in non-institutional spaces (through clamours at the games and rumours in the streets), and often obtaining satisfaction in this process. If we look back to Tac., _Hist._, 1.72.3, the _seditiosae voces_ (“seditious cries”) of the crowd did compel Otho to condemn Tigellinus. In sum, the _vulgus_ is a political actor whose public expression is achieved essentially through what Claude Nicolet called the “parallel languages” of politics (_“langages parallèles” de la politique_), thus designating the spaces situated “outside the traditional domain defined by public law” (especially the assemblies, see <cite data-cite=\"2272257/JKICPWBT\"></cite> p. 456-505). Our comprehensive study of _vulgus_ leads us to consider that Tacitus had perfectly perceived the transformation of political practices undergone at the turn of the millennium; in spite of the conspicuous display of contempt, he was fully aware of the centrality of these informal forms of politics in the first century AD, which scholars of Roman history have recently investigated with greater attention (see <cite data-cite=\"2272257/2YNT8TZ6\"></cite> relying on inspiring studies in Greek history like <cite data-cite=\"2272257/M7SXKH85\"></cite>)."
   ]
  },
  {
   "cell_type": "markdown",
   "metadata": {},
   "source": [
    "## Conclusions"
   ]
  },
  {
   "cell_type": "markdown",
   "metadata": {},
   "source": [
    "Taking into account the three main lexemes of crowd, their lexical and syntactic environment as well as the historical phenomena they refer to, we can highlight the originality – and therefore, the interest – of the term _vulgus_. This specificity can be seen, first of all, in relation to _multitudo_ and _turba_, two terms that are very close to each other. _vulgus_ refers to highly conscious, active rather than passive or reactive gatherings. In Tacitus, it seems to co-refer with the notions of _populus_ and _plebs_ (themselves largely coreferential in the late Republican and early imperial prose, see <cite data-cite=\"2272257/E7EE9FK4\"></cite> pp. 506-518 and <cite data-cite=\"2272257/43U2KCKU\"></cite> pp. 148-149), and thus to present a different facet from the same social group, the urban _plebs_ (hence the hendiadys _vulgus ac populus_ seen above). The most likely interpretation of this linguistic phenomenon is to link the _vulgus_ to the new forms of gathering and political expression of the urban plebs that bypassed the old, sclerotic republican institutions, like voting, which had become mere “rituals” of assent <cite data-cite=\"2272257/7K2IS2M4\"></cite>."
   ]
  },
  {
   "cell_type": "markdown",
   "metadata": {},
   "source": [
    "Note, however, that Tacitus’ writing is resistant to definitive categorizations. For instance, rumours were one of the essential elements of the new dialogue between plebs and emperor (on this subject, see most recently <cite data-cite=\"2272257/VCK2H5F3\"></cite>, <cite data-cite=\"2272257/S3N9BDMT\"></cite> pp. 217-486 and <cite data-cite=\"2272257/NWVDMXYS\"></cite>). As one of these non-institutional ways the urban masses had to express their opinion, it is logical to find most often in Tacitus _rumor vulgi_ (“rumour of the crowd”, Tac., _Ann._, 4.29.2, 4.41.1, 15.73.1, _Hist._ 3.58.8, 4.11.6; similar formulas in Tac., _Ann._, 3.76.1, 15.48.2 and _Hist._, 2.26.5) and never _rumor turbae_ or _rumor multitudinis_; however, we also read once _rumor plebis_ (Tac., _Hist._, 2.91.2) and once _rumor populi_ (Tac., _Ann._, 14.29.2). We must therefore accept some variations in this system and leave to Tacitus his fair share of creative liberty when choosing between the different designations of the same urban masses. Nevertheless, this does not mean that _vulgus_ has (at least in Tacitus) a simple “derogatory significance”, as is often accepted since <cite data-cite=\"2272257/43U2KCKU\"></cite> (p. 141 for the quotation), and we hope to have conveyed in this paper “a method [...] whereby each and every term [or at least, some of them] may be defined according to legal or sociological [and, one may add, political] principles\", to take a stance opposite to that of the great historian of the Roman plebs (<cite data-cite=\"2272257/S9QDUBZU\"></cite> p. 142)."
   ]
  },
  {
   "cell_type": "markdown",
   "metadata": {
    "tags": [
     "hidden"
    ]
   },
   "source": [
    "## 5. References"
   ]
  },
  {
   "cell_type": "markdown",
   "metadata": {
    "tags": [
     "hidden"
    ]
   },
   "source": [
    "<div class=\"cite2c-biblio\"></div>"
   ]
  }
 ],
 "metadata": {
  "celltoolbar": "Tags",
  "cite2c": {
   "citations": {
    "2272257/24VKMX7M": {
     "ISBN": "978-1-107-14507-8",
     "abstract": "This book investigates the working mechanisms of public opinion in Late Republican Rome as a part of informal politics. It explores the political interaction (and sometimes opposition) between the elite and the people through various means, such as rumours, gossip, political literature, popular verses and graffiti. It also proposes the existence of a public sphere in Late Republican Rome and analyses public opinion in that time as a system of control. By applying the spatial turn to politics, it becomes possible to study sociability and informal meetings where public opinion circulated. What emerges is a wider concept of the political participation of the people, not just restricted to voting or participating in the assemblies.",
     "author": [
      {
       "family": "Rosillo-López",
       "given": "Cristina"
      }
     ],
     "event-place": "Cambridge",
     "id": "2272257/24VKMX7M",
     "issued": {
      "year": 2017
     },
     "language": "en",
     "note": "Google-Books-ID: K9zFDgAAQBAJ",
     "number-of-pages": "283",
     "publisher": "Cambridge University Press",
     "publisher-place": "Cambridge",
     "title": "Public Opinion and Politics in the Late Roman Republic",
     "type": "book"
    },
    "2272257/2YNT8TZ6": {
     "abstract": "L’étude historique du phénomène de la rumeur à Rome, récemment renouvelée grâce aux apports\nde la sociologie et progressivement débarrassée de son orientation psycho-pathologique, n’est pas encore parfaitement parvenue à interroger le lien entre rumeur et crise tel qu’il apparaît dans les sources littéraires. Tel\nest l’objectif du présent article, qui se concentre sur le I\n\ner et le IIe siècles du principat. Pour déconstruire le lien\nrumeur/crise, nous cherchons à montrer qu’il est produit par une utilisation à la fois trop exclusive et trop réductrice\nde Tacite, notre source principale pour cette période. Dans un premier temps, nous analysons le rôle des rumeurs\ndans la dramatisation du récit tacitéen, qui associe le phénomène aux moments de forte tension, donnant ainsi l’illusion d’une corrélation. Dans un deuxième temps, nous nous penchons sur les rumeurs non dramatisées chez\ncet auteur et soulignons qu’elles ont à voir avec des thématiques souvent très éloignées de l’instabilité politique. Dans un troisième temps, nous complétons l’image du phénomène en utilisant des sources contemporaines, mais\nnon historiographiques (poésie, roman, déclamations, documents épigraphiques) et jusqu’à présent laissées dans l’ombre : celles-ci dessinent les contours d’un fait social routinier par sa temporalité, ses espaces et ses thèmes.",
     "author": [
      {
       "family": "Montlahuc",
       "given": "Pascal"
      }
     ],
     "container-title": "Cahiers du Centre Gustave-Glotz",
     "container-title-short": "CCGG",
     "id": "2272257/2YNT8TZ6",
     "issued": {
      "year": 2020
     },
     "journalAbbreviation": "CCGG",
     "title": "Claude Nicolet et les « langages parallèles » du citoyen : (ré)introduire le politique à Rome",
     "type": "article-journal",
     "volume": "31"
    },
    "2272257/43U2KCKU": {
     "author": [
      {
       "family": "Yavetz",
       "given": "Zvi"
      }
     ],
     "event-place": "Oxford",
     "id": "2272257/43U2KCKU",
     "issued": {
      "year": 1969
     },
     "publisher": "Clarendon Press",
     "publisher-place": "Oxford",
     "title": "Plebs and princeps",
     "type": "book"
    },
    "2272257/4BAEJ45C": {
     "ISBN": "978-0-7156-2800-3",
     "author": [
      {
       "family": "Ash",
       "given": "Rhiannon"
      }
     ],
     "event-place": "Londres",
     "id": "2272257/4BAEJ45C",
     "issued": {
      "year": 1999
     },
     "language": "anglais",
     "number-of-pages": "246",
     "publisher": "Duckworth",
     "publisher-place": "Londres",
     "shortTitle": "Ordering anarchy",
     "title": "Ordering Anarchy: Armies and Leaders in Tacitus' Histories",
     "title-short": "Ordering anarchy",
     "type": "book"
    },
    "2272257/4TV8R2MT": {
     "ISBN": "978-2-7535-2452-1",
     "URL": "http://books.openedition.org/pur/19276",
     "accessed": {
      "day": 6,
      "month": 12,
      "year": 2018
     },
     "author": [
      {
       "family": "Hurlet",
       "given": "Frédéric"
      }
     ],
     "collection-title": "Histoire",
     "container-title": "Rome, les Césars et la ville : Aux deux premiers siècles de notre ère",
     "editor": [
      {
       "family": "Belayche",
       "given": "Nicole"
      }
     ],
     "event-place": "Rennes",
     "id": "2272257/4TV8R2MT",
     "issued": {
      "year": 2001
     },
     "page": "159-183",
     "page-first": "159",
     "publisher": "Presses universitaires de Rennes",
     "publisher-place": "Rennes",
     "shortTitle": "Le centre du pouvoir",
     "title": "Le centre du pouvoir : Rome et la cour impériale aux deux premiers siècles de notre ère",
     "title-short": "Le centre du pouvoir",
     "type": "chapter"
    },
    "2272257/58HGNWR8": {
     "ISBN": "978-2-7071-1419-8",
     "author": [
      {
       "family": "Yavetz",
       "given": "Zvi"
      }
     ],
     "event-place": "Paris",
     "id": "2272257/58HGNWR8",
     "issued": {
      "year": 1983
     },
     "language": "français",
     "number-of-pages": "245",
     "publisher": "La Découverte",
     "publisher-place": "Paris",
     "shortTitle": "La plèbe et le prince",
     "title": "La plèbe et le prince : foule et vie politique sous le Haut-Empire romain",
     "title-short": "La plèbe et le prince",
     "translator": [
      {
       "family": "Sissung",
       "given": "Maud"
      }
     ],
     "type": "book"
    },
    "2272257/5HCULPZ6": {
     "ISBN": "978-1-107-07489-7",
     "author": [
      {
       "family": "Courrier",
       "given": "Cyril"
      }
     ],
     "container-title": "Popular Culture in the Ancient World",
     "editor": [
      {
       "family": "Grig",
       "given": "Lucy"
      }
     ],
     "event-place": "Cambridge",
     "id": "2272257/5HCULPZ6",
     "issued": {
      "year": 2017
     },
     "language": "anglais",
     "page": "107-128",
     "page-first": "107",
     "publisher": "Cambridge University Press",
     "publisher-place": "Cambridge",
     "title": "Plebeian Culture in the City of Rome, from the Late Republic to the Early Empire",
     "type": "chapter"
    },
    "2272257/5P22L76A": {
     "URL": "http://www.jstor.org/stable/3297552",
     "accessed": {
      "day": 21,
      "month": 6,
      "year": 2018
     },
     "author": [
      {
       "family": "Hunter",
       "given": "Virginia"
      }
     ],
     "container-title": "The Classical Journal",
     "container-title-short": "CJ",
     "id": "2272257/5P22L76A",
     "issue": "1",
     "issued": {
      "year": 1988
     },
     "journalAbbreviation": "CJ",
     "page": "17-30",
     "page-first": "17",
     "title": "Thucydides and the Sociology of the Crowd",
     "type": "article-journal",
     "volume": "84"
    },
    "2272257/5PDRBT4Y": {
     "DOI": "10.1093/pastj/gtz063",
     "URL": "https://academic.oup.com/past/article/249/1/3/5819584",
     "abstract": "Abstract\n            The objective of this article is to place the study of urban protest and violence in the period from about 300 to about 600 CE in a broader perspective and to subject the investigation of plebeian activism to the basic precepts of analysis of collective action developed by social scientists and historians studying other periods. Its main argument is that, contrary to wide held assumptions in the historiography, what characterized Late Antiquity was not simply the exacerbation of violence or its tighter control, but the crisis of aristocratic hegemony and the expansion of opportunities for popular intervention in city life. What has been perceived as the product fanaticism, irrationality and deprivation of the masses, of the manipulation of bishops and aristocrats or of the failure of the mechanisms of coercion was actually the result of a dramatic social change that, on the one hand, involved a new dynamic of power and, on the other, a shift in the way the people understood their role and power in local communities.",
     "accessed": {
      "day": 10,
      "month": 5,
      "year": 2021
     },
     "author": [
      {
       "family": "Magalhães de Oliveira",
       "given": "Julio Cesar"
      }
     ],
     "container-title": "Past & Present",
     "id": "2272257/5PDRBT4Y",
     "issue": "1",
     "issued": {
      "day": 1,
      "month": 11,
      "year": 2020
     },
     "language": "en",
     "page": "3-52",
     "page-first": "3",
     "shortTitle": "Late Antiquity",
     "title": "Late Antiquity: The Age of Crowds?",
     "title-short": "Late Antiquity",
     "type": "article-journal",
     "volume": "249"
    },
    "2272257/7K2IS2M4": {
     "ISBN": "978-2-271-06925-2",
     "author": [
      {
       "family": "Hollard",
       "given": "Virginie"
      }
     ],
     "event-place": "Paris",
     "id": "2272257/7K2IS2M4",
     "issued": {
      "year": 2010
     },
     "language": "français",
     "number-of-pages": "292",
     "publisher": "CNRS",
     "publisher-place": "Paris",
     "shortTitle": "Le rituel du vote",
     "title": "Le rituel du vote : les assemblées romaines du peuple",
     "title-short": "Le rituel du vote",
     "type": "book"
    },
    "2272257/7N2TV7TF": {
     "URL": "http://search.proquest.com.acces.bibliotheque-diderot.fr/pio/docview/1303249800/citation/191B17A9EA2E42F0PQ/1",
     "accessed": {
      "day": 7,
      "month": 2,
      "year": 2016
     },
     "author": [
      {
       "family": "Thiec",
       "given": "Yvon J."
      },
      {
       "family": "Tréanton",
       "given": "Jean-René"
      }
     ],
     "container-title": "Revue Française de Sociologie",
     "id": "2272257/7N2TV7TF",
     "issue": "1",
     "issued": {
      "year": 1983
     },
     "language": "French",
     "title": "La foule comme objet de \"science\"",
     "type": "article-journal",
     "volume": "24"
    },
    "2272257/83M575BB": {
     "author": [
      {
       "family": "Karpyuk",
       "given": "Sergei"
      }
     ],
     "container-title": "Hyperboreus",
     "container-title-short": "Hyperboreus",
     "id": "2272257/83M575BB",
     "issue": "1",
     "issued": {
      "year": 2000
     },
     "journalAbbreviation": "Hyperboreus",
     "page": "79-102",
     "page-first": "79",
     "title": "Crowd in Archaic and Classical Greece",
     "type": "article-journal",
     "volume": "6"
    },
    "2272257/857AQJFV": {
     "author": [
      {
       "family": "Bierwisch",
       "given": "Manfred"
      }
     ],
     "container-title": "Semantics. An Interdisciplinary Reader in Philosophy, Linguistics and Psychology",
     "editor": [
      {
       "family": "Steinberg",
       "given": "Danny D."
      },
      {
       "family": "Jakobovits",
       "given": "Leon A."
      }
     ],
     "event-place": "Cambridge",
     "id": "2272257/857AQJFV",
     "issued": {
      "year": 1971
     },
     "page": "410-435",
     "page-first": "410",
     "publisher": "Cambridge University Press",
     "publisher-place": "Cambridge",
     "title": "On Classifying Semantic Features",
     "type": "chapter"
    },
    "2272257/8HNFM5RL": {
     "ISBN": "978-3-593-50952-5 978-3-593-44019-4",
     "author": [
      {
       "family": "Flaig",
       "given": "Egon"
      }
     ],
     "call-number": "DG274 .F58 2019",
     "collection-number": "Band 7",
     "collection-title": "Campus historische Studien",
     "edition": "2",
     "event-place": "Frankfurt",
     "id": "2272257/8HNFM5RL",
     "issued": {
      "year": 2019
     },
     "number-of-pages": "568",
     "publisher": "Campus",
     "publisher-place": "Frankfurt",
     "shortTitle": "Den Kaiser herausfordern",
     "title": "Den Kaiser herausfordern: die Usurpation im Römischen Reich",
     "title-short": "Den Kaiser herausfordern",
     "type": "book"
    },
    "2272257/9D9AZDPV": {
     "ISBN": "978-0-424-06190-0",
     "editor": [
      {
       "family": "Wellesley",
       "given": "Kenneth"
      }
     ],
     "event-place": "Sydney",
     "id": "2272257/9D9AZDPV",
     "issued": {
      "year": 1972
     },
     "language": "anglais",
     "number-of-pages": "248",
     "publisher": "Sydney University Press",
     "publisher-place": "Sydney",
     "title": "Cornelius Tacitus. The Histories. Book III",
     "type": "book"
    },
    "2272257/9HJ9HQUA": {
     "abstract": "Attraverso un percorso diacronico nella letteratura latina tardo-repubblicana e imperiale, si pone in evidenza la rappresentazione della massa, tema per il quale si riscontra un crescente interesse, che si manifesta in uno stile manierato e ipertrofico[rés. en angl.]",
     "author": [
      {
       "family": "Baier",
       "given": "Thomas"
      }
     ],
     "container-title": "Aevum : rassegna di scienze storiche, linguistiche e filologiche",
     "container-title-short": "Aevum",
     "id": "2272257/9HJ9HQUA",
     "issue": "(1)1",
     "issued": {
      "year": 2010
     },
     "journalAbbreviation": "Aevum",
     "language": "German",
     "page": "161-176",
     "page-first": "161",
     "title": "Die Darstellung der Masse in der römischen Literatur",
     "type": "article-journal",
     "volume": "84"
    },
    "2272257/A6W646VH": {
     "author": [
      {
       "family": "Virlouvet",
       "given": "Catherine"
      }
     ],
     "event-place": "Paris",
     "id": "2272257/A6W646VH",
     "issued": {
      "year": 1985
     },
     "publisher": "De Boccard",
     "publisher-place": "Paris",
     "title": "Famines et émeutes à Rome des origines de la république à la mort de Néron",
     "type": "book"
    },
    "2272257/AJWS83WY": {
     "ISBN": "978-0-674-99345-7",
     "collection-number": "312",
     "collection-title": "The Loeb classical library",
     "editor": [
      {
       "family": "Jackson",
       "given": "John"
      }
     ],
     "event-place": "Cambridge (Mass.)",
     "id": "2272257/AJWS83WY",
     "issued": {
      "year": 2007
     },
     "language": "lat eng",
     "number-of-pages": "421",
     "publisher": "Harvard University Press",
     "publisher-place": "Cambridge (Mass.)",
     "shortTitle": "Tacitus. 4",
     "title": "Tacitus. 4: The Annals, books IV - VI, XI - XI",
     "title-short": "Tacitus. 4",
     "type": "book"
    },
    "2272257/B2J3U5I9": {
     "author": [
      {
       "family": "Gerber",
       "given": "A."
      },
      {
       "family": "Greef",
       "given": "A."
      },
      {
       "family": "John",
       "given": "C."
      }
     ],
     "event-place": "Hildesheim",
     "id": "2272257/B2J3U5I9",
     "issued": {
      "year": 1962
     },
     "language": "latin",
     "number-of-volumes": "2",
     "publisher": "Georg Olma",
     "publisher-place": "Hildesheim",
     "title": "Lexicon Taciteum",
     "type": "book"
    },
    "2272257/BXECTHH2": {
     "author": [
      {
       "family": "Bamman",
       "given": "David"
      },
      {
       "family": "Passarotti",
       "given": "Marco"
      },
      {
       "family": "Crane",
       "given": "Gregory"
      },
      {
       "family": "Raynaud",
       "given": "Savina"
      }
     ],
     "container-title": "Tufts University Digital Library",
     "id": "2272257/BXECTHH2",
     "issued": {
      "year": 2007
     },
     "title": "Guidelines for the syntactic annotation of Latin treebanks",
     "type": "article-journal"
    },
    "2272257/C6JA85NG": {
     "author": [
      {
       "family": "Gilbert",
       "given": "R."
      }
     ],
     "event-place": "Bochum",
     "id": "2272257/C6JA85NG",
     "issued": {
      "year": 1976
     },
     "language": "German",
     "publisher": "Brockmeyer",
     "publisher-place": "Bochum",
     "title": "Die Beziehungen zwischen Princeps und stadtrömischer Plebs im frühen Principat",
     "type": "book"
    },
    "2272257/CJFMAH9S": {
     "ISBN": "978-2-7283-0966-5",
     "author": [
      {
       "family": "Courrier",
       "given": "Cyril"
      }
     ],
     "event-place": "Rome",
     "id": "2272257/CJFMAH9S",
     "issued": {
      "year": 2014
     },
     "language": "français",
     "number-of-pages": "1031",
     "publisher": "École française de Rome",
     "publisher-place": "Rome",
     "title": "La plèbe de Rome et sa culture (fin du IIe siècle av. J.-C. - fin du Ier siècle ap. J.-C.)",
     "type": "book"
    },
    "2272257/CXIXUP3N": {
     "abstract": "Der Ausdruck vulgus hat bei Tacitus verschiedene Bedeutungen. Auch zeigen sich Unterschiede in Bedeutung und Gebrauch zwischen Historien und Annalen. Tacitus' Haltung gegenüber dem vulgus ist nicht einheitlich feindlich ; eine grosse Rolle spielt der jeweilige Zusammenhang. Einer der wesentlichen Züge des vulgus ist seine Neigung zu Geschwätz und Gerücht.",
     "author": [
      {
       "family": "Newbold",
       "given": "Ronald F."
      }
     ],
     "container-title": "Rheinisches Museum für Philologie",
     "container-title-short": "RMPh",
     "id": "2272257/CXIXUP3N",
     "issued": {
      "year": 1976
     },
     "journalAbbreviation": "RMPh",
     "language": "English",
     "page": "85-92",
     "page-first": "85",
     "title": "The vulgus in Tacitus",
     "type": "article-journal",
     "volume": "119"
    },
    "2272257/D8YMIE4A": {
     "ISBN": "978-0-674-99274-0",
     "collection-number": "249",
     "collection-title": "The Loeb classical library",
     "editor": [
      {
       "family": "Moore",
       "given": "Clifford Herschel"
      },
      {
       "family": "Jackson",
       "given": "John"
      }
     ],
     "event-place": "Cambridge (Mass.)",
     "id": "2272257/D8YMIE4A",
     "issued": {
      "year": 2007
     },
     "language": "lat eng",
     "number-of-pages": "643",
     "publisher": "Harvard University Press",
     "publisher-place": "Cambridge (Mass.)",
     "shortTitle": "Tacitus. 3",
     "title": "Tacitus. 3: The Histories, books IV - V. The Annals, books I - III",
     "title-short": "Tacitus. 3",
     "type": "book"
    },
    "2272257/DGKEEDC8": {
     "ISBN": "0067-7434",
     "author": [
      {
       "family": "Biliński",
       "given": "Bronislaw"
      }
     ],
     "collection-title": "Biblioteca di Labeo",
     "container-title": "Synteleia : Vincenzo Arangio-Ruiz",
     "editor": [
      {
       "family": "Guarino",
       "given": "Antonio"
      },
      {
       "family": "Labruna",
       "given": "Luigi"
      }
     ],
     "event-place": "Napoli",
     "id": "2272257/DGKEEDC8",
     "issued": {
      "year": 1964
     },
     "number-of-volumes": "2",
     "page": "722-730",
     "page-first": "722",
     "publisher": "Jovene",
     "publisher-place": "Napoli",
     "title": "Intorno alla semasiologia del termine \"vulgus\"",
     "type": "chapter",
     "volume": "2"
    },
    "2272257/E7EE9FK4": {
     "author": [
      {
       "family": "Hellegouarc'h",
       "given": "Joseph"
      }
     ],
     "collection-number": "11",
     "collection-title": "Publication de la Faculté des Lettres et Sciences Humaines de l'Université de Lille",
     "event-place": "Paris",
     "id": "2272257/E7EE9FK4",
     "issued": {
      "year": 1963
     },
     "language": "French",
     "publisher": "Les Belles Lettres",
     "publisher-place": "Paris",
     "title": "Le vocabulaire latin des relations et des partis politiques sous la république",
     "type": "book"
    },
    "2272257/EJINSN7D": {
     "URL": "https://www.jstor.org/stable/4436577",
     "accessed": {
      "day": 9,
      "month": 5,
      "year": 2019
     },
     "archive": "JSTOR",
     "author": [
      {
       "family": "Birley",
       "given": "Anthony R."
      }
     ],
     "container-title": "Historia: Zeitschrift für Alte Geschichte",
     "container-title-short": "Historia",
     "id": "2272257/EJINSN7D",
     "issue": "2",
     "issued": {
      "year": 2000
     },
     "journalAbbreviation": "Historia",
     "page": "230-247",
     "page-first": "230",
     "title": "The Life and Death of Cornelius Tacitus",
     "type": "article-journal",
     "volume": "49"
    },
    "2272257/FGLIUM7E": {
     "ISBN": "978-3-631-64608-3",
     "author": [
      {
       "family": "Kraif",
       "given": "Olivier"
      },
      {
       "family": "Diwersy",
       "given": "Sascha"
      }
     ],
     "container-title": "Les émotions dans le discours = Emotions in discourse",
     "editor": [
      {
       "family": "Blumenthal",
       "given": "Peter"
      },
      {
       "family": "Novakova",
       "given": "Iva"
      },
      {
       "family": "Siepmann",
       "given": "Dirk"
      }
     ],
     "event-place": "Francfort/Main",
     "id": "2272257/FGLIUM7E",
     "issued": {
      "year": 2014
     },
     "page": "381-394",
     "page-first": "381",
     "publisher": "Peter Lang",
     "publisher-place": "Francfort/Main",
     "shortTitle": "Explorating combinatorial profiles using lexicograms on a parsed corpus",
     "title": "Explorating Combinatorial Profiles Using Lexicograms on a Parsed Corpus: a Case Study in the Lexical Field of Emotions",
     "title-short": "Explorating combinatorial profiles using lexicograms on a parsed corpus",
     "type": "chapter"
    },
    "2272257/FSAQ586V": {
     "ISBN": "978-2-02-004507-0",
     "author": [
      {
       "family": "Veyne",
       "given": "Paul"
      }
     ],
     "event-place": "Paris",
     "id": "2272257/FSAQ586V",
     "issued": {
      "year": 1976
     },
     "language": "français",
     "number-of-pages": "799",
     "publisher": "Éditions du Seuil",
     "publisher-place": "Paris",
     "shortTitle": "Le pain et le cirque",
     "title": "Le pain et le cirque : sociologie historique d'un pluralisme politique",
     "title-short": "Le pain et le cirque",
     "type": "book"
    },
    "2272257/G9Z3USM2": {
     "ISBN": "978-3-643-13732-6",
     "abstract": "Warum besuchten Angehorige der romischen Plebs offentliche Versammlungen? Ausgehend von den materiellen Annehmlichkeiten des romischen Volkes (lat. Commoda plebis Romanae) geht Fabian Knopf der Frage nach, welche Motive die Partizipation der nichtelitaren Bevolkerungsteile an offentlichen, nichtbeschlussfassenden Versammlungen im spatrepublikanischen Rom stimulierten. DAbei werden auch Motive untersucht, die jenseits von sachbezogenen Beweggrunden wie commoda anzusiedeln sind. IN diesem Sinne wird die Partizipation der Plebs generell als Phanomen der romischen Kultur bewertet und analysiert.",
     "author": [
      {
       "family": "Knopf",
       "given": "Fabian"
      }
     ],
     "event-place": "Münster",
     "id": "2272257/G9Z3USM2",
     "issued": {
      "year": 2018
     },
     "language": "de",
     "note": "Google-Books-ID: tkBPDwAAQBAJ",
     "number-of-pages": "452",
     "publisher": "LIT",
     "publisher-place": "Münster",
     "title": "Die Partizipationsmotive der plebs urbana im spätrepublikanischen Rom",
     "type": "book"
    },
    "2272257/GJAK9283": {
     "author": [
      {
       "family": "Engel",
       "given": "Jean-Marie"
      }
     ],
     "event-place": "Lille",
     "id": "2272257/GJAK9283",
     "issued": {
      "year": 1972
     },
     "language": "français",
     "publisher": "Service de reproduction des thèses de l'université de Lille III",
     "publisher-place": "Lille",
     "title": "Tacite et l'étude du comportement collectif",
     "type": "book"
    },
    "2272257/H2UPRPIW": {
     "abstract": "Esame delle occorrenze e riflessioni sui valori semantici del termine, anche in relazione a « populus », « uulgus » e « plebs »",
     "author": [
      {
       "family": "Arena",
       "given": "Patrizia"
      }
     ],
     "container-title": "Forme di aggregazione nel mondo romano",
     "editor": [
      {
       "family": "Lo Cascio",
       "given": "Elio"
      },
      {
       "family": "Merola",
       "given": "Giovanna"
      }
     ],
     "event-place": "Bari",
     "id": "2272257/H2UPRPIW",
     "issued": {
      "year": 2007
     },
     "language": "Latin",
     "page": "13-30",
     "page-first": "13",
     "publisher": "Edipuglia",
     "publisher-place": "Bari",
     "shortTitle": "« Turba quae in foro litigat, spectat in theatris » (Sen. cons. ad Marc. 11, 2)",
     "title": "\"Turba quae in foro litigat, spectat in theatris\" (Sen. cons. ad Marc. 11, 2) : osservazioni sull'utilizzo del sostantivo \"turba\" in Seneca, Tacito e Svetonio",
     "title-short": "« Turba quae in foro litigat, spectat in theatris » (Sen. cons. ad Marc. 11, 2)",
     "type": "chapter"
    },
    "2272257/IG5Q52EE": {
     "author": [
      {
       "family": "Flaig",
       "given": "Egon"
      }
     ],
     "collection-number": "1",
     "collection-title": "Historische Semantik",
     "event-place": "Göttingen",
     "id": "2272257/IG5Q52EE",
     "issued": {
      "year": 2003
     },
     "language": "German",
     "publisher": "Vandenhoeck und Ruprecht",
     "publisher-place": "Göttingen",
     "shortTitle": "Ritualisierte Politik",
     "title": "Ritualisierte Politik: Zeichen, Gesten und Herrschaft im Alten Rom",
     "title-short": "Ritualisierte Politik",
     "type": "book"
    },
    "2272257/IHMSQ2V3": {
     "author": [
      {
       "family": "Aubrion",
       "given": "Étienne"
      }
     ],
     "event-place": "Metz",
     "id": "2272257/IHMSQ2V3",
     "issued": {
      "year": 1985
     },
     "language": "français",
     "number-of-pages": "771",
     "publisher": "Université de Metz, Centre de recherche Littérature et spiritualité",
     "publisher-place": "Metz",
     "title": "Rhétorique et histoire chez Tacite",
     "type": "book"
    },
    "2272257/JHK45JAI": {
     "URL": "http://www.cairn.info/resume.php?ID_ARTICLE=HYP_101_0051",
     "accessed": {
      "day": 16,
      "month": 12,
      "year": 2015
     },
     "author": [
      {
       "family": "Laignoux",
       "given": "Raphaëlle"
      }
     ],
     "container-title": "Hypothèses",
     "id": "2272257/JHK45JAI",
     "issue": "1",
     "issued": {
      "day": 1,
      "month": 4,
      "year": 2011
     },
     "language": "fr",
     "page": "51-63",
     "page-first": "51",
     "title": "Conflits de légitimité et rassemblements de foule durant la période triumvirale",
     "type": "article-journal",
     "volume": "14"
    },
    "2272257/JI4AW6KJ": {
     "author": [
      {
       "family": "Benoist",
       "given": "Stéphane"
      }
     ],
     "collection-title": "Collection Latomus; 248",
     "event-place": "Bruxelles",
     "id": "2272257/JI4AW6KJ",
     "issued": {
      "year": 1999
     },
     "language": "French",
     "publisher": "Latomus",
     "publisher-place": "Bruxelles",
     "shortTitle": "La fête à Rome au premier siècle de l'Empire",
     "title": "La fête à Rome au premier siècle de l'Empire : recherches sur l'univers festif sous les règnes d'Auguste et des Julio-Claudiens",
     "title-short": "La fête à Rome au premier siècle de l'Empire",
     "type": "book"
    },
    "2272257/JKICPWBT": {
     "author": [
      {
       "family": "Nicolet",
       "given": "Claude"
      }
     ],
     "event-place": "Paris",
     "id": "2272257/JKICPWBT",
     "issued": {
      "year": 1976
     },
     "language": "français",
     "number-of-pages": "535",
     "publisher": "Gallimard",
     "publisher-place": "Paris",
     "title": "Le métier de citoyen dans la Rome républicaine",
     "type": "book"
    },
    "2272257/JQ9KBZU3": {
     "ISBN": "978-0-674-99355-6",
     "collection-number": "322",
     "collection-title": "The Loeb classical library",
     "editor": [
      {
       "family": "Jackson",
       "given": "John"
      }
     ],
     "event-place": "Cambridge (Mass.)",
     "id": "2272257/JQ9KBZU3",
     "issued": {
      "year": 2006
     },
     "language": "lat eng",
     "number-of-pages": "423",
     "publisher": "Harvard University Press",
     "publisher-place": "Cambridge (Mass.)",
     "shortTitle": "Tacitus. 5",
     "title": "Tacitus. 5: The Annals, books XIII - XVI",
     "title-short": "Tacitus. 5",
     "type": "book"
    },
    "2272257/KDF6Q3G8": {
     "author": [
      {
       "family": "Fraschetti",
       "given": "Augusto"
      }
     ],
     "collection-title": "L'Antiquité au présent",
     "event-place": "Paris",
     "id": "2272257/KDF6Q3G8",
     "issued": {
      "year": 1994
     },
     "language": "French",
     "publisher": "Belin",
     "publisher-place": "Paris",
     "title": "Rome et le prince",
     "translator": [
      {
       "family": "Jolivet",
       "given": "Vincent"
      }
     ],
     "type": "book"
    },
    "2272257/KPWN2IZW": {
     "ISBN": "0-8018-7731-8",
     "author": [
      {
       "family": "Aldrete",
       "given": "Gregory S."
      }
     ],
     "event-place": "Baltimore",
     "id": "2272257/KPWN2IZW",
     "issued": {
      "year": 1999
     },
     "language": "anglais",
     "number-of-pages": "227",
     "publisher": "John Hopkins University Press",
     "publisher-place": "Baltimore",
     "title": "Gestures and Acclamations in Ancient Rome",
     "type": "book"
    },
    "2272257/LDG48K6F": {
     "ISBN": "978-1-4724-6207-7 978-1-315-60515-9",
     "author": [
      {
       "family": "Logghe",
       "given": "Loonis"
      }
     ],
     "container-title": "Mass and Elite in the Greek and Roman Worlds: from Sparta to Late Antiquity",
     "editor": [
      {
       "family": "Evans",
       "given": "Richard J."
      }
     ],
     "event-place": "Londres",
     "id": "2272257/LDG48K6F",
     "issued": {
      "year": 2017
     },
     "language": "eng",
     "note": "OCLC: 958005841",
     "page": "63-81",
     "page-first": "63",
     "publisher": "Routledge, Taylor & Francis Group",
     "publisher-place": "Londres",
     "title": "Plebeian Agency in the Later Roman Republic",
     "type": "chapter"
    },
    "2272257/M7SXKH85": {
     "URL": "http://www.cairn.info/revue-annales-2014-3-page-605.htm",
     "accessed": {
      "day": 30,
      "month": 11,
      "year": 2019
     },
     "author": [
      {
       "family": "Azoulay",
       "given": "Vincent"
      }
     ],
     "container-title": "Annales. Histoire, Sciences Sociales",
     "id": "2272257/M7SXKH85",
     "issue": "3",
     "issued": {
      "year": 2014
     },
     "language": "fr",
     "page": "605-626",
     "page-first": "605",
     "title": "Repenser le politique en Grèce ancienne",
     "type": "article-journal",
     "volume": "69"
    },
    "2272257/MPNW4NSX": {
     "ISBN": "978-2-8073-0563-2",
     "author": [
      {
       "family": "Poudat",
       "given": "Céline"
      },
      {
       "family": "Landragin",
       "given": "Frédéric"
      }
     ],
     "collection-title": "Champs linguistiques. Recherches",
     "event-place": "Paris",
     "id": "2272257/MPNW4NSX",
     "issued": {
      "year": 2017
     },
     "language": "fre",
     "number-of-pages": "239",
     "publisher": "De Boeck supérieur",
     "publisher-place": "Paris",
     "shortTitle": "Explorer un corpus textuel",
     "title": "Explorer un corpus textuel: méthodes, pratiques, outils",
     "title-short": "Explorer un corpus textuel",
     "type": "book"
    },
    "2272257/NCMIITUA": {
     "ISBN": "978-1-00-300514-8",
     "abstract": "\"If Ancient history is particularly susceptible to a top-down approach, due to the nature of our evidence and its traditional exploitation by modern scholars, another ancient history - 'from below'- is actually possible. This volume examines the possibilities and challenges involved in writing it. Despite undeniable advances in recent decades, 'our slowness to reconstruct plausible visions of almost any aspect of society beyond the top-most strata of wealth, power or status' (as Nicholas Purcell has put it) remains a persistent feature of the field. Therefore, this book concerns a historical field and social groups that are still today neglected by modern scholarship. However, writing ancient history 'from below' means much more than taking into account the anonymous masses, the subaltern classes, the non-elites. Our task is also, in the felicitous expression coined by Walter Benjamin, 'to brush history against the grain,' to rescue the viewpoint of the subordinated, the traditions of the oppressed. In other words, we should understand the bulk of ancient populations in light of their own experience and their own reactions to that experience. But, how do we do such a history? What sources can we use? What methods and approaches can we employ? What concepts are required to this endeavour? The contributions mainly engage with questions of theory and methodology, but they also constitute inspiring case-studies in their own right, ranging from classical Greece to the late antique world. This book is aimed not only at readers working on classical Greece, republican and imperial Rome and late antiquity, but to anyone interested in 'bottom-up' history, and social and population history in general. Although the book is primarily intended for scholars, it will also appeal to graduate and undergraduate students of history, archaeology, and classical studies\"--",
     "call-number": "HN9",
     "collection-title": "Routledge monographs in classical studies",
     "editor": [
      {
       "family": "Courrier",
       "given": "Cyril"
      },
      {
       "family": "Oliveira",
       "given": "Julio Cesar Magalhães de"
      }
     ],
     "event-place": "New York",
     "id": "2272257/NCMIITUA",
     "issued": {
      "year": 2021
     },
     "note": "Meeting Name: Ancient History From Below : Possibilities and Challenges (Conference)",
     "publisher": "Routledge Taylor & Francis Ltd",
     "publisher-place": "New York",
     "shortTitle": "Ancient History from Below",
     "title": "Ancient History from Below: Subaltern Experiences and Actions in Context",
     "title-short": "Ancient History from Below",
     "type": "book"
    },
    "2272257/NRC8PUDL": {
     "URL": "https://www-cairn-info.acces.bibliotheque-diderot.fr/signification-du-langage--9782130448839-page-157.htm",
     "accessed": {
      "day": 23,
      "month": 4,
      "year": 2021
     },
     "author": [
      {
       "family": "Champagnol",
       "given": "Raymond"
      }
     ],
     "collection-title": "Psychologie d'aujourd'hui",
     "container-title": "Signification du langage",
     "editor": [
      {
       "family": "Champagnol",
       "given": "Raymond"
      }
     ],
     "event-place": "Paris",
     "id": "2272257/NRC8PUDL",
     "issued": {
      "year": 1993
     },
     "language": "fr",
     "note": "ISBN: 9782130448839\nPublisher: Presses Universitaires de France",
     "page": "157-168",
     "page-first": "157",
     "publisher": "Presses Universitaires de France",
     "publisher-place": "Paris",
     "title": "Théories des traits sémantiques",
     "type": "chapter"
    },
    "2272257/NWVDMXYS": {
     "abstract": "L’étude historique du phénomène de la rumeur à Rome, récemment renouvelée grâce aux apports\nde la sociologie et progressivement débarrassée de son orientation psycho-pathologique, n’est pas encore parfaitement parvenue à interroger le lien entre rumeur et crise tel qu’il apparaît dans les sources littéraires. Tel\nest l’objectif du présent article, qui se concentre sur le I\n\ner et le IIe siècles du principat. Pour déconstruire le lien\nrumeur/crise, nous cherchons à montrer qu’il est produit par une utilisation à la fois trop exclusive et trop réductrice\nde Tacite, notre source principale pour cette période. Dans un premier temps, nous analysons le rôle des rumeurs\ndans la dramatisation du récit tacitéen, qui associe le phénomène aux moments de forte tension, donnant ainsi l’illusion d’une corrélation. Dans un deuxième temps, nous nous penchons sur les rumeurs non dramatisées chez\ncet auteur et soulignons qu’elles ont à voir avec des thématiques souvent très éloignées de l’instabilité politique. Dans un troisième temps, nous complétons l’image du phénomène en utilisant des sources contemporaines, mais\nnon historiographiques (poésie, roman, déclamations, documents épigraphiques) et jusqu’à présent laissées dans l’ombre : celles-ci dessinent les contours d’un fait social routinier par sa temporalité, ses espaces et ses thèmes.",
     "author": [
      {
       "family": "Autin",
       "given": "Louis"
      }
     ],
     "container-title": "Cahiers du Centre Gustave-Glotz",
     "container-title-short": "CCGG",
     "id": "2272257/NWVDMXYS",
     "issued": {
      "year": 2020
     },
     "journalAbbreviation": "CCGG",
     "title": "Rumeur et crise aux Ier et IIe siècles apr. J.-C. : sur la valeur historique d’un motif littéraire",
     "type": "article-journal",
     "volume": "30"
    },
    "2272257/PD4RDJUX": {
     "abstract": "In più casi le abitudini e la vita sociale della popolazione portarono a una graduale modifica dello spazio urbano nelle città romane",
     "author": [
      {
       "family": "Gros",
       "given": "Pierre"
      }
     ],
     "container-title": "Popolo e potere nel mondo antico",
     "editor": [
      {
       "family": "Urso",
       "given": "Gianpaolo"
      }
     ],
     "event-place": "Pise",
     "id": "2272257/PD4RDJUX",
     "issued": {
      "year": 2005
     },
     "language": "French",
     "page": "191-214",
     "page-first": "191",
     "publisher": "ETS",
     "publisher-place": "Pise",
     "title": "Le rôle du peuple de Rome dans la définition, l'organisation et le déplacement des lieux de la convergence sous l'Empire",
     "type": "chapter"
    },
    "2272257/PXAH9SAX": {
     "ISBN": "978-2-503-54646-9",
     "abstract": "Compared to the scholarly interest on popular politics in Classical Greece or Republican Rome, the study of the urban plebs of the Later Roman Empire has been remarkably neglected, despite the recurrent discussions about urban violence in the period. This book is an attempt to reverse this situation for the particular context of the North African provinces, from the beginning of the fourth century to the Vandal conquest. Its main objective is to understand the forms and conditions of popular participation and collective action in the cities of North Africa, by placing them in the broader context of economic activities, social relations, and cultural traditions of the plebs. In order to explore the logic inherent in each crowd action, the author analyses a number of episodes of popular intervention revealed by 4th- and 5th-centuries ecclesiastical sources, and particularly by the sermons and letters of Saint Augustine",
     "author": [
      {
       "family": "Magalhães de Oliveira",
       "given": "Julio Cesar"
      }
     ],
     "event-place": "Turnhout",
     "id": "2272257/PXAH9SAX",
     "issued": {
      "year": 2012
     },
     "language": "français",
     "number-of-pages": "378",
     "publisher": "Brepols",
     "publisher-place": "Turnhout",
     "shortTitle": "Potestas populi",
     "title": "Potestas populi : participation populaire et action collective dans les villes de l'Afrique romaine tardive (vers 300-430 apr. J.-C.)",
     "title-short": "Potestas populi",
     "type": "book"
    },
    "2272257/R4D2I72H": {
     "author": [
      {
       "family": "Laser",
       "given": "Günter"
      }
     ],
     "event-place": "Trêves",
     "id": "2272257/R4D2I72H",
     "issued": {
      "year": 1997
     },
     "publisher": "Wissenschaftlicher Verlag Trier",
     "publisher-place": "Trêves",
     "shortTitle": "Populo et scaenae serviendum est",
     "title": "Populo et scaenae serviendum est: die Bedeutung der städtischen Masse in der späten römischen Republik",
     "title-short": "Populo et scaenae serviendum est",
     "type": "book"
    },
    "2272257/S3N9BDMT": {
     "author": [
      {
       "family": "Autin",
       "given": "Louis"
      }
     ],
     "event-place": "Grenoble",
     "id": "2272257/S3N9BDMT",
     "issued": {
      "year": 2019
     },
     "language": "fr",
     "number-of-pages": "850",
     "publisher": "Université Grenoble Alpes ; Universität Osnabrück",
     "publisher-place": "Grenoble",
     "title": "Voix de la foule chez Tacite : perspectives littéraires et historiques sur la communication collective au début de l'Empire",
     "type": "thesis"
    },
    "2272257/S4FGYPRX": {
     "ISBN": "978-3-486-56195-1",
     "author": [
      {
       "family": "Winterling",
       "given": "Aloys"
      }
     ],
     "call-number": "DG276 .W56 1999",
     "event-place": "Munich",
     "id": "2272257/S4FGYPRX",
     "issued": {
      "year": 1999
     },
     "number-of-pages": "283",
     "publisher": "Rudolf Oldenbourg",
     "publisher-place": "Munich",
     "shortTitle": "Aula Caesaris",
     "title": "Aula Caesaris: Studien zur Institutionalisierung des römischen Kaiserhofes in der Zeit von Augustus bis Commodus (31 v. Chr.-192 n. Chr.)",
     "title-short": "Aula Caesaris",
     "type": "book"
    },
    "2272257/S7VZT2RU": {
     "ISBN": "978-0-7456-4309-0 978-0-7456-4310-6",
     "author": [
      {
       "family": "Toner",
       "given": "Jerry P."
      }
     ],
     "call-number": "DG78 .T657 2009",
     "event-place": "Cambridge",
     "id": "2272257/S7VZT2RU",
     "issued": {
      "year": 2009
     },
     "note": "OCLC: ocn320316167",
     "number-of-pages": "253",
     "publisher": "Polity",
     "publisher-place": "Cambridge",
     "title": "Popular Culture in Ancient Rome",
     "type": "book"
    },
    "2272257/S9QDUBZU": {
     "ISBN": "978-2-252-03359-3",
     "author": [
      {
       "family": "Ernout",
       "given": "Alfred"
      },
      {
       "family": "Meillet",
       "given": "Antoine"
      }
     ],
     "editor": [
      {
       "family": "André",
       "given": "Jacques"
      }
     ],
     "event-place": "Paris",
     "id": "2272257/S9QDUBZU",
     "issued": {
      "year": 2001
     },
     "language": "français, latin",
     "number-of-pages": "883",
     "publisher": "Klincksieck",
     "publisher-place": "Paris",
     "shortTitle": "Dictionnaire étymologique de la langue latine",
     "title": "Dictionnaire étymologique de la langue latine: histoire des mots",
     "title-short": "Dictionnaire étymologique de la langue latine",
     "type": "book"
    },
    "2272257/SB49I6HR": {
     "ISBN": "978-0-674-99039-5",
     "collection-number": "35",
     "collection-title": "The Loeb classical library",
     "editor": [
      {
       "family": "Hutton",
       "given": "Maurice"
      },
      {
       "family": "Ogilvie",
       "given": "Robert Maxwell"
      },
      {
       "family": "Warmington",
       "given": "Eric Herbert"
      },
      {
       "family": "Winterbottom",
       "given": "Michael"
      }
     ],
     "event-place": "Cambridge (Mass.)",
     "id": "2272257/SB49I6HR",
     "issued": {
      "year": 2006
     },
     "language": "eng lat",
     "number-of-pages": "357",
     "publisher": "Harvard University Press",
     "publisher-place": "Cambridge (Mass.)",
     "shortTitle": "Tacitus. 1",
     "title": "Tacitus. 1: Agricola. Germania. Dialogue on Oratory",
     "title-short": "Tacitus. 1",
     "type": "book"
    },
    "2272257/SG5E8L26": {
     "DOI": "10.2307/20546965",
     "URL": "https://www.jstor.org/stable/20546965",
     "accessed": {
      "day": 10,
      "month": 5,
      "year": 2021
     },
     "author": [
      {
       "family": "Meijer",
       "given": "P. A."
      }
     ],
     "container-title": "Quaderni Urbinati di Cultura Classica",
     "id": "2272257/SG5E8L26",
     "issue": "3",
     "issued": {
      "year": 1988
     },
     "note": "Publisher: Fabrizio Serra editore",
     "page": "61-76",
     "page-first": "61",
     "title": "Stoicism in Plotinus' \"Enneads\" VI 9,1",
     "type": "article-journal",
     "volume": "30"
    },
    "2272257/U8PJH2ZE": {
     "ISBN": "978-0-470-99845-8",
     "URL": "https://onlinelibrary.wiley.com/doi/abs/10.1002/9780470998458.ch8",
     "abstract": "This chapter contains section titled: The Challenge of Crowd Psychology Classic Models of the Crowd Models of Crowd Sociality Conclusion",
     "accessed": {
      "day": 2,
      "month": 7,
      "year": 2019
     },
     "author": [
      {
       "family": "Reicher",
       "given": "Stephen"
      }
     ],
     "container-title": "Blackwell Handbook of Social Psychology: Group Processes",
     "editor": [
      {
       "family": "Hogg",
       "given": "Michael A."
      },
      {
       "family": "Tindale",
       "given": "R. Scott"
      }
     ],
     "event-place": "Malden",
     "id": "2272257/U8PJH2ZE",
     "issued": {
      "year": 2001
     },
     "language": "en",
     "note": "DOI: 10.1002/9780470998458.ch8",
     "page": "182-208",
     "page-first": "182",
     "publisher": "Blackwell",
     "publisher-place": "Malden",
     "title": "The Psychology of Crowd Dynamics",
     "type": "chapter"
    },
    "2272257/UYLXPK28": {
     "ISBN": "978-90-04-25904-1",
     "abstract": "\"Die politische Rolle der stadtrömischen Plebs in der Kaiserzeit engages with the topical question of the political role of the Roman plebs in the imperial period and seeks to reconstruct how it may have looked in practice and how it can be defined. Detailed source criticism of Tacitus, Suetonius, Dio Cassius, and others demonstrates that the passages thematizing citizens are primarily narrative in function. This approach further sharpens our understanding of the plebs' actual historical actions both regarding their causes, forms, and extent, as well as their attitude towards the emperors. This reappraisal allows for new insights and corrects numerous prior assessments, especially with regard to the function assigned the plebs as part of the so-called 'system of acceptance'\"--Provided by publisher",
     "author": [
      {
       "family": "Kröss",
       "given": "Katja"
      }
     ],
     "call-number": "DG83.3 .K76 2017",
     "collection-number": "24",
     "collection-title": "Impact of empire : Roman Empire, c. 200 B.C.-A.D. 476",
     "event-place": "Leiden ; Boston",
     "id": "2272257/UYLXPK28",
     "issued": {
      "year": 2017
     },
     "number-of-pages": "366",
     "publisher": "Brill",
     "publisher-place": "Leiden ; Boston",
     "title": "Die politische Rolle der stadtrömischen Plebs in der Kaiserzeit",
     "type": "book"
    },
    "2272257/VCK2H5F3": {
     "author": [
      {
       "family": "Courrier",
       "given": "Cyril"
      }
     ],
     "collection-number": "27",
     "collection-title": "Impact of Empire",
     "container-title": "Political Communication in the Roman World",
     "editor": [
      {
       "family": "Rosillo-López",
       "given": "Cristina"
      }
     ],
     "event-place": "Leiden ; Boston",
     "id": "2272257/VCK2H5F3",
     "issued": {
      "year": 2017
     },
     "page": "139-164",
     "page-first": "139",
     "publisher": "Brill",
     "publisher-place": "Leiden ; Boston",
     "title": "The Roman Plebs and Rumour: Social Interactions and Political Communication in the Early Principate",
     "type": "chapter"
    },
    "2272257/WAUP5M68": {
     "ISBN": "978-0-674-99123-1",
     "collection-number": "111",
     "collection-title": "The Loeb classical library",
     "editor": [
      {
       "family": "Moore",
       "given": "Clifford Herschel"
      }
     ],
     "event-place": "Cambridge (Mass.)",
     "id": "2272257/WAUP5M68",
     "issued": {
      "year": 2006
     },
     "language": "lat eng",
     "number-of-pages": "479",
     "publisher": "Harvard University Press",
     "publisher-place": "Cambridge (Mass.)",
     "shortTitle": "Tacitus. 2",
     "title": "Tacitus. 2: The Histories, books I - III",
     "title-short": "Tacitus. 2",
     "type": "book"
    },
    "2272257/WMWGITW8": {
     "author": [
      {
       "family": "Syme",
       "given": "Ronald"
      }
     ],
     "event-place": "Oxford",
     "id": "2272257/WMWGITW8",
     "issued": {
      "year": 1958
     },
     "language": "anglais",
     "number-of-pages": "856",
     "number-of-volumes": "2",
     "publisher": "Clarendon Press",
     "publisher-place": "Oxford",
     "title": "Tacitus",
     "type": "book"
    },
    "2272257/XFXQMRFZ": {
     "ISBN": "978-1-108-30368-2",
     "URL": "https://doi.org/10.1017/9781108303682",
     "abstract": "Book 4 of Tacitus' Annals, described by Sir Ronald Syme as 'the best that Tacitus ever wrote', covers the years AD 23-28, the pivotal period in the principate of the emperor Tiberius. Under the malign influence of Sejanus, the henchman who duped him and was loaded with honours, Tiberius withdrew to the island of Capri and was never again seen in Rome, where the treason trials engendered an atmosphere of terror. The volume presents a new text of Book 4, as well as a full commentary on the text, covering textual, literary, linguistic and historical matters. The introduction discusses the relationship between Tacitus and Sallust. The volume completes the sequence which began with commentary on Books 1 and 2 of the Annals by F. R. D. Goodyear (1972, 1981) and was continued by commentary on Book 3 by A. J. Woodman and R. H. Martin (1996) and on Books 5-6 by A. J. Woodman (2016).",
     "accessed": {
      "day": 7,
      "month": 2,
      "year": 2019
     },
     "editor": [
      {
       "family": "Woodman",
       "given": "Anthony John"
      }
     ],
     "event-place": "Cambridge",
     "id": "2272257/XFXQMRFZ",
     "issued": {
      "year": 2018
     },
     "language": "Latin",
     "note": "OCLC: 1053817905",
     "publisher": "Cambridge University Press",
     "publisher-place": "Cambridge",
     "title": "The Annals of Tacitus: Book 4",
     "type": "book"
    },
    "2272257/XG6NW36A": {
     "author": [
      {
       "family": "Autin",
       "given": "Louis"
      },
      {
       "family": "Bouzidi",
       "given": "Kamel"
      },
      {
       "family": "Kraif",
       "given": "Olivier"
      },
      {
       "family": "Sorba",
       "given": "Julie"
      }
     ],
     "container-title": "Statistical Analysis of Textual Data. Proceedings of 13th International Conference on Statistical Analysis of Textual Data. 7-10 June 2016 - Nice",
     "editor": [
      {
       "family": "Mayaffre",
       "given": "Damon"
      },
      {
       "family": "Poudat",
       "given": "Céline"
      },
      {
       "family": "Vanni",
       "given": "Laurent"
      },
      {
       "family": "Magri",
       "given": "Véronique"
      },
      {
       "family": "Follette",
       "given": "Peter"
      }
     ],
     "event-place": "Nice",
     "id": "2272257/XG6NW36A",
     "issued": {
      "year": 2016
     },
     "language": "français",
     "number-of-volumes": "2",
     "page": "389-400",
     "page-first": "389",
     "publisher": "CNRS - Université Nice Sophia Antipolis",
     "publisher-place": "Nice",
     "shortTitle": "Statistical Analysis of Textual Data",
     "title": "Sine nomine uulgus : étude des profils combinatoires des noms de la foule à partir d'un corpus arboré latin",
     "title-short": "Statistical Analysis of Textual Data",
     "type": "chapter",
     "volume": "1"
    },
    "2272257/XKUU8YH5": {
     "author": [
      {
       "family": "Longrée",
       "given": "Dominique"
      },
      {
       "family": "Philippart de Foy",
       "given": "Caroline"
      },
      {
       "family": "Purnelle",
       "given": "Gérald"
      }
     ],
     "container-title": "JADT 2010 - Statistical Analysis of Textual Data. Proceedings of 10th International Conference JADT - June 6-11th 2010 - Sapienza University of Rome",
     "editor": [
      {
       "family": "Bolasco",
       "given": "Sergio"
      },
      {
       "family": "Chiari",
       "given": "Céline"
      },
      {
       "family": "Giuliano",
       "given": "Luca"
      }
     ],
     "event-place": "Rome",
     "id": "2272257/XKUU8YH5",
     "issued": {
      "year": 2010
     },
     "language": "français",
     "number-of-volumes": "2",
     "page": "433-441",
     "page-first": "433",
     "publisher": "LED-Edizioni universitarie di Lettere, Economia, Diritto",
     "publisher-place": "Rome",
     "shortTitle": "Statistical Analysis of Textual Data",
     "title": "Structures phrastiques et analyse automatique des données morphosyntaxiques : le projet LatSynt",
     "title-short": "Statistical Analysis of Textual Data",
     "type": "chapter",
     "volume": "1"
    },
    "2272257/YPJSITQA": {
     "DOI": "10.4000/corpus.4505",
     "URL": "http://journals.openedition.org/corpus/4505",
     "abstract": "Dans le domaine de l’analyse des données textuelles (ADT), les chercheurs s’intéressent à la relation entre le texte et son support d’exploration. Ces dernières années, l’évolution de l’informatique a profondément modifié notre rapport au texte induisant le développement de nouveaux outils d’étude et critères d’analyse. Dans ce contexte théorique, le concept de lecture polyangulaire permet de compléter les notions de lectures linéaire, réticulaire ou matricielle. Cette approche du texte est devenue possible grâce aux outils d’édition de corpus toujours plus performants proposés par les logiciels de traitement automatique des textes, tel Hyperbase Web Édition. Les fondements de la lecture polyangulaire reposent à fois sur les techniques de corpus based et de corpus driven. Elle vise à multiplier les partitionnements de corpus afin de faire émerger aussi précisément que possible la trame du tissu textuel. Cette nouvelle méthode est ensuite illustrée par deux exemples issus des bases latines diffusées par le LASLA de l’Université de Liège.",
     "accessed": {
      "day": 23,
      "month": 4,
      "year": 2021
     },
     "author": [
      {
       "family": "Fantoli",
       "given": "Margherita"
      },
      {
       "family": "Vandersmissen",
       "given": "Marc"
      }
     ],
     "container-title": "Corpus",
     "id": "2272257/YPJSITQA",
     "issue": "19",
     "issued": {
      "year": 2019
     },
     "language": "fr",
     "note": "Number: 19\nPublisher: Bases, corpus et langage - UMR 6039",
     "shortTitle": "Partitionnements multiples de corpus",
     "title": "Partitionnements multiples de corpus : une lecture polyangulaire ? L’exemple des bases latines du LASLA",
     "title-short": "Partitionnements multiples de corpus",
     "type": "article-journal"
    },
    "2272257/ZPJB3U77": {
     "DOI": "10.4000/corpus.2202",
     "URL": "http://journals.openedition.org/corpus/2202",
     "abstract": "Cet article discute de la notion de colligation et de ses rapports avec la collocation grammaticale. En faisant référence à Bally, Jespersen et Firth, il s’agit de souligner les différences entre collocation et colligation et de contextualiser ces différences dans les perspectives contemporaines en phraséologie. L’article s’intéresse également à quelques « incarnations » des unités collocationnelles ou/et colligationnelles : les cadres collocationnels d’A. Renouf et J. Sinclair, et les « motifs » grammaticaux. Ces derniers forment une catégorie dont l’article illustre la pertinence par un ensemble d’exemples, parmi lesquels certains motifs spécifiques du genre poétique, dont on souligne les fonctions intertextuelles.",
     "accessed": {
      "day": 10,
      "month": 5,
      "year": 2021
     },
     "author": [
      {
       "family": "Legallois",
       "given": "Dominique"
      }
     ],
     "container-title": "Corpus",
     "id": "2272257/ZPJB3U77",
     "issue": "11",
     "issued": {
      "year": 2012
     },
     "language": "fr",
     "note": "Number: 11\nPublisher: Bases, corpus et langage - UMR 6039",
     "shortTitle": "La colligation",
     "title": "La colligation : autre nom de la collocation grammaticale ou autre logique de la relation mutuelle entre syntaxe et sémantique ?",
     "title-short": "La colligation",
     "type": "article-journal"
    },
    "2272257/ZQC85KSJ": {
     "ISBN": "3-593-34639-7",
     "author": [
      {
       "family": "Flaig",
       "given": "Egon"
      }
     ],
     "event-place": "Francfort/Main",
     "id": "2272257/ZQC85KSJ",
     "issued": {
      "year": 1992
     },
     "language": "allemand",
     "number-of-pages": "605",
     "publisher": "Campus Verlag",
     "publisher-place": "Francfort/Main",
     "shortTitle": "Den Kaiser herausfordern",
     "title": "Den Kaiser herausfordern: die Usurpation im Römischen Reich",
     "title-short": "Den Kaiser herausfordern",
     "type": "book"
    },
    "2272257/ZRNV65AA": {
     "author": [
      {
       "family": "Millar",
       "given": "Fergus"
      }
     ],
     "event-place": "Ann Arbor",
     "id": "2272257/ZRNV65AA",
     "issued": {
      "year": 1998
     },
     "publisher": "University of Michigan Press",
     "publisher-place": "Ann Arbor",
     "title": "The Crowd in Rome in the Late Republic",
     "type": "book"
    },
    "2272257/ZXRJDEUD": {
     "author": [
      {
       "family": "Mouchová",
       "given": "Bohumila"
      }
     ],
     "container-title": "Acta Universitatis Carolinae. Graecolatina Pragensia",
     "container-title-short": "GLP",
     "id": "2272257/ZXRJDEUD",
     "issued": {
      "year": 1991
     },
     "journalAbbreviation": "GLP",
     "page": "87-101",
     "page-first": "87",
     "title": "Die Ausdrücke \"populus\", \"plebs\" und \"uulgus\" bei Sueton",
     "type": "article-journal",
     "volume": "13"
    },
    "8918850/MJDNNQK6": {
     "ISBN": "978-2-36405-122-5",
     "abstract": "Les humanités digitales se situent à la croisée de l informatique, des arts, des lettres et des sciences humaines et sociales. Elles s enracinent dans un mouvement en faveur de la diffusion, du partage et de la valorisation du savoir. Avec leur apparition, les universités, les lieux de savoir et les chercheurs vivent une transformation importante de leur mode de travail. Cela entraîne une évolution des compétences et des pratiques. Cet ouvrage explique les origines des humanités digitales et ses évolutions. Il décrit leurs réussites, leurs potentialités, leur rapport à la technique et comment elles transforment les sciences humaines, la recherche et l enseignement. Il examine les enjeux des nouveaux formats, modes de lecture, et des outils de communication et de visualisation. Ce livre permet d aller plus loin dans vos pratiques et vos réflexions. Le temps des humanités digitales est venu !",
     "author": [
      {
       "family": "Clavert",
       "given": "Frédéric"
      }
     ],
     "container-title": "Le temps des humanités digitales",
     "editor": [
      {
       "family": "Le Deuff",
       "given": "Olivier"
      }
     ],
     "id": "8918850/MJDNNQK6",
     "issued": {
      "season": "décembre",
      "year": 2014
     },
     "language": "Français",
     "publisher": "FYP EDITIONS",
     "title": "Vers de nouveaux modes de lecture des sources",
     "type": "chapter"
    },
    "undefined": {
     "ISBN": "978-2-252-03359-3",
     "author": [
      {
       "family": "Ernout",
       "given": "Alfred"
      },
      {
       "family": "Meillet",
       "given": "Antoine"
      }
     ],
     "editor": [
      {
       "family": "André",
       "given": "Jacques"
      }
     ],
     "event-place": "Paris",
     "id": "undefined",
     "issued": {
      "year": 2001
     },
     "language": "français, latin",
     "number-of-pages": "883",
     "publisher": "Klincksieck",
     "publisher-place": "Paris",
     "shortTitle": "Dictionnaire étymologique de la langue latine",
     "title": "Dictionnaire étymologique de la langue latine: histoire des mots",
     "title-short": "Dictionnaire étymologique de la langue latine",
     "type": "book"
    }
   }
  },
  "kernelspec": {
   "display_name": "Python 3",
   "language": "python",
   "name": "python3"
  },
  "language_info": {
   "codemirror_mode": {
    "name": "ipython",
    "version": 3
   },
   "file_extension": ".py",
   "mimetype": "text/x-python",
   "name": "python",
   "nbconvert_exporter": "python",
   "pygments_lexer": "ipython3",
   "version": "3.7.10"
  },
  "toc": {
   "base_numbering": 1,
   "nav_menu": {
    "height": "517px",
    "width": "439px"
   },
   "number_sections": false,
   "sideBar": true,
   "skip_h1_title": false,
   "title_cell": "Table of Contents",
   "title_sidebar": "Contents",
   "toc_cell": false,
   "toc_position": {},
   "toc_section_display": true,
   "toc_window_display": true
  },
  "varInspector": {
   "cols": {
    "lenName": 16,
    "lenType": 16,
    "lenVar": 40
   },
   "kernels_config": {
    "python": {
     "delete_cmd_postfix": "",
     "delete_cmd_prefix": "del ",
     "library": "var_list.py",
     "varRefreshCmd": "print(var_dic_list())"
    },
    "r": {
     "delete_cmd_postfix": ") ",
     "delete_cmd_prefix": "rm(",
     "library": "var_list.r",
     "varRefreshCmd": "cat(var_dic_list()) "
    }
   },
   "types_to_exclude": [
    "module",
    "function",
    "builtin_function_or_method",
    "instance",
    "_Feature"
   ],
   "window_display": false
  }
 },
 "nbformat": 4,
 "nbformat_minor": 5
}
